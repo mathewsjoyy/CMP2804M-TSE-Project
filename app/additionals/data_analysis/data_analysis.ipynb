{
 "cells": [
  {
   "cell_type": "code",
   "execution_count": 3,
   "metadata": {},
   "outputs": [
    {
     "data": {
      "text/html": [
       "        <script type=\"text/javascript\">\n",
       "        window.PlotlyConfig = {MathJaxConfig: 'local'};\n",
       "        if (window.MathJax) {MathJax.Hub.Config({SVG: {font: \"STIX-Web\"}});}\n",
       "        if (typeof require !== 'undefined') {\n",
       "        require.undef(\"plotly\");\n",
       "        requirejs.config({\n",
       "            paths: {\n",
       "                'plotly': ['https://cdn.plot.ly/plotly-latest.min']\n",
       "            }\n",
       "        });\n",
       "        require(['plotly'], function(Plotly) {\n",
       "            window._Plotly = Plotly;\n",
       "        });\n",
       "        }\n",
       "        </script>\n",
       "        "
      ]
     },
     "metadata": {},
     "output_type": "display_data"
    },
    {
     "data": {
      "text/html": [
       "        <script type=\"text/javascript\">\n",
       "        window.PlotlyConfig = {MathJaxConfig: 'local'};\n",
       "        if (window.MathJax) {MathJax.Hub.Config({SVG: {font: \"STIX-Web\"}});}\n",
       "        if (typeof require !== 'undefined') {\n",
       "        require.undef(\"plotly\");\n",
       "        requirejs.config({\n",
       "            paths: {\n",
       "                'plotly': ['https://cdn.plot.ly/plotly-latest.min']\n",
       "            }\n",
       "        });\n",
       "        require(['plotly'], function(Plotly) {\n",
       "            window._Plotly = Plotly;\n",
       "        });\n",
       "        }\n",
       "        </script>\n",
       "        "
      ]
     },
     "metadata": {},
     "output_type": "display_data"
    }
   ],
   "source": [
    "import pandas as pd \n",
    "import numpy as np\n",
    "import seaborn as sns\n",
    "import plotly.express as px\n",
    "import cufflinks as cf\n",
    "import psycopg2 as pg\n",
    "import statsmodels.api as sm\n",
    "from wordcloud import WordCloud, STOPWORDS\n",
    "import matplotlib.pyplot as plt\n",
    "import numpy as np\n",
    "from PIL import Image\n",
    "import chart_studio\n",
    "\n",
    "# Display plots in Jupyter Notebook\n",
    "%matplotlib inline\n",
    "\n",
    "# Allow plotly to work in jupyter notebook\n",
    "from plotly.offline import download_plotlyjs, init_notebook_mode, iplot, plot\n",
    "init_notebook_mode(connected=True)\n",
    "cf.go_offline()"
   ]
  },
  {
   "cell_type": "code",
   "execution_count": 4,
   "metadata": {},
   "outputs": [],
   "source": [
    "# Establish connection with plotly chart studio\n",
    "from dotenv import load_dotenv, find_dotenv\n",
    "load_dotenv(find_dotenv())\n",
    "\n",
    "PLOTLY_USER = os.environ.get(\"PLOTLY_USERNAME\")\n",
    "\n",
    "# (If this throws and error) Plotly site > Login > Account > API Key > Regenerate API Key\n",
    "PLOTLY_API = os.environ.get(\"PLOTLY_API_KEY\")\n",
    "\n",
    "# Set the credentials\n",
    "chart_studio.tools.set_credentials_file(username=PLOTLY_USER, api_key=PLOTLY_API)\n",
    "\n",
    "import chart_studio.plotly as py\n",
    "import chart_studio.tools as tls"
   ]
  },
  {
   "cell_type": "code",
   "execution_count": 5,
   "metadata": {},
   "outputs": [],
   "source": [
    "# Connect to PostGre DB\n",
    "from dotenv import load_dotenv, find_dotenv\n",
    "load_dotenv(find_dotenv())\n",
    "\n",
    "# Connect to PostGre DB\n",
    "engine = pg.connect(database='dfd9h7b5lvjt7g', user='whiazhrvmgwffw', host='ec2-52-48-159-67.eu-west-1.compute.amazonaws.com',\n",
    "                    port='5432', password=os.environ.get('PROD_DATABASE_PASS'), sslmode='require')\n",
    "\n",
    "# Gather all data and store into a pandas dataframe to be used for analysis\n",
    "df = pd.read_sql('select * from reviews', engine)\n",
    "engine.close()"
   ]
  },
  {
   "cell_type": "code",
   "execution_count": 6,
   "metadata": {},
   "outputs": [
    {
     "data": {
      "text/html": [
       "<div>\n",
       "<style scoped>\n",
       "    .dataframe tbody tr th:only-of-type {\n",
       "        vertical-align: middle;\n",
       "    }\n",
       "\n",
       "    .dataframe tbody tr th {\n",
       "        vertical-align: top;\n",
       "    }\n",
       "\n",
       "    .dataframe thead th {\n",
       "        text-align: right;\n",
       "    }\n",
       "</style>\n",
       "<table border=\"1\" class=\"dataframe\">\n",
       "  <thead>\n",
       "    <tr style=\"text-align: right;\">\n",
       "      <th></th>\n",
       "      <th>id</th>\n",
       "      <th>course</th>\n",
       "      <th>date</th>\n",
       "      <th>overall_rating</th>\n",
       "      <th>job_prospects_rating</th>\n",
       "      <th>job_prospects_desc</th>\n",
       "      <th>course_lecturer_rating</th>\n",
       "      <th>course_lecturer_desc</th>\n",
       "      <th>facilities_rating</th>\n",
       "      <th>facilities_desc</th>\n",
       "      <th>student_support_rating</th>\n",
       "      <th>student_support_desc</th>\n",
       "      <th>local_life_rating</th>\n",
       "      <th>local_life_desc</th>\n",
       "    </tr>\n",
       "  </thead>\n",
       "  <tbody>\n",
       "    <tr>\n",
       "      <th>0</th>\n",
       "      <td>179</td>\n",
       "      <td>MA Creative Writing</td>\n",
       "      <td>2021-11-04</td>\n",
       "      <td>4</td>\n",
       "      <td>4</td>\n",
       "      <td>N/A</td>\n",
       "      <td>3</td>\n",
       "      <td>Generally good. Some more supportive than othe...</td>\n",
       "      <td>4</td>\n",
       "      <td>Facilities are good. Generally clean. Quite a ...</td>\n",
       "      <td>4</td>\n",
       "      <td>Seems like there are things going on. Haven't ...</td>\n",
       "      <td>-1</td>\n",
       "      <td>N/A</td>\n",
       "    </tr>\n",
       "    <tr>\n",
       "      <th>1</th>\n",
       "      <td>180</td>\n",
       "      <td>Criminology and Social Policy BA (Hons)</td>\n",
       "      <td>2021-05-28</td>\n",
       "      <td>5</td>\n",
       "      <td>5</td>\n",
       "      <td>I interacted with the Careers and Employabilit...</td>\n",
       "      <td>5</td>\n",
       "      <td>1st year: You have 8 hours a week, 4 modules a...</td>\n",
       "      <td>5</td>\n",
       "      <td>I haven't needed to hire equipment, however th...</td>\n",
       "      <td>5</td>\n",
       "      <td>I haven't accessed the SU services (only becau...</td>\n",
       "      <td>-1</td>\n",
       "      <td>N/A</td>\n",
       "    </tr>\n",
       "    <tr>\n",
       "      <th>2</th>\n",
       "      <td>181</td>\n",
       "      <td>Biology with Science Foundation Year BSc (Hons)</td>\n",
       "      <td>2021-05-26</td>\n",
       "      <td>5</td>\n",
       "      <td>5</td>\n",
       "      <td>Consistent emails about job opportunities</td>\n",
       "      <td>4</td>\n",
       "      <td>Was effective but could be improved by adding ...</td>\n",
       "      <td>4</td>\n",
       "      <td>The uni itself is fairly professional with its...</td>\n",
       "      <td>3</td>\n",
       "      <td>There has been an effort made, I acknowledge t...</td>\n",
       "      <td>-1</td>\n",
       "      <td>N/A</td>\n",
       "    </tr>\n",
       "    <tr>\n",
       "      <th>3</th>\n",
       "      <td>182</td>\n",
       "      <td>Politics and Social Policy BA (Hons)</td>\n",
       "      <td>2021-05-26</td>\n",
       "      <td>4</td>\n",
       "      <td>4</td>\n",
       "      <td>N/A</td>\n",
       "      <td>4</td>\n",
       "      <td>Transition to online has been handled well. Co...</td>\n",
       "      <td>5</td>\n",
       "      <td>N/A</td>\n",
       "      <td>3</td>\n",
       "      <td>N/A</td>\n",
       "      <td>-1</td>\n",
       "      <td>N/A</td>\n",
       "    </tr>\n",
       "    <tr>\n",
       "      <th>4</th>\n",
       "      <td>183</td>\n",
       "      <td>Zoology BSc (Hons)</td>\n",
       "      <td>2021-05-26</td>\n",
       "      <td>3</td>\n",
       "      <td>5</td>\n",
       "      <td>Placement and internship opportunities are adv...</td>\n",
       "      <td>3</td>\n",
       "      <td>It’s a real mix- some lecturers are very good ...</td>\n",
       "      <td>5</td>\n",
       "      <td>The labs are very well equipped and PhD studen...</td>\n",
       "      <td>4</td>\n",
       "      <td>Student wellbeing services are very helpful, a...</td>\n",
       "      <td>-1</td>\n",
       "      <td>N/A</td>\n",
       "    </tr>\n",
       "  </tbody>\n",
       "</table>\n",
       "</div>"
      ],
      "text/plain": [
       "    id                                           course       date  \\\n",
       "0  179                              MA Creative Writing 2021-11-04   \n",
       "1  180          Criminology and Social Policy BA (Hons) 2021-05-28   \n",
       "2  181  Biology with Science Foundation Year BSc (Hons) 2021-05-26   \n",
       "3  182             Politics and Social Policy BA (Hons) 2021-05-26   \n",
       "4  183                               Zoology BSc (Hons) 2021-05-26   \n",
       "\n",
       "   overall_rating  job_prospects_rating  \\\n",
       "0               4                     4   \n",
       "1               5                     5   \n",
       "2               5                     5   \n",
       "3               4                     4   \n",
       "4               3                     5   \n",
       "\n",
       "                                  job_prospects_desc  course_lecturer_rating  \\\n",
       "0                                                N/A                       3   \n",
       "1  I interacted with the Careers and Employabilit...                       5   \n",
       "2          Consistent emails about job opportunities                       4   \n",
       "3                                                N/A                       4   \n",
       "4  Placement and internship opportunities are adv...                       3   \n",
       "\n",
       "                                course_lecturer_desc  facilities_rating  \\\n",
       "0  Generally good. Some more supportive than othe...                  4   \n",
       "1  1st year: You have 8 hours a week, 4 modules a...                  5   \n",
       "2  Was effective but could be improved by adding ...                  4   \n",
       "3  Transition to online has been handled well. Co...                  5   \n",
       "4  It’s a real mix- some lecturers are very good ...                  5   \n",
       "\n",
       "                                     facilities_desc  student_support_rating  \\\n",
       "0  Facilities are good. Generally clean. Quite a ...                       4   \n",
       "1  I haven't needed to hire equipment, however th...                       5   \n",
       "2  The uni itself is fairly professional with its...                       3   \n",
       "3                                                N/A                       3   \n",
       "4  The labs are very well equipped and PhD studen...                       4   \n",
       "\n",
       "                                student_support_desc  local_life_rating  \\\n",
       "0  Seems like there are things going on. Haven't ...                 -1   \n",
       "1  I haven't accessed the SU services (only becau...                 -1   \n",
       "2  There has been an effort made, I acknowledge t...                 -1   \n",
       "3                                                N/A                 -1   \n",
       "4  Student wellbeing services are very helpful, a...                 -1   \n",
       "\n",
       "  local_life_desc  \n",
       "0             N/A  \n",
       "1             N/A  \n",
       "2             N/A  \n",
       "3             N/A  \n",
       "4             N/A  "
      ]
     },
     "execution_count": 6,
     "metadata": {},
     "output_type": "execute_result"
    }
   ],
   "source": [
    "# Take a look at the first few rows of the dataframe\n",
    "df.head()"
   ]
  },
  {
   "cell_type": "code",
   "execution_count": 7,
   "metadata": {},
   "outputs": [
    {
     "name": "stdout",
     "output_type": "stream",
     "text": [
      "<class 'pandas.core.frame.DataFrame'>\n",
      "RangeIndex: 720 entries, 0 to 719\n",
      "Data columns (total 14 columns):\n",
      " #   Column                  Non-Null Count  Dtype         \n",
      "---  ------                  --------------  -----         \n",
      " 0   id                      720 non-null    int64         \n",
      " 1   course                  720 non-null    object        \n",
      " 2   date                    720 non-null    datetime64[ns]\n",
      " 3   overall_rating          720 non-null    int64         \n",
      " 4   job_prospects_rating    720 non-null    int64         \n",
      " 5   job_prospects_desc      720 non-null    object        \n",
      " 6   course_lecturer_rating  720 non-null    int64         \n",
      " 7   course_lecturer_desc    720 non-null    object        \n",
      " 8   facilities_rating       720 non-null    int64         \n",
      " 9   facilities_desc         720 non-null    object        \n",
      " 10  student_support_rating  720 non-null    int64         \n",
      " 11  student_support_desc    720 non-null    object        \n",
      " 12  local_life_rating       720 non-null    int64         \n",
      " 13  local_life_desc         720 non-null    object        \n",
      "dtypes: datetime64[ns](1), int64(7), object(6)\n",
      "memory usage: 78.9+ KB\n"
     ]
    }
   ],
   "source": [
    "# Get some basic statistics about the data\n",
    "df.info()"
   ]
  },
  {
   "cell_type": "code",
   "execution_count": 8,
   "metadata": {},
   "outputs": [
    {
     "data": {
      "text/plain": [
       "id                        0\n",
       "course                    0\n",
       "date                      0\n",
       "overall_rating            0\n",
       "job_prospects_rating      0\n",
       "job_prospects_desc        0\n",
       "course_lecturer_rating    0\n",
       "course_lecturer_desc      0\n",
       "facilities_rating         0\n",
       "facilities_desc           0\n",
       "student_support_rating    0\n",
       "student_support_desc      0\n",
       "local_life_rating         0\n",
       "local_life_desc           0\n",
       "dtype: int64"
      ]
     },
     "execution_count": 8,
     "metadata": {},
     "output_type": "execute_result"
    }
   ],
   "source": [
    "# Checks for any null values\n",
    "df.isnull().sum()"
   ]
  },
  {
   "cell_type": "code",
   "execution_count": 9,
   "metadata": {},
   "outputs": [
    {
     "data": {
      "text/plain": [
       "0      False\n",
       "1      False\n",
       "2      False\n",
       "3      False\n",
       "4      False\n",
       "       ...  \n",
       "715    False\n",
       "716    False\n",
       "717    False\n",
       "718    False\n",
       "719    False\n",
       "Length: 720, dtype: bool"
      ]
     },
     "execution_count": 9,
     "metadata": {},
     "output_type": "execute_result"
    }
   ],
   "source": [
    "# Checks for any duplicate values\n",
    "df.duplicated()"
   ]
  },
  {
   "cell_type": "code",
   "execution_count": 10,
   "metadata": {},
   "outputs": [
    {
     "data": {
      "text/plain": [
       "2019    309\n",
       "2020    133\n",
       "2018    122\n",
       "2017     93\n",
       "2022     40\n",
       "2021     23\n",
       "Name: date, dtype: int64"
      ]
     },
     "execution_count": 10,
     "metadata": {},
     "output_type": "execute_result"
    }
   ],
   "source": [
    "# Show number of reviews per year\n",
    "pd.to_datetime(df['date']).dt.year.value_counts()"
   ]
  },
  {
   "cell_type": "code",
   "execution_count": 11,
   "metadata": {},
   "outputs": [
    {
     "data": {
      "text/plain": [
       "\"\\nFrom the data gathered above we know that there are no null values and no duplicates\\nHowever questions to responses that have not been answered are marked as 'N/A'\\nAlso ratings for un answered categories are marked as -1\\nThere is also a a heavy amount of reviews in 2019 but very little in 2022 and 2021\\nThis is important to keep in mind during analysis\\n\""
      ]
     },
     "execution_count": 11,
     "metadata": {},
     "output_type": "execute_result"
    }
   ],
   "source": [
    "\"\"\"\n",
    "From the data gathered above we know that there are no null values and no duplicates\n",
    "However questions to responses that have not been answered are marked as 'N/A'\n",
    "Also ratings for un answered categories are marked as -1\n",
    "There is also a a heavy amount of reviews in 2019 but very little in 2022 and 2021\n",
    "This is important to keep in mind during analysis\n",
    "\"\"\""
   ]
  },
  {
   "cell_type": "code",
   "execution_count": 12,
   "metadata": {},
   "outputs": [],
   "source": [
    "# Change un answered questions to from N/A to null\n",
    "# Also change unaanswered ratings from -1 to null\n",
    "# This makes it easier for calculations later on\n",
    "df = df.applymap(lambda x: x if x!= -1 or x != 'N/A' else np.nanmean())"
   ]
  },
  {
   "cell_type": "code",
   "execution_count": 13,
   "metadata": {},
   "outputs": [
    {
     "data": {
      "application/vnd.plotly.v1+json": {
       "config": {
        "plotlyServerURL": "https://plotly.com"
       },
       "data": [
        {
         "hovertemplate": "Date (years)=%{x}<br>Overall Rating (1-5)=%{marker.color}<extra></extra>",
         "legendgroup": "",
         "marker": {
          "color": [
           4,
           5,
           5,
           4,
           3,
           4,
           3,
           3,
           2,
           5,
           5,
           2,
           4,
           4,
           3,
           2,
           3,
           5,
           5,
           5,
           5,
           4,
           3,
           4,
           1,
           4,
           2,
           2,
           5,
           3,
           5,
           4,
           4,
           5,
           4,
           4,
           5,
           4,
           5,
           4,
           4,
           5,
           1,
           5,
           4,
           4,
           4,
           4,
           5,
           5,
           5,
           3,
           2,
           4,
           5,
           4,
           5,
           4,
           5,
           4,
           3,
           4,
           5,
           3,
           5,
           3,
           5,
           5,
           4,
           5,
           2,
           5,
           4,
           5,
           2,
           5,
           5,
           5,
           4,
           5,
           4,
           4,
           5,
           4,
           3,
           5,
           4,
           5,
           4,
           5,
           5,
           4,
           5,
           4,
           4,
           4,
           5,
           4,
           5,
           5,
           3,
           4,
           5,
           4,
           2,
           3,
           4,
           5,
           5,
           5,
           5,
           5,
           4,
           4,
           3,
           4,
           4,
           5,
           3,
           5,
           4,
           3,
           4,
           5,
           5,
           4,
           4,
           3,
           5,
           4,
           2,
           3,
           5,
           5,
           3,
           4,
           5,
           4,
           5,
           4,
           5,
           5,
           4,
           4,
           4,
           5,
           5,
           5,
           4,
           5,
           5,
           5,
           4,
           4,
           4,
           4,
           5,
           5,
           5,
           5,
           2,
           5,
           4,
           5,
           4,
           3,
           3,
           4,
           4,
           4,
           3,
           4,
           5,
           3,
           4,
           4,
           4,
           4,
           4,
           4,
           5,
           4,
           4,
           5,
           5,
           4,
           4,
           3,
           5,
           4,
           4,
           4,
           3,
           5,
           5,
           5,
           4,
           5,
           5,
           4,
           5,
           4,
           4,
           4,
           5,
           4,
           4,
           5,
           5,
           4,
           4,
           5,
           4,
           5,
           4,
           5,
           5,
           5,
           4,
           5,
           5,
           5,
           4,
           5,
           4,
           5,
           4,
           4,
           4,
           4,
           4,
           4,
           4,
           3,
           5,
           5,
           2,
           4,
           5,
           3,
           4,
           4,
           3,
           5,
           4,
           3,
           4,
           5,
           4,
           5,
           4,
           4,
           5,
           4,
           4,
           5,
           4,
           4,
           4,
           4,
           5,
           4,
           4,
           4,
           4,
           4,
           3,
           4,
           4,
           4,
           4,
           5,
           4,
           4,
           5,
           4,
           4,
           4,
           3,
           3,
           4,
           5,
           4,
           4,
           5,
           5,
           5,
           4,
           4,
           4,
           5,
           5,
           5,
           4,
           5,
           5,
           4,
           5,
           5,
           5,
           5,
           4,
           5,
           5,
           3,
           5,
           5,
           4,
           3,
           5,
           5,
           5,
           5,
           5,
           4,
           4,
           3,
           5,
           5,
           5,
           5,
           5,
           5,
           4,
           5,
           5,
           3,
           4,
           5,
           4,
           5,
           5,
           4,
           4,
           4,
           5,
           4,
           5,
           5,
           4,
           4,
           5,
           5,
           5,
           4,
           5,
           5,
           5,
           5,
           3,
           4,
           4,
           4,
           4,
           4,
           4,
           5,
           5,
           4,
           5,
           4,
           4,
           4,
           4,
           4,
           5,
           4,
           4,
           5,
           5,
           5,
           5,
           5,
           5,
           5,
           5,
           5,
           4,
           4,
           5,
           5,
           5,
           3,
           5,
           5,
           4,
           5,
           4,
           4,
           3,
           4,
           5,
           4,
           3,
           5,
           5,
           4,
           5,
           5,
           4,
           5,
           5,
           5,
           5,
           5,
           5,
           3,
           4,
           5,
           3,
           5,
           4,
           4,
           4,
           5,
           5,
           4,
           5,
           4,
           5,
           4,
           4,
           5,
           5,
           5,
           5,
           4,
           5,
           1,
           5,
           5,
           5,
           4,
           5,
           5,
           5,
           4,
           5,
           5,
           5,
           4,
           4,
           5,
           2,
           4,
           5,
           3,
           5,
           3,
           4,
           4,
           5,
           5,
           5,
           4,
           3,
           4,
           4,
           5,
           5,
           5,
           4,
           3,
           5,
           1,
           5,
           5,
           5,
           4,
           4,
           4,
           4,
           3,
           4,
           4,
           4,
           4,
           5,
           5,
           4,
           4,
           5,
           3,
           4,
           5,
           4,
           5,
           4,
           3,
           4,
           4,
           3,
           5,
           5,
           5,
           5,
           4,
           4,
           4,
           5,
           4,
           4,
           5,
           4,
           3,
           2,
           3,
           2,
           4,
           4,
           3,
           3,
           4,
           4,
           3,
           4,
           4,
           4,
           4,
           4,
           4,
           5,
           4,
           4,
           4,
           5,
           4,
           4,
           3,
           5,
           4,
           4,
           4,
           4,
           3,
           5,
           3,
           4,
           4,
           3,
           4,
           4,
           4,
           5,
           3,
           3,
           3,
           4,
           3,
           4,
           4,
           3,
           5,
           4,
           3,
           2,
           5,
           4,
           5,
           4,
           3,
           5,
           3,
           3,
           4,
           4,
           4,
           4,
           4,
           5,
           3,
           4,
           5,
           4,
           4,
           4,
           3,
           4,
           5,
           3,
           5,
           5,
           3,
           4,
           4,
           5,
           4,
           4,
           5,
           4,
           5,
           4,
           4,
           4,
           4,
           5,
           4,
           4,
           5,
           3,
           3,
           4,
           4,
           4,
           4,
           5,
           4,
           4,
           4,
           5,
           3,
           5,
           5,
           4,
           4,
           4,
           4,
           4,
           4,
           5,
           3,
           4,
           4,
           4,
           5,
           5,
           4,
           5,
           4,
           4,
           4,
           5,
           5,
           5,
           4,
           5,
           5,
           5,
           5,
           5,
           5,
           4,
           5,
           4,
           5,
           4,
           5,
           5,
           5,
           5,
           4,
           5,
           5,
           4,
           4,
           4,
           2,
           4,
           4,
           4,
           4,
           5,
           5,
           4,
           4,
           3,
           4,
           3,
           5,
           4,
           5,
           3,
           4,
           4,
           4,
           4,
           4,
           4,
           4,
           2,
           4,
           4,
           4,
           4,
           4,
           4,
           4,
           5,
           3,
           3,
           4,
           5,
           4,
           3,
           3,
           3,
           4,
           4,
           4,
           4,
           4,
           2,
           5,
           5,
           4,
           5,
           4,
           3,
           2,
           5,
           4,
           5,
           4,
           5,
           2,
           4,
           5,
           5,
           5,
           5
          ],
          "coloraxis": "coloraxis",
          "symbol": "circle"
         },
         "mode": "markers",
         "name": "",
         "orientation": "v",
         "showlegend": false,
         "type": "scatter",
         "x": [
          "2021-11-04T00:00:00",
          "2021-05-28T00:00:00",
          "2021-05-26T00:00:00",
          "2021-05-26T00:00:00",
          "2021-05-26T00:00:00",
          "2021-05-25T00:00:00",
          "2021-05-20T00:00:00",
          "2021-04-28T00:00:00",
          "2021-04-28T00:00:00",
          "2019-12-18T00:00:00",
          "2021-04-26T00:00:00",
          "2021-04-11T00:00:00",
          "2021-04-11T00:00:00",
          "2021-04-10T00:00:00",
          "2021-04-10T00:00:00",
          "2021-04-10T00:00:00",
          "2021-04-09T00:00:00",
          "2021-04-08T00:00:00",
          "2021-04-03T00:00:00",
          "2021-04-02T00:00:00",
          "2021-03-22T00:00:00",
          "2021-03-21T00:00:00",
          "2021-03-18T00:00:00",
          "2021-03-18T00:00:00",
          "2020-11-17T00:00:00",
          "2019-12-18T00:00:00",
          "2020-07-24T00:00:00",
          "2020-05-28T00:00:00",
          "2020-02-29T00:00:00",
          "2020-02-28T00:00:00",
          "2020-02-28T00:00:00",
          "2020-02-28T00:00:00",
          "2020-02-28T00:00:00",
          "2020-02-28T00:00:00",
          "2020-02-28T00:00:00",
          "2020-02-27T00:00:00",
          "2020-02-27T00:00:00",
          "2019-12-18T00:00:00",
          "2020-02-27T00:00:00",
          "2020-02-27T00:00:00",
          "2020-02-26T00:00:00",
          "2020-02-26T00:00:00",
          "2020-02-26T00:00:00",
          "2020-02-26T00:00:00",
          "2020-02-26T00:00:00",
          "2020-02-26T00:00:00",
          "2020-01-20T00:00:00",
          "2020-01-20T00:00:00",
          "2019-12-18T00:00:00",
          "2020-02-25T00:00:00",
          "2020-02-25T00:00:00",
          "2020-02-25T00:00:00",
          "2020-02-25T00:00:00",
          "2020-02-25T00:00:00",
          "2020-02-23T00:00:00",
          "2020-02-22T00:00:00",
          "2020-02-18T00:00:00",
          "2020-02-18T00:00:00",
          "2020-02-18T00:00:00",
          "2020-02-08T00:00:00",
          "2019-12-18T00:00:00",
          "2020-02-18T00:00:00",
          "2020-02-18T00:00:00",
          "2020-02-18T00:00:00",
          "2020-02-17T00:00:00",
          "2020-02-13T00:00:00",
          "2020-02-13T00:00:00",
          "2020-02-12T00:00:00",
          "2020-01-20T00:00:00",
          "2020-01-20T00:00:00",
          "2019-12-18T00:00:00",
          "2020-01-23T00:00:00",
          "2020-01-22T00:00:00",
          "2020-01-21T00:00:00",
          "2020-01-20T00:00:00",
          "2020-01-20T00:00:00",
          "2020-01-20T00:00:00",
          "2020-01-20T00:00:00",
          "2020-01-20T00:00:00",
          "2020-01-20T00:00:00",
          "2020-01-20T00:00:00",
          "2020-01-20T00:00:00",
          "2020-01-20T00:00:00",
          "2020-01-20T00:00:00",
          "2020-01-20T00:00:00",
          "2020-01-20T00:00:00",
          "2020-01-20T00:00:00",
          "2020-01-20T00:00:00",
          "2020-01-20T00:00:00",
          "2020-01-20T00:00:00",
          "2020-01-20T00:00:00",
          "2020-01-20T00:00:00",
          "2020-01-20T00:00:00",
          "2020-01-20T00:00:00",
          "2020-01-20T00:00:00",
          "2020-01-20T00:00:00",
          "2020-01-20T00:00:00",
          "2020-01-20T00:00:00",
          "2020-01-20T00:00:00",
          "2020-01-20T00:00:00",
          "2020-01-20T00:00:00",
          "2020-01-20T00:00:00",
          "2020-01-20T00:00:00",
          "2020-01-20T00:00:00",
          "2020-01-20T00:00:00",
          "2020-01-20T00:00:00",
          "2020-01-20T00:00:00",
          "2020-01-20T00:00:00",
          "2020-01-20T00:00:00",
          "2020-01-20T00:00:00",
          "2020-01-20T00:00:00",
          "2020-01-20T00:00:00",
          "2020-01-20T00:00:00",
          "2020-01-20T00:00:00",
          "2020-01-20T00:00:00",
          "2020-01-20T00:00:00",
          "2020-01-20T00:00:00",
          "2020-01-20T00:00:00",
          "2020-01-20T00:00:00",
          "2020-01-20T00:00:00",
          "2020-01-20T00:00:00",
          "2020-01-20T00:00:00",
          "2019-12-18T00:00:00",
          "2020-01-20T00:00:00",
          "2020-01-20T00:00:00",
          "2020-01-20T00:00:00",
          "2020-01-20T00:00:00",
          "2020-01-20T00:00:00",
          "2020-01-20T00:00:00",
          "2020-01-20T00:00:00",
          "2020-01-20T00:00:00",
          "2020-01-20T00:00:00",
          "2020-01-20T00:00:00",
          "2020-01-20T00:00:00",
          "2020-01-19T00:00:00",
          "2020-01-18T00:00:00",
          "2020-01-15T00:00:00",
          "2020-01-14T00:00:00",
          "2020-01-14T00:00:00",
          "2020-01-13T00:00:00",
          "2020-01-11T00:00:00",
          "2020-01-11T00:00:00",
          "2020-01-11T00:00:00",
          "2020-01-11T00:00:00",
          "2019-12-18T00:00:00",
          "2019-12-18T00:00:00",
          "2020-01-11T00:00:00",
          "2020-01-10T00:00:00",
          "2020-01-10T00:00:00",
          "2020-01-10T00:00:00",
          "2020-01-10T00:00:00",
          "2020-01-09T00:00:00",
          "2020-01-09T00:00:00",
          "2020-01-09T00:00:00",
          "2020-01-09T00:00:00",
          "2020-01-09T00:00:00",
          "2020-01-09T00:00:00",
          "2020-01-09T00:00:00",
          "2020-01-09T00:00:00",
          "2020-01-09T00:00:00",
          "2020-01-09T00:00:00",
          "2020-01-09T00:00:00",
          "2020-01-09T00:00:00",
          "2020-01-09T00:00:00",
          "2020-01-03T00:00:00",
          "2019-12-18T00:00:00",
          "2019-12-18T00:00:00",
          "2019-12-18T00:00:00",
          "2019-12-18T00:00:00",
          "2019-12-18T00:00:00",
          "2019-12-18T00:00:00",
          "2019-12-18T00:00:00",
          "2019-12-18T00:00:00",
          "2019-12-18T00:00:00",
          "2019-12-18T00:00:00",
          "2019-12-18T00:00:00",
          "2019-12-18T00:00:00",
          "2019-12-18T00:00:00",
          "2019-12-18T00:00:00",
          "2019-12-18T00:00:00",
          "2019-12-18T00:00:00",
          "2019-12-18T00:00:00",
          "2019-12-18T00:00:00",
          "2019-12-18T00:00:00",
          "2019-12-18T00:00:00",
          "2019-12-18T00:00:00",
          "2019-12-18T00:00:00",
          "2019-12-18T00:00:00",
          "2019-12-18T00:00:00",
          "2019-12-18T00:00:00",
          "2019-12-18T00:00:00",
          "2019-12-18T00:00:00",
          "2019-12-18T00:00:00",
          "2019-12-18T00:00:00",
          "2019-12-18T00:00:00",
          "2019-12-18T00:00:00",
          "2019-12-18T00:00:00",
          "2019-12-18T00:00:00",
          "2019-12-18T00:00:00",
          "2019-12-18T00:00:00",
          "2019-12-18T00:00:00",
          "2019-12-18T00:00:00",
          "2019-12-18T00:00:00",
          "2019-12-18T00:00:00",
          "2019-12-18T00:00:00",
          "2019-12-18T00:00:00",
          "2019-12-18T00:00:00",
          "2019-12-18T00:00:00",
          "2019-12-18T00:00:00",
          "2019-12-18T00:00:00",
          "2019-12-18T00:00:00",
          "2019-12-18T00:00:00",
          "2019-12-18T00:00:00",
          "2019-12-18T00:00:00",
          "2019-12-18T00:00:00",
          "2019-12-18T00:00:00",
          "2019-12-18T00:00:00",
          "2019-12-18T00:00:00",
          "2019-12-18T00:00:00",
          "2019-12-18T00:00:00",
          "2019-12-18T00:00:00",
          "2019-12-18T00:00:00",
          "2019-12-18T00:00:00",
          "2019-12-18T00:00:00",
          "2019-12-18T00:00:00",
          "2019-12-18T00:00:00",
          "2019-12-18T00:00:00",
          "2019-12-18T00:00:00",
          "2019-12-18T00:00:00",
          "2019-12-18T00:00:00",
          "2019-12-18T00:00:00",
          "2019-12-18T00:00:00",
          "2019-12-18T00:00:00",
          "2019-12-18T00:00:00",
          "2019-12-18T00:00:00",
          "2019-12-18T00:00:00",
          "2019-12-18T00:00:00",
          "2019-12-18T00:00:00",
          "2019-12-18T00:00:00",
          "2019-12-18T00:00:00",
          "2019-12-18T00:00:00",
          "2019-12-18T00:00:00",
          "2019-12-18T00:00:00",
          "2019-12-18T00:00:00",
          "2019-12-18T00:00:00",
          "2019-12-18T00:00:00",
          "2019-12-18T00:00:00",
          "2019-12-18T00:00:00",
          "2019-12-18T00:00:00",
          "2019-12-18T00:00:00",
          "2019-12-18T00:00:00",
          "2019-12-18T00:00:00",
          "2019-12-18T00:00:00",
          "2019-12-18T00:00:00",
          "2019-12-18T00:00:00",
          "2019-12-18T00:00:00",
          "2019-12-18T00:00:00",
          "2019-12-18T00:00:00",
          "2019-12-18T00:00:00",
          "2019-12-18T00:00:00",
          "2019-12-18T00:00:00",
          "2019-12-18T00:00:00",
          "2019-12-17T00:00:00",
          "2019-12-17T00:00:00",
          "2019-12-17T00:00:00",
          "2019-12-17T00:00:00",
          "2019-12-17T00:00:00",
          "2019-12-17T00:00:00",
          "2019-12-17T00:00:00",
          "2019-12-17T00:00:00",
          "2019-12-17T00:00:00",
          "2019-12-17T00:00:00",
          "2019-12-17T00:00:00",
          "2019-12-17T00:00:00",
          "2019-12-17T00:00:00",
          "2019-12-17T00:00:00",
          "2019-12-17T00:00:00",
          "2019-12-17T00:00:00",
          "2019-12-17T00:00:00",
          "2019-12-17T00:00:00",
          "2019-12-17T00:00:00",
          "2019-12-17T00:00:00",
          "2019-12-17T00:00:00",
          "2019-12-13T00:00:00",
          "2019-12-13T00:00:00",
          "2019-12-13T00:00:00",
          "2019-12-13T00:00:00",
          "2019-12-13T00:00:00",
          "2019-12-13T00:00:00",
          "2019-12-13T00:00:00",
          "2019-12-13T00:00:00",
          "2019-12-13T00:00:00",
          "2019-12-13T00:00:00",
          "2019-12-13T00:00:00",
          "2019-12-13T00:00:00",
          "2019-12-13T00:00:00",
          "2019-12-05T00:00:00",
          "2019-11-29T00:00:00",
          "2019-11-29T00:00:00",
          "2019-11-29T00:00:00",
          "2019-11-29T00:00:00",
          "2019-12-05T00:00:00",
          "2019-12-05T00:00:00",
          "2019-12-05T00:00:00",
          "2019-12-05T00:00:00",
          "2019-12-05T00:00:00",
          "2019-12-05T00:00:00",
          "2019-12-05T00:00:00",
          "2019-12-05T00:00:00",
          "2019-11-29T00:00:00",
          "2019-11-29T00:00:00",
          "2019-11-29T00:00:00",
          "2019-11-29T00:00:00",
          "2019-11-29T00:00:00",
          "2019-11-29T00:00:00",
          "2019-11-29T00:00:00",
          "2019-11-29T00:00:00",
          "2019-11-29T00:00:00",
          "2019-11-29T00:00:00",
          "2019-11-29T00:00:00",
          "2019-11-29T00:00:00",
          "2019-11-29T00:00:00",
          "2019-11-29T00:00:00",
          "2019-11-29T00:00:00",
          "2019-11-29T00:00:00",
          "2019-11-25T00:00:00",
          "2019-11-25T00:00:00",
          "2019-11-25T00:00:00",
          "2019-11-24T00:00:00",
          "2019-11-24T00:00:00",
          "2019-11-24T00:00:00",
          "2019-11-24T00:00:00",
          "2019-11-24T00:00:00",
          "2019-11-22T00:00:00",
          "2019-11-22T00:00:00",
          "2018-12-17T00:00:00",
          "2019-11-24T00:00:00",
          "2019-11-24T00:00:00",
          "2019-11-24T00:00:00",
          "2019-11-24T00:00:00",
          "2019-11-24T00:00:00",
          "2019-11-24T00:00:00",
          "2019-11-24T00:00:00",
          "2019-11-24T00:00:00",
          "2019-11-24T00:00:00",
          "2019-11-24T00:00:00",
          "2019-11-22T00:00:00",
          "2019-11-24T00:00:00",
          "2019-11-23T00:00:00",
          "2019-11-23T00:00:00",
          "2019-11-23T00:00:00",
          "2019-11-23T00:00:00",
          "2019-11-23T00:00:00",
          "2019-11-23T00:00:00",
          "2019-11-23T00:00:00",
          "2019-11-23T00:00:00",
          "2019-11-22T00:00:00",
          "2019-11-22T00:00:00",
          "2019-11-19T00:00:00",
          "2019-11-22T00:00:00",
          "2019-11-22T00:00:00",
          "2019-11-22T00:00:00",
          "2019-11-21T00:00:00",
          "2019-11-21T00:00:00",
          "2019-11-20T00:00:00",
          "2019-11-20T00:00:00",
          "2019-11-20T00:00:00",
          "2019-11-20T00:00:00",
          "2019-11-19T00:00:00",
          "2019-11-19T00:00:00",
          "2019-11-19T00:00:00",
          "2019-11-19T00:00:00",
          "2019-11-19T00:00:00",
          "2019-11-19T00:00:00",
          "2019-11-19T00:00:00",
          "2019-11-19T00:00:00",
          "2019-11-17T00:00:00",
          "2019-11-13T00:00:00",
          "2019-11-16T00:00:00",
          "2019-11-15T00:00:00",
          "2019-11-15T00:00:00",
          "2019-11-15T00:00:00",
          "2019-11-15T00:00:00",
          "2019-11-15T00:00:00",
          "2019-11-15T00:00:00",
          "2019-11-15T00:00:00",
          "2019-11-15T00:00:00",
          "2019-11-15T00:00:00",
          "2019-11-15T00:00:00",
          "2019-11-15T00:00:00",
          "2019-11-15T00:00:00",
          "2019-11-15T00:00:00",
          "2019-11-15T00:00:00",
          "2019-11-15T00:00:00",
          "2019-11-15T00:00:00",
          "2019-11-15T00:00:00",
          "2019-11-15T00:00:00",
          "2019-11-15T00:00:00",
          "2019-11-15T00:00:00",
          "2019-11-15T00:00:00",
          "2019-11-15T00:00:00",
          "2019-11-15T00:00:00",
          "2019-11-14T00:00:00",
          "2019-11-13T00:00:00",
          "2019-11-13T00:00:00",
          "2019-11-13T00:00:00",
          "2019-11-13T00:00:00",
          "2019-11-13T00:00:00",
          "2019-11-13T00:00:00",
          "2019-11-13T00:00:00",
          "2019-11-13T00:00:00",
          "2019-11-12T00:00:00",
          "2019-11-12T00:00:00",
          "2019-11-12T00:00:00",
          "2019-11-12T00:00:00",
          "2019-11-12T00:00:00",
          "2019-02-28T00:00:00",
          "2019-02-27T00:00:00",
          "2019-02-27T00:00:00",
          "2019-02-27T00:00:00",
          "2019-11-12T00:00:00",
          "2019-11-12T00:00:00",
          "2019-11-12T00:00:00",
          "2019-11-12T00:00:00",
          "2019-11-12T00:00:00",
          "2019-11-12T00:00:00",
          "2019-11-12T00:00:00",
          "2019-11-06T00:00:00",
          "2019-10-14T00:00:00",
          "2019-10-11T00:00:00",
          "2019-03-04T00:00:00",
          "2019-03-01T00:00:00",
          "2019-02-28T00:00:00",
          "2019-02-28T00:00:00",
          "2019-02-28T00:00:00",
          "2019-02-28T00:00:00",
          "2019-02-28T00:00:00",
          "2019-02-28T00:00:00",
          "2019-02-28T00:00:00",
          "2019-02-28T00:00:00",
          "2019-02-27T00:00:00",
          "2019-02-27T00:00:00",
          "2019-02-27T00:00:00",
          "2019-02-27T00:00:00",
          "2019-02-27T00:00:00",
          "2019-02-27T00:00:00",
          "2018-12-17T00:00:00",
          "2019-02-27T00:00:00",
          "2019-02-27T00:00:00",
          "2019-02-27T00:00:00",
          "2019-02-27T00:00:00",
          "2019-02-27T00:00:00",
          "2019-02-27T00:00:00",
          "2019-02-27T00:00:00",
          "2019-02-27T00:00:00",
          "2019-02-25T00:00:00",
          "2019-02-25T00:00:00",
          "2019-02-25T00:00:00",
          "2018-12-17T00:00:00",
          "2019-02-25T00:00:00",
          "2019-02-25T00:00:00",
          "2019-02-25T00:00:00",
          "2019-02-21T00:00:00",
          "2019-02-21T00:00:00",
          "2019-02-21T00:00:00",
          "2019-02-21T00:00:00",
          "2019-02-21T00:00:00",
          "2019-02-21T00:00:00",
          "2018-12-17T00:00:00",
          "2018-12-17T00:00:00",
          "2018-12-17T00:00:00",
          "2018-12-17T00:00:00",
          "2018-12-17T00:00:00",
          "2018-12-17T00:00:00",
          "2018-12-17T00:00:00",
          "2018-12-17T00:00:00",
          "2018-12-17T00:00:00",
          "2018-12-17T00:00:00",
          "2018-12-17T00:00:00",
          "2018-12-17T00:00:00",
          "2018-12-17T00:00:00",
          "2018-12-17T00:00:00",
          "2018-12-17T00:00:00",
          "2018-12-17T00:00:00",
          "2018-12-17T00:00:00",
          "2018-12-17T00:00:00",
          "2018-12-17T00:00:00",
          "2018-12-17T00:00:00",
          "2018-12-17T00:00:00",
          "2018-12-17T00:00:00",
          "2018-12-17T00:00:00",
          "2018-12-17T00:00:00",
          "2018-12-17T00:00:00",
          "2018-12-17T00:00:00",
          "2018-12-17T00:00:00",
          "2018-12-17T00:00:00",
          "2018-12-17T00:00:00",
          "2018-12-17T00:00:00",
          "2018-12-17T00:00:00",
          "2018-12-17T00:00:00",
          "2018-12-17T00:00:00",
          "2018-12-17T00:00:00",
          "2018-12-17T00:00:00",
          "2018-12-17T00:00:00",
          "2018-12-17T00:00:00",
          "2018-12-17T00:00:00",
          "2017-12-20T00:00:00",
          "2018-12-17T00:00:00",
          "2018-12-17T00:00:00",
          "2018-12-17T00:00:00",
          "2018-12-17T00:00:00",
          "2018-12-17T00:00:00",
          "2018-12-17T00:00:00",
          "2018-12-17T00:00:00",
          "2018-12-17T00:00:00",
          "2018-12-17T00:00:00",
          "2018-12-17T00:00:00",
          "2018-12-17T00:00:00",
          "2018-12-17T00:00:00",
          "2018-12-17T00:00:00",
          "2018-12-17T00:00:00",
          "2018-12-17T00:00:00",
          "2018-12-17T00:00:00",
          "2018-12-17T00:00:00",
          "2018-12-17T00:00:00",
          "2018-12-17T00:00:00",
          "2018-12-17T00:00:00",
          "2018-12-17T00:00:00",
          "2018-12-17T00:00:00",
          "2018-12-17T00:00:00",
          "2018-12-17T00:00:00",
          "2018-12-17T00:00:00",
          "2018-12-17T00:00:00",
          "2018-12-17T00:00:00",
          "2018-12-17T00:00:00",
          "2018-12-17T00:00:00",
          "2018-12-17T00:00:00",
          "2018-12-17T00:00:00",
          "2018-12-17T00:00:00",
          "2018-12-17T00:00:00",
          "2018-12-17T00:00:00",
          "2018-12-17T00:00:00",
          "2018-12-17T00:00:00",
          "2018-12-17T00:00:00",
          "2018-12-17T00:00:00",
          "2018-12-17T00:00:00",
          "2018-12-17T00:00:00",
          "2018-12-17T00:00:00",
          "2018-12-17T00:00:00",
          "2018-12-17T00:00:00",
          "2018-12-17T00:00:00",
          "2018-12-17T00:00:00",
          "2018-12-17T00:00:00",
          "2018-12-17T00:00:00",
          "2018-12-17T00:00:00",
          "2018-12-17T00:00:00",
          "2018-12-17T00:00:00",
          "2018-12-17T00:00:00",
          "2018-12-17T00:00:00",
          "2018-12-17T00:00:00",
          "2018-12-17T00:00:00",
          "2018-12-17T00:00:00",
          "2018-12-17T00:00:00",
          "2018-12-17T00:00:00",
          "2018-12-17T00:00:00",
          "2018-12-17T00:00:00",
          "2018-12-17T00:00:00",
          "2018-12-17T00:00:00",
          "2018-12-17T00:00:00",
          "2018-12-17T00:00:00",
          "2018-12-17T00:00:00",
          "2018-12-17T00:00:00",
          "2018-12-17T00:00:00",
          "2018-12-17T00:00:00",
          "2018-12-17T00:00:00",
          "2018-12-17T00:00:00",
          "2018-12-17T00:00:00",
          "2018-12-17T00:00:00",
          "2018-12-17T00:00:00",
          "2018-11-12T00:00:00",
          "2018-03-23T00:00:00",
          "2018-02-21T00:00:00",
          "2018-02-21T00:00:00",
          "2018-02-21T00:00:00",
          "2018-02-02T00:00:00",
          "2018-01-31T00:00:00",
          "2018-01-12T00:00:00",
          "2018-01-12T00:00:00",
          "2017-12-20T00:00:00",
          "2017-12-20T00:00:00",
          "2017-12-20T00:00:00",
          "2017-12-20T00:00:00",
          "2017-12-20T00:00:00",
          "2017-12-20T00:00:00",
          "2017-12-20T00:00:00",
          "2017-12-20T00:00:00",
          "2017-12-20T00:00:00",
          "2017-12-20T00:00:00",
          "2017-12-20T00:00:00",
          "2017-12-20T00:00:00",
          "2017-12-20T00:00:00",
          "2017-12-20T00:00:00",
          "2017-12-20T00:00:00",
          "2017-12-20T00:00:00",
          "2017-12-20T00:00:00",
          "2017-12-20T00:00:00",
          "2017-12-20T00:00:00",
          "2017-12-20T00:00:00",
          "2017-12-20T00:00:00",
          "2017-12-20T00:00:00",
          "2017-12-20T00:00:00",
          "2017-12-20T00:00:00",
          "2017-12-20T00:00:00",
          "2017-12-20T00:00:00",
          "2022-03-16T00:00:00",
          "2017-12-20T00:00:00",
          "2017-12-20T00:00:00",
          "2017-12-20T00:00:00",
          "2017-12-20T00:00:00",
          "2017-12-19T00:00:00",
          "2017-12-19T00:00:00",
          "2017-12-19T00:00:00",
          "2017-12-19T00:00:00",
          "2017-12-19T00:00:00",
          "2017-12-19T00:00:00",
          "2017-12-19T00:00:00",
          "2017-12-19T00:00:00",
          "2017-12-19T00:00:00",
          "2017-12-19T00:00:00",
          "2017-12-19T00:00:00",
          "2017-12-19T00:00:00",
          "2017-12-19T00:00:00",
          "2017-12-19T00:00:00",
          "2017-12-19T00:00:00",
          "2017-12-19T00:00:00",
          "2017-12-19T00:00:00",
          "2017-12-19T00:00:00",
          "2017-12-19T00:00:00",
          "2017-12-19T00:00:00",
          "2017-12-19T00:00:00",
          "2017-12-19T00:00:00",
          "2017-12-19T00:00:00",
          "2017-12-19T00:00:00",
          "2017-12-19T00:00:00",
          "2017-12-19T00:00:00",
          "2017-12-19T00:00:00",
          "2017-12-19T00:00:00",
          "2017-12-19T00:00:00",
          "2017-12-19T00:00:00",
          "2017-12-19T00:00:00",
          "2017-12-19T00:00:00",
          "2017-12-19T00:00:00",
          "2017-12-19T00:00:00",
          "2017-12-19T00:00:00",
          "2017-12-19T00:00:00",
          "2017-12-19T00:00:00",
          "2017-12-19T00:00:00",
          "2017-12-19T00:00:00",
          "2017-12-19T00:00:00",
          "2017-12-19T00:00:00",
          "2017-12-19T00:00:00",
          "2017-12-19T00:00:00",
          "2017-12-19T00:00:00",
          "2017-12-19T00:00:00",
          "2017-12-19T00:00:00",
          "2017-12-19T00:00:00",
          "2017-12-19T00:00:00",
          "2017-12-19T00:00:00",
          "2017-12-19T00:00:00",
          "2017-12-19T00:00:00",
          "2017-12-19T00:00:00",
          "2017-12-19T00:00:00",
          "2017-12-19T00:00:00",
          "2017-12-19T00:00:00",
          "2017-12-19T00:00:00",
          "2017-12-19T00:00:00",
          "2017-12-19T00:00:00",
          "2017-12-19T00:00:00",
          "2017-12-19T00:00:00",
          "2017-12-19T00:00:00",
          "2017-12-19T00:00:00",
          "2022-03-11T00:00:00",
          "2022-03-11T00:00:00",
          "2022-03-11T00:00:00",
          "2022-03-11T00:00:00",
          "2022-03-14T00:00:00",
          "2022-03-14T00:00:00",
          "2022-03-14T00:00:00",
          "2022-03-14T00:00:00",
          "2022-03-14T00:00:00",
          "2022-03-14T00:00:00",
          "2022-03-14T00:00:00",
          "2022-03-14T00:00:00",
          "2022-03-14T00:00:00",
          "2022-03-14T00:00:00",
          "2022-03-14T00:00:00",
          "2022-03-14T00:00:00",
          "2022-03-14T00:00:00",
          "2022-03-14T00:00:00",
          "2022-03-16T00:00:00",
          "2022-03-14T00:00:00",
          "2022-03-14T00:00:00",
          "2022-03-14T00:00:00",
          "2022-03-14T00:00:00",
          "2022-03-14T00:00:00",
          "2022-03-14T00:00:00",
          "2022-03-14T00:00:00",
          "2022-03-14T00:00:00",
          "2022-03-14T00:00:00",
          "2022-03-14T00:00:00",
          "2022-03-14T00:00:00",
          "2022-03-14T00:00:00",
          "2022-03-14T00:00:00",
          "2022-03-15T00:00:00",
          "2022-03-15T00:00:00",
          "2022-03-15T00:00:00",
          "2022-03-15T00:00:00",
          "2022-03-16T00:00:00",
          "2022-03-16T00:00:00",
          "2022-03-22T00:00:00"
         ],
         "xaxis": "x",
         "y": [
          4,
          5,
          5,
          4,
          3,
          4,
          3,
          3,
          2,
          5,
          5,
          2,
          4,
          4,
          3,
          2,
          3,
          5,
          5,
          5,
          5,
          4,
          3,
          4,
          1,
          4,
          2,
          2,
          5,
          3,
          5,
          4,
          4,
          5,
          4,
          4,
          5,
          4,
          5,
          4,
          4,
          5,
          1,
          5,
          4,
          4,
          4,
          4,
          5,
          5,
          5,
          3,
          2,
          4,
          5,
          4,
          5,
          4,
          5,
          4,
          3,
          4,
          5,
          3,
          5,
          3,
          5,
          5,
          4,
          5,
          2,
          5,
          4,
          5,
          2,
          5,
          5,
          5,
          4,
          5,
          4,
          4,
          5,
          4,
          3,
          5,
          4,
          5,
          4,
          5,
          5,
          4,
          5,
          4,
          4,
          4,
          5,
          4,
          5,
          5,
          3,
          4,
          5,
          4,
          2,
          3,
          4,
          5,
          5,
          5,
          5,
          5,
          4,
          4,
          3,
          4,
          4,
          5,
          3,
          5,
          4,
          3,
          4,
          5,
          5,
          4,
          4,
          3,
          5,
          4,
          2,
          3,
          5,
          5,
          3,
          4,
          5,
          4,
          5,
          4,
          5,
          5,
          4,
          4,
          4,
          5,
          5,
          5,
          4,
          5,
          5,
          5,
          4,
          4,
          4,
          4,
          5,
          5,
          5,
          5,
          2,
          5,
          4,
          5,
          4,
          3,
          3,
          4,
          4,
          4,
          3,
          4,
          5,
          3,
          4,
          4,
          4,
          4,
          4,
          4,
          5,
          4,
          4,
          5,
          5,
          4,
          4,
          3,
          5,
          4,
          4,
          4,
          3,
          5,
          5,
          5,
          4,
          5,
          5,
          4,
          5,
          4,
          4,
          4,
          5,
          4,
          4,
          5,
          5,
          4,
          4,
          5,
          4,
          5,
          4,
          5,
          5,
          5,
          4,
          5,
          5,
          5,
          4,
          5,
          4,
          5,
          4,
          4,
          4,
          4,
          4,
          4,
          4,
          3,
          5,
          5,
          2,
          4,
          5,
          3,
          4,
          4,
          3,
          5,
          4,
          3,
          4,
          5,
          4,
          5,
          4,
          4,
          5,
          4,
          4,
          5,
          4,
          4,
          4,
          4,
          5,
          4,
          4,
          4,
          4,
          4,
          3,
          4,
          4,
          4,
          4,
          5,
          4,
          4,
          5,
          4,
          4,
          4,
          3,
          3,
          4,
          5,
          4,
          4,
          5,
          5,
          5,
          4,
          4,
          4,
          5,
          5,
          5,
          4,
          5,
          5,
          4,
          5,
          5,
          5,
          5,
          4,
          5,
          5,
          3,
          5,
          5,
          4,
          3,
          5,
          5,
          5,
          5,
          5,
          4,
          4,
          3,
          5,
          5,
          5,
          5,
          5,
          5,
          4,
          5,
          5,
          3,
          4,
          5,
          4,
          5,
          5,
          4,
          4,
          4,
          5,
          4,
          5,
          5,
          4,
          4,
          5,
          5,
          5,
          4,
          5,
          5,
          5,
          5,
          3,
          4,
          4,
          4,
          4,
          4,
          4,
          5,
          5,
          4,
          5,
          4,
          4,
          4,
          4,
          4,
          5,
          4,
          4,
          5,
          5,
          5,
          5,
          5,
          5,
          5,
          5,
          5,
          4,
          4,
          5,
          5,
          5,
          3,
          5,
          5,
          4,
          5,
          4,
          4,
          3,
          4,
          5,
          4,
          3,
          5,
          5,
          4,
          5,
          5,
          4,
          5,
          5,
          5,
          5,
          5,
          5,
          3,
          4,
          5,
          3,
          5,
          4,
          4,
          4,
          5,
          5,
          4,
          5,
          4,
          5,
          4,
          4,
          5,
          5,
          5,
          5,
          4,
          5,
          1,
          5,
          5,
          5,
          4,
          5,
          5,
          5,
          4,
          5,
          5,
          5,
          4,
          4,
          5,
          2,
          4,
          5,
          3,
          5,
          3,
          4,
          4,
          5,
          5,
          5,
          4,
          3,
          4,
          4,
          5,
          5,
          5,
          4,
          3,
          5,
          1,
          5,
          5,
          5,
          4,
          4,
          4,
          4,
          3,
          4,
          4,
          4,
          4,
          5,
          5,
          4,
          4,
          5,
          3,
          4,
          5,
          4,
          5,
          4,
          3,
          4,
          4,
          3,
          5,
          5,
          5,
          5,
          4,
          4,
          4,
          5,
          4,
          4,
          5,
          4,
          3,
          2,
          3,
          2,
          4,
          4,
          3,
          3,
          4,
          4,
          3,
          4,
          4,
          4,
          4,
          4,
          4,
          5,
          4,
          4,
          4,
          5,
          4,
          4,
          3,
          5,
          4,
          4,
          4,
          4,
          3,
          5,
          3,
          4,
          4,
          3,
          4,
          4,
          4,
          5,
          3,
          3,
          3,
          4,
          3,
          4,
          4,
          3,
          5,
          4,
          3,
          2,
          5,
          4,
          5,
          4,
          3,
          5,
          3,
          3,
          4,
          4,
          4,
          4,
          4,
          5,
          3,
          4,
          5,
          4,
          4,
          4,
          3,
          4,
          5,
          3,
          5,
          5,
          3,
          4,
          4,
          5,
          4,
          4,
          5,
          4,
          5,
          4,
          4,
          4,
          4,
          5,
          4,
          4,
          5,
          3,
          3,
          4,
          4,
          4,
          4,
          5,
          4,
          4,
          4,
          5,
          3,
          5,
          5,
          4,
          4,
          4,
          4,
          4,
          4,
          5,
          3,
          4,
          4,
          4,
          5,
          5,
          4,
          5,
          4,
          4,
          4,
          5,
          5,
          5,
          4,
          5,
          5,
          5,
          5,
          5,
          5,
          4,
          5,
          4,
          5,
          4,
          5,
          5,
          5,
          5,
          4,
          5,
          5,
          4,
          4,
          4,
          2,
          4,
          4,
          4,
          4,
          5,
          5,
          4,
          4,
          3,
          4,
          3,
          5,
          4,
          5,
          3,
          4,
          4,
          4,
          4,
          4,
          4,
          4,
          2,
          4,
          4,
          4,
          4,
          4,
          4,
          4,
          5,
          3,
          3,
          4,
          5,
          4,
          3,
          3,
          3,
          4,
          4,
          4,
          4,
          4,
          2,
          5,
          5,
          4,
          5,
          4,
          3,
          2,
          5,
          4,
          5,
          4,
          5,
          2,
          4,
          5,
          5,
          5,
          5
         ],
         "yaxis": "y"
        },
        {
         "hovertemplate": "<b>OLS trendline</b><br>overall_rating = 0.0647381 * date + 4.22227<br>R<sup>2</sup>=0.008027<br><br>Date (years)=%{x}<br>Overall Rating (1-5)=%{y} <b>(trend)</b><extra></extra>",
         "legendgroup": "",
         "marker": {
          "symbol": "circle"
         },
         "mode": "lines",
         "name": "",
         "showlegend": false,
         "type": "scatter",
         "x": [
          "2017-12-19T00:00:00",
          "2017-12-19T00:00:00",
          "2017-12-19T00:00:00",
          "2017-12-19T00:00:00",
          "2017-12-19T00:00:00",
          "2017-12-19T00:00:00",
          "2017-12-19T00:00:00",
          "2017-12-19T00:00:00",
          "2017-12-19T00:00:00",
          "2017-12-19T00:00:00",
          "2017-12-19T00:00:00",
          "2017-12-19T00:00:00",
          "2017-12-19T00:00:00",
          "2017-12-19T00:00:00",
          "2017-12-19T00:00:00",
          "2017-12-19T00:00:00",
          "2017-12-19T00:00:00",
          "2017-12-19T00:00:00",
          "2017-12-19T00:00:00",
          "2017-12-19T00:00:00",
          "2017-12-19T00:00:00",
          "2017-12-19T00:00:00",
          "2017-12-19T00:00:00",
          "2017-12-19T00:00:00",
          "2017-12-19T00:00:00",
          "2017-12-19T00:00:00",
          "2017-12-19T00:00:00",
          "2017-12-19T00:00:00",
          "2017-12-19T00:00:00",
          "2017-12-19T00:00:00",
          "2017-12-19T00:00:00",
          "2017-12-19T00:00:00",
          "2017-12-19T00:00:00",
          "2017-12-19T00:00:00",
          "2017-12-19T00:00:00",
          "2017-12-19T00:00:00",
          "2017-12-19T00:00:00",
          "2017-12-19T00:00:00",
          "2017-12-19T00:00:00",
          "2017-12-19T00:00:00",
          "2017-12-19T00:00:00",
          "2017-12-19T00:00:00",
          "2017-12-19T00:00:00",
          "2017-12-19T00:00:00",
          "2017-12-19T00:00:00",
          "2017-12-19T00:00:00",
          "2017-12-19T00:00:00",
          "2017-12-19T00:00:00",
          "2017-12-19T00:00:00",
          "2017-12-19T00:00:00",
          "2017-12-19T00:00:00",
          "2017-12-19T00:00:00",
          "2017-12-19T00:00:00",
          "2017-12-19T00:00:00",
          "2017-12-19T00:00:00",
          "2017-12-19T00:00:00",
          "2017-12-19T00:00:00",
          "2017-12-19T00:00:00",
          "2017-12-19T00:00:00",
          "2017-12-19T00:00:00",
          "2017-12-19T00:00:00",
          "2017-12-19T00:00:00",
          "2017-12-20T00:00:00",
          "2017-12-20T00:00:00",
          "2017-12-20T00:00:00",
          "2017-12-20T00:00:00",
          "2017-12-20T00:00:00",
          "2017-12-20T00:00:00",
          "2017-12-20T00:00:00",
          "2017-12-20T00:00:00",
          "2017-12-20T00:00:00",
          "2017-12-20T00:00:00",
          "2017-12-20T00:00:00",
          "2017-12-20T00:00:00",
          "2017-12-20T00:00:00",
          "2017-12-20T00:00:00",
          "2017-12-20T00:00:00",
          "2017-12-20T00:00:00",
          "2017-12-20T00:00:00",
          "2017-12-20T00:00:00",
          "2017-12-20T00:00:00",
          "2017-12-20T00:00:00",
          "2017-12-20T00:00:00",
          "2017-12-20T00:00:00",
          "2017-12-20T00:00:00",
          "2017-12-20T00:00:00",
          "2017-12-20T00:00:00",
          "2017-12-20T00:00:00",
          "2017-12-20T00:00:00",
          "2017-12-20T00:00:00",
          "2017-12-20T00:00:00",
          "2017-12-20T00:00:00",
          "2017-12-20T00:00:00",
          "2018-01-12T00:00:00",
          "2018-01-12T00:00:00",
          "2018-01-31T00:00:00",
          "2018-02-02T00:00:00",
          "2018-02-21T00:00:00",
          "2018-02-21T00:00:00",
          "2018-02-21T00:00:00",
          "2018-03-23T00:00:00",
          "2018-11-12T00:00:00",
          "2018-12-17T00:00:00",
          "2018-12-17T00:00:00",
          "2018-12-17T00:00:00",
          "2018-12-17T00:00:00",
          "2018-12-17T00:00:00",
          "2018-12-17T00:00:00",
          "2018-12-17T00:00:00",
          "2018-12-17T00:00:00",
          "2018-12-17T00:00:00",
          "2018-12-17T00:00:00",
          "2018-12-17T00:00:00",
          "2018-12-17T00:00:00",
          "2018-12-17T00:00:00",
          "2018-12-17T00:00:00",
          "2018-12-17T00:00:00",
          "2018-12-17T00:00:00",
          "2018-12-17T00:00:00",
          "2018-12-17T00:00:00",
          "2018-12-17T00:00:00",
          "2018-12-17T00:00:00",
          "2018-12-17T00:00:00",
          "2018-12-17T00:00:00",
          "2018-12-17T00:00:00",
          "2018-12-17T00:00:00",
          "2018-12-17T00:00:00",
          "2018-12-17T00:00:00",
          "2018-12-17T00:00:00",
          "2018-12-17T00:00:00",
          "2018-12-17T00:00:00",
          "2018-12-17T00:00:00",
          "2018-12-17T00:00:00",
          "2018-12-17T00:00:00",
          "2018-12-17T00:00:00",
          "2018-12-17T00:00:00",
          "2018-12-17T00:00:00",
          "2018-12-17T00:00:00",
          "2018-12-17T00:00:00",
          "2018-12-17T00:00:00",
          "2018-12-17T00:00:00",
          "2018-12-17T00:00:00",
          "2018-12-17T00:00:00",
          "2018-12-17T00:00:00",
          "2018-12-17T00:00:00",
          "2018-12-17T00:00:00",
          "2018-12-17T00:00:00",
          "2018-12-17T00:00:00",
          "2018-12-17T00:00:00",
          "2018-12-17T00:00:00",
          "2018-12-17T00:00:00",
          "2018-12-17T00:00:00",
          "2018-12-17T00:00:00",
          "2018-12-17T00:00:00",
          "2018-12-17T00:00:00",
          "2018-12-17T00:00:00",
          "2018-12-17T00:00:00",
          "2018-12-17T00:00:00",
          "2018-12-17T00:00:00",
          "2018-12-17T00:00:00",
          "2018-12-17T00:00:00",
          "2018-12-17T00:00:00",
          "2018-12-17T00:00:00",
          "2018-12-17T00:00:00",
          "2018-12-17T00:00:00",
          "2018-12-17T00:00:00",
          "2018-12-17T00:00:00",
          "2018-12-17T00:00:00",
          "2018-12-17T00:00:00",
          "2018-12-17T00:00:00",
          "2018-12-17T00:00:00",
          "2018-12-17T00:00:00",
          "2018-12-17T00:00:00",
          "2018-12-17T00:00:00",
          "2018-12-17T00:00:00",
          "2018-12-17T00:00:00",
          "2018-12-17T00:00:00",
          "2018-12-17T00:00:00",
          "2018-12-17T00:00:00",
          "2018-12-17T00:00:00",
          "2018-12-17T00:00:00",
          "2018-12-17T00:00:00",
          "2018-12-17T00:00:00",
          "2018-12-17T00:00:00",
          "2018-12-17T00:00:00",
          "2018-12-17T00:00:00",
          "2018-12-17T00:00:00",
          "2018-12-17T00:00:00",
          "2018-12-17T00:00:00",
          "2018-12-17T00:00:00",
          "2018-12-17T00:00:00",
          "2018-12-17T00:00:00",
          "2018-12-17T00:00:00",
          "2018-12-17T00:00:00",
          "2018-12-17T00:00:00",
          "2018-12-17T00:00:00",
          "2018-12-17T00:00:00",
          "2018-12-17T00:00:00",
          "2018-12-17T00:00:00",
          "2018-12-17T00:00:00",
          "2018-12-17T00:00:00",
          "2018-12-17T00:00:00",
          "2018-12-17T00:00:00",
          "2018-12-17T00:00:00",
          "2018-12-17T00:00:00",
          "2018-12-17T00:00:00",
          "2018-12-17T00:00:00",
          "2018-12-17T00:00:00",
          "2018-12-17T00:00:00",
          "2018-12-17T00:00:00",
          "2018-12-17T00:00:00",
          "2018-12-17T00:00:00",
          "2018-12-17T00:00:00",
          "2018-12-17T00:00:00",
          "2018-12-17T00:00:00",
          "2019-02-21T00:00:00",
          "2019-02-21T00:00:00",
          "2019-02-21T00:00:00",
          "2019-02-21T00:00:00",
          "2019-02-21T00:00:00",
          "2019-02-21T00:00:00",
          "2019-02-25T00:00:00",
          "2019-02-25T00:00:00",
          "2019-02-25T00:00:00",
          "2019-02-25T00:00:00",
          "2019-02-25T00:00:00",
          "2019-02-25T00:00:00",
          "2019-02-27T00:00:00",
          "2019-02-27T00:00:00",
          "2019-02-27T00:00:00",
          "2019-02-27T00:00:00",
          "2019-02-27T00:00:00",
          "2019-02-27T00:00:00",
          "2019-02-27T00:00:00",
          "2019-02-27T00:00:00",
          "2019-02-27T00:00:00",
          "2019-02-27T00:00:00",
          "2019-02-27T00:00:00",
          "2019-02-27T00:00:00",
          "2019-02-27T00:00:00",
          "2019-02-27T00:00:00",
          "2019-02-27T00:00:00",
          "2019-02-27T00:00:00",
          "2019-02-27T00:00:00",
          "2019-02-28T00:00:00",
          "2019-02-28T00:00:00",
          "2019-02-28T00:00:00",
          "2019-02-28T00:00:00",
          "2019-02-28T00:00:00",
          "2019-02-28T00:00:00",
          "2019-02-28T00:00:00",
          "2019-02-28T00:00:00",
          "2019-02-28T00:00:00",
          "2019-03-01T00:00:00",
          "2019-03-04T00:00:00",
          "2019-10-11T00:00:00",
          "2019-10-14T00:00:00",
          "2019-11-06T00:00:00",
          "2019-11-12T00:00:00",
          "2019-11-12T00:00:00",
          "2019-11-12T00:00:00",
          "2019-11-12T00:00:00",
          "2019-11-12T00:00:00",
          "2019-11-12T00:00:00",
          "2019-11-12T00:00:00",
          "2019-11-12T00:00:00",
          "2019-11-12T00:00:00",
          "2019-11-12T00:00:00",
          "2019-11-12T00:00:00",
          "2019-11-12T00:00:00",
          "2019-11-13T00:00:00",
          "2019-11-13T00:00:00",
          "2019-11-13T00:00:00",
          "2019-11-13T00:00:00",
          "2019-11-13T00:00:00",
          "2019-11-13T00:00:00",
          "2019-11-13T00:00:00",
          "2019-11-13T00:00:00",
          "2019-11-13T00:00:00",
          "2019-11-14T00:00:00",
          "2019-11-15T00:00:00",
          "2019-11-15T00:00:00",
          "2019-11-15T00:00:00",
          "2019-11-15T00:00:00",
          "2019-11-15T00:00:00",
          "2019-11-15T00:00:00",
          "2019-11-15T00:00:00",
          "2019-11-15T00:00:00",
          "2019-11-15T00:00:00",
          "2019-11-15T00:00:00",
          "2019-11-15T00:00:00",
          "2019-11-15T00:00:00",
          "2019-11-15T00:00:00",
          "2019-11-15T00:00:00",
          "2019-11-15T00:00:00",
          "2019-11-15T00:00:00",
          "2019-11-15T00:00:00",
          "2019-11-15T00:00:00",
          "2019-11-15T00:00:00",
          "2019-11-15T00:00:00",
          "2019-11-15T00:00:00",
          "2019-11-15T00:00:00",
          "2019-11-15T00:00:00",
          "2019-11-16T00:00:00",
          "2019-11-17T00:00:00",
          "2019-11-19T00:00:00",
          "2019-11-19T00:00:00",
          "2019-11-19T00:00:00",
          "2019-11-19T00:00:00",
          "2019-11-19T00:00:00",
          "2019-11-19T00:00:00",
          "2019-11-19T00:00:00",
          "2019-11-19T00:00:00",
          "2019-11-19T00:00:00",
          "2019-11-20T00:00:00",
          "2019-11-20T00:00:00",
          "2019-11-20T00:00:00",
          "2019-11-20T00:00:00",
          "2019-11-21T00:00:00",
          "2019-11-21T00:00:00",
          "2019-11-22T00:00:00",
          "2019-11-22T00:00:00",
          "2019-11-22T00:00:00",
          "2019-11-22T00:00:00",
          "2019-11-22T00:00:00",
          "2019-11-22T00:00:00",
          "2019-11-22T00:00:00",
          "2019-11-22T00:00:00",
          "2019-11-23T00:00:00",
          "2019-11-23T00:00:00",
          "2019-11-23T00:00:00",
          "2019-11-23T00:00:00",
          "2019-11-23T00:00:00",
          "2019-11-23T00:00:00",
          "2019-11-23T00:00:00",
          "2019-11-23T00:00:00",
          "2019-11-24T00:00:00",
          "2019-11-24T00:00:00",
          "2019-11-24T00:00:00",
          "2019-11-24T00:00:00",
          "2019-11-24T00:00:00",
          "2019-11-24T00:00:00",
          "2019-11-24T00:00:00",
          "2019-11-24T00:00:00",
          "2019-11-24T00:00:00",
          "2019-11-24T00:00:00",
          "2019-11-24T00:00:00",
          "2019-11-24T00:00:00",
          "2019-11-24T00:00:00",
          "2019-11-24T00:00:00",
          "2019-11-24T00:00:00",
          "2019-11-24T00:00:00",
          "2019-11-25T00:00:00",
          "2019-11-25T00:00:00",
          "2019-11-25T00:00:00",
          "2019-11-29T00:00:00",
          "2019-11-29T00:00:00",
          "2019-11-29T00:00:00",
          "2019-11-29T00:00:00",
          "2019-11-29T00:00:00",
          "2019-11-29T00:00:00",
          "2019-11-29T00:00:00",
          "2019-11-29T00:00:00",
          "2019-11-29T00:00:00",
          "2019-11-29T00:00:00",
          "2019-11-29T00:00:00",
          "2019-11-29T00:00:00",
          "2019-11-29T00:00:00",
          "2019-11-29T00:00:00",
          "2019-11-29T00:00:00",
          "2019-11-29T00:00:00",
          "2019-11-29T00:00:00",
          "2019-11-29T00:00:00",
          "2019-11-29T00:00:00",
          "2019-11-29T00:00:00",
          "2019-12-05T00:00:00",
          "2019-12-05T00:00:00",
          "2019-12-05T00:00:00",
          "2019-12-05T00:00:00",
          "2019-12-05T00:00:00",
          "2019-12-05T00:00:00",
          "2019-12-05T00:00:00",
          "2019-12-05T00:00:00",
          "2019-12-05T00:00:00",
          "2019-12-13T00:00:00",
          "2019-12-13T00:00:00",
          "2019-12-13T00:00:00",
          "2019-12-13T00:00:00",
          "2019-12-13T00:00:00",
          "2019-12-13T00:00:00",
          "2019-12-13T00:00:00",
          "2019-12-13T00:00:00",
          "2019-12-13T00:00:00",
          "2019-12-13T00:00:00",
          "2019-12-13T00:00:00",
          "2019-12-13T00:00:00",
          "2019-12-13T00:00:00",
          "2019-12-17T00:00:00",
          "2019-12-17T00:00:00",
          "2019-12-17T00:00:00",
          "2019-12-17T00:00:00",
          "2019-12-17T00:00:00",
          "2019-12-17T00:00:00",
          "2019-12-17T00:00:00",
          "2019-12-17T00:00:00",
          "2019-12-17T00:00:00",
          "2019-12-17T00:00:00",
          "2019-12-17T00:00:00",
          "2019-12-17T00:00:00",
          "2019-12-17T00:00:00",
          "2019-12-17T00:00:00",
          "2019-12-17T00:00:00",
          "2019-12-17T00:00:00",
          "2019-12-17T00:00:00",
          "2019-12-17T00:00:00",
          "2019-12-17T00:00:00",
          "2019-12-17T00:00:00",
          "2019-12-17T00:00:00",
          "2019-12-18T00:00:00",
          "2019-12-18T00:00:00",
          "2019-12-18T00:00:00",
          "2019-12-18T00:00:00",
          "2019-12-18T00:00:00",
          "2019-12-18T00:00:00",
          "2019-12-18T00:00:00",
          "2019-12-18T00:00:00",
          "2019-12-18T00:00:00",
          "2019-12-18T00:00:00",
          "2019-12-18T00:00:00",
          "2019-12-18T00:00:00",
          "2019-12-18T00:00:00",
          "2019-12-18T00:00:00",
          "2019-12-18T00:00:00",
          "2019-12-18T00:00:00",
          "2019-12-18T00:00:00",
          "2019-12-18T00:00:00",
          "2019-12-18T00:00:00",
          "2019-12-18T00:00:00",
          "2019-12-18T00:00:00",
          "2019-12-18T00:00:00",
          "2019-12-18T00:00:00",
          "2019-12-18T00:00:00",
          "2019-12-18T00:00:00",
          "2019-12-18T00:00:00",
          "2019-12-18T00:00:00",
          "2019-12-18T00:00:00",
          "2019-12-18T00:00:00",
          "2019-12-18T00:00:00",
          "2019-12-18T00:00:00",
          "2019-12-18T00:00:00",
          "2019-12-18T00:00:00",
          "2019-12-18T00:00:00",
          "2019-12-18T00:00:00",
          "2019-12-18T00:00:00",
          "2019-12-18T00:00:00",
          "2019-12-18T00:00:00",
          "2019-12-18T00:00:00",
          "2019-12-18T00:00:00",
          "2019-12-18T00:00:00",
          "2019-12-18T00:00:00",
          "2019-12-18T00:00:00",
          "2019-12-18T00:00:00",
          "2019-12-18T00:00:00",
          "2019-12-18T00:00:00",
          "2019-12-18T00:00:00",
          "2019-12-18T00:00:00",
          "2019-12-18T00:00:00",
          "2019-12-18T00:00:00",
          "2019-12-18T00:00:00",
          "2019-12-18T00:00:00",
          "2019-12-18T00:00:00",
          "2019-12-18T00:00:00",
          "2019-12-18T00:00:00",
          "2019-12-18T00:00:00",
          "2019-12-18T00:00:00",
          "2019-12-18T00:00:00",
          "2019-12-18T00:00:00",
          "2019-12-18T00:00:00",
          "2019-12-18T00:00:00",
          "2019-12-18T00:00:00",
          "2019-12-18T00:00:00",
          "2019-12-18T00:00:00",
          "2019-12-18T00:00:00",
          "2019-12-18T00:00:00",
          "2019-12-18T00:00:00",
          "2019-12-18T00:00:00",
          "2019-12-18T00:00:00",
          "2019-12-18T00:00:00",
          "2019-12-18T00:00:00",
          "2019-12-18T00:00:00",
          "2019-12-18T00:00:00",
          "2019-12-18T00:00:00",
          "2019-12-18T00:00:00",
          "2019-12-18T00:00:00",
          "2019-12-18T00:00:00",
          "2019-12-18T00:00:00",
          "2019-12-18T00:00:00",
          "2019-12-18T00:00:00",
          "2019-12-18T00:00:00",
          "2019-12-18T00:00:00",
          "2019-12-18T00:00:00",
          "2019-12-18T00:00:00",
          "2019-12-18T00:00:00",
          "2019-12-18T00:00:00",
          "2019-12-18T00:00:00",
          "2019-12-18T00:00:00",
          "2019-12-18T00:00:00",
          "2019-12-18T00:00:00",
          "2019-12-18T00:00:00",
          "2019-12-18T00:00:00",
          "2019-12-18T00:00:00",
          "2019-12-18T00:00:00",
          "2019-12-18T00:00:00",
          "2019-12-18T00:00:00",
          "2019-12-18T00:00:00",
          "2019-12-18T00:00:00",
          "2019-12-18T00:00:00",
          "2019-12-18T00:00:00",
          "2019-12-18T00:00:00",
          "2019-12-18T00:00:00",
          "2019-12-18T00:00:00",
          "2019-12-18T00:00:00",
          "2019-12-18T00:00:00",
          "2019-12-18T00:00:00",
          "2020-01-03T00:00:00",
          "2020-01-09T00:00:00",
          "2020-01-09T00:00:00",
          "2020-01-09T00:00:00",
          "2020-01-09T00:00:00",
          "2020-01-09T00:00:00",
          "2020-01-09T00:00:00",
          "2020-01-09T00:00:00",
          "2020-01-09T00:00:00",
          "2020-01-09T00:00:00",
          "2020-01-09T00:00:00",
          "2020-01-09T00:00:00",
          "2020-01-09T00:00:00",
          "2020-01-09T00:00:00",
          "2020-01-10T00:00:00",
          "2020-01-10T00:00:00",
          "2020-01-10T00:00:00",
          "2020-01-10T00:00:00",
          "2020-01-11T00:00:00",
          "2020-01-11T00:00:00",
          "2020-01-11T00:00:00",
          "2020-01-11T00:00:00",
          "2020-01-11T00:00:00",
          "2020-01-13T00:00:00",
          "2020-01-14T00:00:00",
          "2020-01-14T00:00:00",
          "2020-01-15T00:00:00",
          "2020-01-18T00:00:00",
          "2020-01-19T00:00:00",
          "2020-01-20T00:00:00",
          "2020-01-20T00:00:00",
          "2020-01-20T00:00:00",
          "2020-01-20T00:00:00",
          "2020-01-20T00:00:00",
          "2020-01-20T00:00:00",
          "2020-01-20T00:00:00",
          "2020-01-20T00:00:00",
          "2020-01-20T00:00:00",
          "2020-01-20T00:00:00",
          "2020-01-20T00:00:00",
          "2020-01-20T00:00:00",
          "2020-01-20T00:00:00",
          "2020-01-20T00:00:00",
          "2020-01-20T00:00:00",
          "2020-01-20T00:00:00",
          "2020-01-20T00:00:00",
          "2020-01-20T00:00:00",
          "2020-01-20T00:00:00",
          "2020-01-20T00:00:00",
          "2020-01-20T00:00:00",
          "2020-01-20T00:00:00",
          "2020-01-20T00:00:00",
          "2020-01-20T00:00:00",
          "2020-01-20T00:00:00",
          "2020-01-20T00:00:00",
          "2020-01-20T00:00:00",
          "2020-01-20T00:00:00",
          "2020-01-20T00:00:00",
          "2020-01-20T00:00:00",
          "2020-01-20T00:00:00",
          "2020-01-20T00:00:00",
          "2020-01-20T00:00:00",
          "2020-01-20T00:00:00",
          "2020-01-20T00:00:00",
          "2020-01-20T00:00:00",
          "2020-01-20T00:00:00",
          "2020-01-20T00:00:00",
          "2020-01-20T00:00:00",
          "2020-01-20T00:00:00",
          "2020-01-20T00:00:00",
          "2020-01-20T00:00:00",
          "2020-01-20T00:00:00",
          "2020-01-20T00:00:00",
          "2020-01-20T00:00:00",
          "2020-01-20T00:00:00",
          "2020-01-20T00:00:00",
          "2020-01-20T00:00:00",
          "2020-01-20T00:00:00",
          "2020-01-20T00:00:00",
          "2020-01-20T00:00:00",
          "2020-01-20T00:00:00",
          "2020-01-20T00:00:00",
          "2020-01-20T00:00:00",
          "2020-01-20T00:00:00",
          "2020-01-20T00:00:00",
          "2020-01-20T00:00:00",
          "2020-01-20T00:00:00",
          "2020-01-20T00:00:00",
          "2020-01-20T00:00:00",
          "2020-01-20T00:00:00",
          "2020-01-20T00:00:00",
          "2020-01-20T00:00:00",
          "2020-01-21T00:00:00",
          "2020-01-22T00:00:00",
          "2020-01-23T00:00:00",
          "2020-02-08T00:00:00",
          "2020-02-12T00:00:00",
          "2020-02-13T00:00:00",
          "2020-02-13T00:00:00",
          "2020-02-17T00:00:00",
          "2020-02-18T00:00:00",
          "2020-02-18T00:00:00",
          "2020-02-18T00:00:00",
          "2020-02-18T00:00:00",
          "2020-02-18T00:00:00",
          "2020-02-18T00:00:00",
          "2020-02-22T00:00:00",
          "2020-02-23T00:00:00",
          "2020-02-25T00:00:00",
          "2020-02-25T00:00:00",
          "2020-02-25T00:00:00",
          "2020-02-25T00:00:00",
          "2020-02-25T00:00:00",
          "2020-02-26T00:00:00",
          "2020-02-26T00:00:00",
          "2020-02-26T00:00:00",
          "2020-02-26T00:00:00",
          "2020-02-26T00:00:00",
          "2020-02-26T00:00:00",
          "2020-02-27T00:00:00",
          "2020-02-27T00:00:00",
          "2020-02-27T00:00:00",
          "2020-02-27T00:00:00",
          "2020-02-28T00:00:00",
          "2020-02-28T00:00:00",
          "2020-02-28T00:00:00",
          "2020-02-28T00:00:00",
          "2020-02-28T00:00:00",
          "2020-02-28T00:00:00",
          "2020-02-29T00:00:00",
          "2020-05-28T00:00:00",
          "2020-07-24T00:00:00",
          "2020-11-17T00:00:00",
          "2021-03-18T00:00:00",
          "2021-03-18T00:00:00",
          "2021-03-21T00:00:00",
          "2021-03-22T00:00:00",
          "2021-04-02T00:00:00",
          "2021-04-03T00:00:00",
          "2021-04-08T00:00:00",
          "2021-04-09T00:00:00",
          "2021-04-10T00:00:00",
          "2021-04-10T00:00:00",
          "2021-04-10T00:00:00",
          "2021-04-11T00:00:00",
          "2021-04-11T00:00:00",
          "2021-04-26T00:00:00",
          "2021-04-28T00:00:00",
          "2021-04-28T00:00:00",
          "2021-05-20T00:00:00",
          "2021-05-25T00:00:00",
          "2021-05-26T00:00:00",
          "2021-05-26T00:00:00",
          "2021-05-26T00:00:00",
          "2021-05-28T00:00:00",
          "2021-11-04T00:00:00",
          "2022-03-11T00:00:00",
          "2022-03-11T00:00:00",
          "2022-03-11T00:00:00",
          "2022-03-11T00:00:00",
          "2022-03-14T00:00:00",
          "2022-03-14T00:00:00",
          "2022-03-14T00:00:00",
          "2022-03-14T00:00:00",
          "2022-03-14T00:00:00",
          "2022-03-14T00:00:00",
          "2022-03-14T00:00:00",
          "2022-03-14T00:00:00",
          "2022-03-14T00:00:00",
          "2022-03-14T00:00:00",
          "2022-03-14T00:00:00",
          "2022-03-14T00:00:00",
          "2022-03-14T00:00:00",
          "2022-03-14T00:00:00",
          "2022-03-14T00:00:00",
          "2022-03-14T00:00:00",
          "2022-03-14T00:00:00",
          "2022-03-14T00:00:00",
          "2022-03-14T00:00:00",
          "2022-03-14T00:00:00",
          "2022-03-14T00:00:00",
          "2022-03-14T00:00:00",
          "2022-03-14T00:00:00",
          "2022-03-14T00:00:00",
          "2022-03-14T00:00:00",
          "2022-03-14T00:00:00",
          "2022-03-14T00:00:00",
          "2022-03-15T00:00:00",
          "2022-03-15T00:00:00",
          "2022-03-15T00:00:00",
          "2022-03-15T00:00:00",
          "2022-03-16T00:00:00",
          "2022-03-16T00:00:00",
          "2022-03-16T00:00:00",
          "2022-03-16T00:00:00",
          "2022-03-22T00:00:00"
         ],
         "xaxis": "x",
         "y": [
          4.219288235927508,
          4.219288235927508,
          4.219288235927508,
          4.219288235927508,
          4.219288235927508,
          4.219288235927508,
          4.219288235927508,
          4.219288235927508,
          4.219288235927508,
          4.219288235927508,
          4.219288235927508,
          4.219288235927508,
          4.219288235927508,
          4.219288235927508,
          4.219288235927508,
          4.219288235927508,
          4.219288235927508,
          4.219288235927508,
          4.219288235927508,
          4.219288235927508,
          4.219288235927508,
          4.219288235927508,
          4.219288235927508,
          4.219288235927508,
          4.219288235927508,
          4.219288235927508,
          4.219288235927508,
          4.219288235927508,
          4.219288235927508,
          4.219288235927508,
          4.219288235927508,
          4.219288235927508,
          4.219288235927508,
          4.219288235927508,
          4.219288235927508,
          4.219288235927508,
          4.219288235927508,
          4.219288235927508,
          4.219288235927508,
          4.219288235927508,
          4.219288235927508,
          4.219288235927508,
          4.219288235927508,
          4.219288235927508,
          4.219288235927508,
          4.219288235927508,
          4.219288235927508,
          4.219288235927508,
          4.219288235927508,
          4.219288235927508,
          4.219288235927508,
          4.219288235927508,
          4.219288235927508,
          4.219288235927508,
          4.219288235927508,
          4.219288235927508,
          4.219288235927508,
          4.219288235927508,
          4.219288235927508,
          4.219288235927508,
          4.219288235927508,
          4.219288235927508,
          4.0990634768781,
          4.0990634768781,
          4.0990634768781,
          4.0990634768781,
          4.0990634768781,
          4.0990634768781,
          4.0990634768781,
          4.0990634768781,
          4.0990634768781,
          4.0990634768781,
          4.0990634768781,
          4.0990634768781,
          4.0990634768781,
          4.0990634768781,
          4.0990634768781,
          4.0990634768781,
          4.0990634768781,
          4.0990634768781,
          4.0990634768781,
          4.0990634768781,
          4.0990634768781,
          4.0990634768781,
          4.0990634768781,
          4.0990634768781,
          4.0990634768781,
          4.0990634768781,
          4.0990634768781,
          4.0990634768781,
          4.0990634768781,
          4.0990634768781,
          4.0990634768781,
          4.114375300832975,
          4.114375300832975,
          4.332538032776359,
          4.092088514677541,
          4.310251246620925,
          4.310251246620925,
          4.310251246620925,
          4.318134141857322,
          4.2684014734175735,
          4.231256829825182,
          4.231256829825182,
          4.231256829825182,
          4.231256829825182,
          4.231256829825182,
          4.231256829825182,
          4.231256829825182,
          4.231256829825182,
          4.231256829825182,
          4.231256829825182,
          4.231256829825182,
          4.231256829825182,
          4.231256829825182,
          4.231256829825182,
          4.231256829825182,
          4.231256829825182,
          4.231256829825182,
          4.231256829825182,
          4.231256829825182,
          4.231256829825182,
          4.231256829825182,
          4.231256829825182,
          4.231256829825182,
          4.231256829825182,
          4.231256829825182,
          4.231256829825182,
          4.231256829825182,
          4.231256829825182,
          4.231256829825182,
          4.231256829825182,
          4.231256829825182,
          4.231256829825182,
          4.231256829825182,
          4.231256829825182,
          4.231256829825182,
          4.231256829825182,
          4.231256829825182,
          4.231256829825182,
          4.231256829825182,
          4.231256829825182,
          4.231256829825182,
          4.231256829825182,
          4.231256829825182,
          4.231256829825182,
          4.231256829825182,
          4.231256829825182,
          4.231256829825182,
          4.231256829825182,
          4.231256829825182,
          4.231256829825182,
          4.231256829825182,
          4.231256829825182,
          4.231256829825182,
          4.231256829825182,
          4.231256829825182,
          4.231256829825182,
          4.231256829825182,
          4.231256829825182,
          4.231256829825182,
          4.231256829825182,
          4.231256829825182,
          4.231256829825182,
          4.231256829825182,
          4.231256829825182,
          4.231256829825182,
          4.231256829825182,
          4.231256829825182,
          4.231256829825182,
          4.231256829825182,
          4.231256829825182,
          4.231256829825182,
          4.231256829825182,
          4.231256829825182,
          4.231256829825182,
          4.231256829825182,
          4.231256829825182,
          4.231256829825182,
          4.231256829825182,
          4.231256829825182,
          4.231256829825182,
          4.231256829825182,
          4.231256829825182,
          4.231256829825182,
          4.231256829825182,
          4.231256829825182,
          4.231256829825182,
          4.231256829825182,
          4.231256829825182,
          4.231256829825182,
          4.231256829825182,
          4.231256829825182,
          4.231256829825182,
          4.231256829825182,
          4.231256829825182,
          4.231256829825182,
          4.231256829825182,
          4.231256829825182,
          4.231256829825182,
          4.231256829825182,
          4.231256829825182,
          4.231256829825182,
          4.231256829825182,
          4.231256829825182,
          4.231256829825182,
          4.231256829825182,
          4.231256829825182,
          4.231256829825182,
          4.231256829825182,
          4.231256829825182,
          4.231256829825182,
          4.231256829825182,
          4.231256829825182,
          4.231256829825182,
          4.359818450628909,
          4.359818450628909,
          4.359818450628909,
          4.359818450628909,
          4.359818450628909,
          4.359818450628909,
          4.156967542640401,
          4.156967542640401,
          4.156967542640401,
          4.156967542640401,
          4.156967542640401,
          4.156967542640401,
          4.194566152750712,
          4.194566152750712,
          4.194566152750712,
          4.194566152750712,
          4.194566152750712,
          4.194566152750712,
          4.194566152750712,
          4.194566152750712,
          4.194566152750712,
          4.194566152750712,
          4.194566152750712,
          4.194566152750712,
          4.194566152750712,
          4.194566152750712,
          4.194566152750712,
          4.194566152750712,
          4.194566152750712,
          4.352389521910431,
          4.352389521910431,
          4.352389521910431,
          4.352389521910431,
          4.352389521910431,
          4.352389521910431,
          4.352389521910431,
          4.352389521910431,
          4.352389521910431,
          4.2321647628610215,
          4.149538613921923,
          4.272487172078849,
          4.18986102313975,
          4.205172847094627,
          4.317968677425557,
          4.317968677425557,
          4.317968677425557,
          4.317968677425557,
          4.317968677425557,
          4.317968677425557,
          4.317968677425557,
          4.317968677425557,
          4.317968677425557,
          4.317968677425557,
          4.317968677425557,
          4.317968677425557,
          4.1977439183761485,
          4.1977439183761485,
          4.1977439183761485,
          4.1977439183761485,
          4.1977439183761485,
          4.1977439183761485,
          4.1977439183761485,
          4.1977439183761485,
          4.1977439183761485,
          4.355567287535868,
          4.235342528486458,
          4.235342528486458,
          4.235342528486458,
          4.235342528486458,
          4.235342528486458,
          4.235342528486458,
          4.235342528486458,
          4.235342528486458,
          4.235342528486458,
          4.235342528486458,
          4.235342528486458,
          4.235342528486458,
          4.235342528486458,
          4.235342528486458,
          4.235342528486458,
          4.235342528486458,
          4.235342528486458,
          4.235342528486458,
          4.235342528486458,
          4.235342528486458,
          4.235342528486458,
          4.235342528486458,
          4.235342528486458,
          4.11511776943705,
          4.272941138596769,
          4.310539748707079,
          4.310539748707079,
          4.310539748707079,
          4.310539748707079,
          4.310539748707079,
          4.310539748707079,
          4.310539748707079,
          4.310539748707079,
          4.310539748707079,
          4.19031498965767,
          4.19031498965767,
          4.19031498965767,
          4.19031498965767,
          4.34813835881739,
          4.34813835881739,
          4.22791359976798,
          4.22791359976798,
          4.22791359976798,
          4.22791359976798,
          4.22791359976798,
          4.22791359976798,
          4.22791359976798,
          4.22791359976798,
          4.107688840718572,
          4.107688840718572,
          4.107688840718572,
          4.107688840718572,
          4.107688840718572,
          4.107688840718572,
          4.107688840718572,
          4.107688840718572,
          4.265512209878291,
          4.265512209878291,
          4.265512209878291,
          4.265512209878291,
          4.265512209878291,
          4.265512209878291,
          4.265512209878291,
          4.265512209878291,
          4.265512209878291,
          4.265512209878291,
          4.265512209878291,
          4.265512209878291,
          4.265512209878291,
          4.265512209878291,
          4.265512209878291,
          4.265512209878291,
          4.1452874508288815,
          4.1452874508288815,
          4.1452874508288815,
          4.220484671049502,
          4.220484671049502,
          4.220484671049502,
          4.220484671049502,
          4.220484671049502,
          4.220484671049502,
          4.220484671049502,
          4.220484671049502,
          4.220484671049502,
          4.220484671049502,
          4.220484671049502,
          4.220484671049502,
          4.220484671049502,
          4.220484671049502,
          4.220484671049502,
          4.220484671049502,
          4.220484671049502,
          4.220484671049502,
          4.220484671049502,
          4.220484671049502,
          4.333280501380433,
          4.333280501380433,
          4.333280501380433,
          4.333280501380433,
          4.333280501380433,
          4.333280501380433,
          4.333280501380433,
          4.333280501380433,
          4.333280501380433,
          4.205626813612546,
          4.205626813612546,
          4.205626813612546,
          4.205626813612546,
          4.205626813612546,
          4.205626813612546,
          4.205626813612546,
          4.205626813612546,
          4.205626813612546,
          4.205626813612546,
          4.205626813612546,
          4.205626813612546,
          4.205626813612546,
          4.2808240338331665,
          4.2808240338331665,
          4.2808240338331665,
          4.2808240338331665,
          4.2808240338331665,
          4.2808240338331665,
          4.2808240338331665,
          4.2808240338331665,
          4.2808240338331665,
          4.2808240338331665,
          4.2808240338331665,
          4.2808240338331665,
          4.2808240338331665,
          4.2808240338331665,
          4.2808240338331665,
          4.2808240338331665,
          4.2808240338331665,
          4.2808240338331665,
          4.2808240338331665,
          4.2808240338331665,
          4.2808240338331665,
          4.160599274783758,
          4.160599274783758,
          4.160599274783758,
          4.160599274783758,
          4.160599274783758,
          4.160599274783758,
          4.160599274783758,
          4.160599274783758,
          4.160599274783758,
          4.160599274783758,
          4.160599274783758,
          4.160599274783758,
          4.160599274783758,
          4.160599274783758,
          4.160599274783758,
          4.160599274783758,
          4.160599274783758,
          4.160599274783758,
          4.160599274783758,
          4.160599274783758,
          4.160599274783758,
          4.160599274783758,
          4.160599274783758,
          4.160599274783758,
          4.160599274783758,
          4.160599274783758,
          4.160599274783758,
          4.160599274783758,
          4.160599274783758,
          4.160599274783758,
          4.160599274783758,
          4.160599274783758,
          4.160599274783758,
          4.160599274783758,
          4.160599274783758,
          4.160599274783758,
          4.160599274783758,
          4.160599274783758,
          4.160599274783758,
          4.160599274783758,
          4.160599274783758,
          4.160599274783758,
          4.160599274783758,
          4.160599274783758,
          4.160599274783758,
          4.160599274783758,
          4.160599274783758,
          4.160599274783758,
          4.160599274783758,
          4.160599274783758,
          4.160599274783758,
          4.160599274783758,
          4.160599274783758,
          4.160599274783758,
          4.160599274783758,
          4.160599274783758,
          4.160599274783758,
          4.160599274783758,
          4.160599274783758,
          4.160599274783758,
          4.160599274783758,
          4.160599274783758,
          4.160599274783758,
          4.160599274783758,
          4.160599274783758,
          4.160599274783758,
          4.160599274783758,
          4.160599274783758,
          4.160599274783758,
          4.160599274783758,
          4.160599274783758,
          4.160599274783758,
          4.160599274783758,
          4.160599274783758,
          4.160599274783758,
          4.160599274783758,
          4.160599274783758,
          4.160599274783758,
          4.160599274783758,
          4.160599274783758,
          4.160599274783758,
          4.160599274783758,
          4.160599274783758,
          4.160599274783758,
          4.160599274783758,
          4.160599274783758,
          4.160599274783758,
          4.160599274783758,
          4.160599274783758,
          4.160599274783758,
          4.160599274783758,
          4.160599274783758,
          4.160599274783758,
          4.160599274783758,
          4.160599274783758,
          4.160599274783758,
          4.160599274783758,
          4.160599274783758,
          4.160599274783758,
          4.160599274783758,
          4.160599274783758,
          4.160599274783758,
          4.160599274783758,
          4.160599274783758,
          4.160599274783758,
          4.160599274783758,
          4.1833400274571115,
          4.296135857788042,
          4.296135857788042,
          4.296135857788042,
          4.296135857788042,
          4.296135857788042,
          4.296135857788042,
          4.296135857788042,
          4.296135857788042,
          4.296135857788042,
          4.296135857788042,
          4.296135857788042,
          4.296135857788042,
          4.296135857788042,
          4.175911098738633,
          4.175911098738633,
          4.175911098738633,
          4.175911098738633,
          4.333734467898353,
          4.333734467898353,
          4.333734467898353,
          4.333734467898353,
          4.333734467898353,
          4.093284949799535,
          4.251108318959254,
          4.251108318959254,
          4.130883559909845,
          4.326305539179875,
          4.206080780130465,
          4.085856021081057,
          4.085856021081057,
          4.085856021081057,
          4.085856021081057,
          4.085856021081057,
          4.085856021081057,
          4.085856021081057,
          4.085856021081057,
          4.085856021081057,
          4.085856021081057,
          4.085856021081057,
          4.085856021081057,
          4.085856021081057,
          4.085856021081057,
          4.085856021081057,
          4.085856021081057,
          4.085856021081057,
          4.085856021081057,
          4.085856021081057,
          4.085856021081057,
          4.085856021081057,
          4.085856021081057,
          4.085856021081057,
          4.085856021081057,
          4.085856021081057,
          4.085856021081057,
          4.085856021081057,
          4.085856021081057,
          4.085856021081057,
          4.085856021081057,
          4.085856021081057,
          4.085856021081057,
          4.085856021081057,
          4.085856021081057,
          4.085856021081057,
          4.085856021081057,
          4.085856021081057,
          4.085856021081057,
          4.085856021081057,
          4.085856021081057,
          4.085856021081057,
          4.085856021081057,
          4.085856021081057,
          4.085856021081057,
          4.085856021081057,
          4.085856021081057,
          4.085856021081057,
          4.085856021081057,
          4.085856021081057,
          4.085856021081057,
          4.085856021081057,
          4.085856021081057,
          4.085856021081057,
          4.085856021081057,
          4.085856021081057,
          4.085856021081057,
          4.085856021081057,
          4.085856021081057,
          4.085856021081057,
          4.085856021081057,
          4.085856021081057,
          4.085856021081057,
          4.085856021081057,
          4.243679390240776,
          4.1234546311913665,
          4.281278000351086,
          4.30401875302444,
          4.101167845035932,
          4.258991214195651,
          4.258991214195651,
          4.334188434416272,
          4.2139636753668634,
          4.2139636753668634,
          4.2139636753668634,
          4.2139636753668634,
          4.2139636753668634,
          4.2139636753668634,
          4.289160895587484,
          4.168936136538075,
          4.206534746648385,
          4.206534746648385,
          4.206534746648385,
          4.206534746648385,
          4.206534746648385,
          4.086309987598976,
          4.086309987598976,
          4.086309987598976,
          4.086309987598976,
          4.086309987598976,
          4.086309987598976,
          4.244133356758695,
          4.244133356758695,
          4.244133356758695,
          4.244133356758695,
          4.123908597709287,
          4.123908597709287,
          4.123908597709287,
          4.123908597709287,
          4.123908597709287,
          4.123908597709287,
          4.281731966869006,
          4.14755728341848,
          4.245949222830373,
          4.202283583555344,
          4.113590405451526,
          4.113590405451526,
          4.309012384721555,
          4.188787625672147,
          4.256555917174289,
          4.13633115812488,
          4.091303619296092,
          4.249126988455811,
          4.1289022294064015,
          4.1289022294064015,
          4.1289022294064015,
          4.286725598566121,
          4.286725598566121,
          4.151642982079756,
          4.189241592190066,
          4.189241592190066,
          4.324778175194351,
          4.279750636365562,
          4.159525877316153,
          4.159525877316153,
          4.159525877316153,
          4.197124487426463,
          4.146483885950875,
          4.170586538177988,
          4.170586538177988,
          4.170586538177988,
          4.170586538177988,
          4.087960389238889,
          4.087960389238889,
          4.087960389238889,
          4.087960389238889,
          4.087960389238889,
          4.087960389238889,
          4.087960389238889,
          4.087960389238889,
          4.087960389238889,
          4.087960389238889,
          4.087960389238889,
          4.087960389238889,
          4.087960389238889,
          4.087960389238889,
          4.087960389238889,
          4.087960389238889,
          4.087960389238889,
          4.087960389238889,
          4.087960389238889,
          4.087960389238889,
          4.087960389238889,
          4.087960389238889,
          4.087960389238889,
          4.087960389238889,
          4.087960389238889,
          4.087960389238889,
          4.087960389238889,
          4.245783758398608,
          4.245783758398608,
          4.245783758398608,
          4.245783758398608,
          4.1255589993492,
          4.1255589993492,
          4.1255589993492,
          4.1255589993492,
          4.23835482968013
         ],
         "yaxis": "y"
        }
       ],
       "layout": {
        "coloraxis": {
         "colorbar": {
          "title": {
           "text": "Overall<br>Rating<br>"
          }
         },
         "colorscale": [
          [
           0,
           "#0508b8"
          ],
          [
           0.08333333333333333,
           "#1910d8"
          ],
          [
           0.16666666666666666,
           "#3c19f0"
          ],
          [
           0.25,
           "#6b1cfb"
          ],
          [
           0.3333333333333333,
           "#981cfd"
          ],
          [
           0.4166666666666667,
           "#bf1cfd"
          ],
          [
           0.5,
           "#dd2bfd"
          ],
          [
           0.5833333333333334,
           "#f246fe"
          ],
          [
           0.6666666666666666,
           "#fc67fd"
          ],
          [
           0.75,
           "#fe88fc"
          ],
          [
           0.8333333333333334,
           "#fea5fd"
          ],
          [
           0.9166666666666666,
           "#febefe"
          ],
          [
           1,
           "#fec3fe"
          ]
         ]
        },
        "legend": {
         "tracegroupgap": 0
        },
        "margin": {
         "t": 60
        },
        "template": {
         "data": {
          "bar": [
           {
            "error_x": {
             "color": "#2a3f5f"
            },
            "error_y": {
             "color": "#2a3f5f"
            },
            "marker": {
             "line": {
              "color": "#E5ECF6",
              "width": 0.5
             }
            },
            "type": "bar"
           }
          ],
          "barpolar": [
           {
            "marker": {
             "line": {
              "color": "#E5ECF6",
              "width": 0.5
             }
            },
            "type": "barpolar"
           }
          ],
          "carpet": [
           {
            "aaxis": {
             "endlinecolor": "#2a3f5f",
             "gridcolor": "white",
             "linecolor": "white",
             "minorgridcolor": "white",
             "startlinecolor": "#2a3f5f"
            },
            "baxis": {
             "endlinecolor": "#2a3f5f",
             "gridcolor": "white",
             "linecolor": "white",
             "minorgridcolor": "white",
             "startlinecolor": "#2a3f5f"
            },
            "type": "carpet"
           }
          ],
          "choropleth": [
           {
            "colorbar": {
             "outlinewidth": 0,
             "ticks": ""
            },
            "type": "choropleth"
           }
          ],
          "contour": [
           {
            "colorbar": {
             "outlinewidth": 0,
             "ticks": ""
            },
            "colorscale": [
             [
              0,
              "#0d0887"
             ],
             [
              0.1111111111111111,
              "#46039f"
             ],
             [
              0.2222222222222222,
              "#7201a8"
             ],
             [
              0.3333333333333333,
              "#9c179e"
             ],
             [
              0.4444444444444444,
              "#bd3786"
             ],
             [
              0.5555555555555556,
              "#d8576b"
             ],
             [
              0.6666666666666666,
              "#ed7953"
             ],
             [
              0.7777777777777778,
              "#fb9f3a"
             ],
             [
              0.8888888888888888,
              "#fdca26"
             ],
             [
              1,
              "#f0f921"
             ]
            ],
            "type": "contour"
           }
          ],
          "contourcarpet": [
           {
            "colorbar": {
             "outlinewidth": 0,
             "ticks": ""
            },
            "type": "contourcarpet"
           }
          ],
          "heatmap": [
           {
            "colorbar": {
             "outlinewidth": 0,
             "ticks": ""
            },
            "colorscale": [
             [
              0,
              "#0d0887"
             ],
             [
              0.1111111111111111,
              "#46039f"
             ],
             [
              0.2222222222222222,
              "#7201a8"
             ],
             [
              0.3333333333333333,
              "#9c179e"
             ],
             [
              0.4444444444444444,
              "#bd3786"
             ],
             [
              0.5555555555555556,
              "#d8576b"
             ],
             [
              0.6666666666666666,
              "#ed7953"
             ],
             [
              0.7777777777777778,
              "#fb9f3a"
             ],
             [
              0.8888888888888888,
              "#fdca26"
             ],
             [
              1,
              "#f0f921"
             ]
            ],
            "type": "heatmap"
           }
          ],
          "heatmapgl": [
           {
            "colorbar": {
             "outlinewidth": 0,
             "ticks": ""
            },
            "colorscale": [
             [
              0,
              "#0d0887"
             ],
             [
              0.1111111111111111,
              "#46039f"
             ],
             [
              0.2222222222222222,
              "#7201a8"
             ],
             [
              0.3333333333333333,
              "#9c179e"
             ],
             [
              0.4444444444444444,
              "#bd3786"
             ],
             [
              0.5555555555555556,
              "#d8576b"
             ],
             [
              0.6666666666666666,
              "#ed7953"
             ],
             [
              0.7777777777777778,
              "#fb9f3a"
             ],
             [
              0.8888888888888888,
              "#fdca26"
             ],
             [
              1,
              "#f0f921"
             ]
            ],
            "type": "heatmapgl"
           }
          ],
          "histogram": [
           {
            "marker": {
             "colorbar": {
              "outlinewidth": 0,
              "ticks": ""
             }
            },
            "type": "histogram"
           }
          ],
          "histogram2d": [
           {
            "colorbar": {
             "outlinewidth": 0,
             "ticks": ""
            },
            "colorscale": [
             [
              0,
              "#0d0887"
             ],
             [
              0.1111111111111111,
              "#46039f"
             ],
             [
              0.2222222222222222,
              "#7201a8"
             ],
             [
              0.3333333333333333,
              "#9c179e"
             ],
             [
              0.4444444444444444,
              "#bd3786"
             ],
             [
              0.5555555555555556,
              "#d8576b"
             ],
             [
              0.6666666666666666,
              "#ed7953"
             ],
             [
              0.7777777777777778,
              "#fb9f3a"
             ],
             [
              0.8888888888888888,
              "#fdca26"
             ],
             [
              1,
              "#f0f921"
             ]
            ],
            "type": "histogram2d"
           }
          ],
          "histogram2dcontour": [
           {
            "colorbar": {
             "outlinewidth": 0,
             "ticks": ""
            },
            "colorscale": [
             [
              0,
              "#0d0887"
             ],
             [
              0.1111111111111111,
              "#46039f"
             ],
             [
              0.2222222222222222,
              "#7201a8"
             ],
             [
              0.3333333333333333,
              "#9c179e"
             ],
             [
              0.4444444444444444,
              "#bd3786"
             ],
             [
              0.5555555555555556,
              "#d8576b"
             ],
             [
              0.6666666666666666,
              "#ed7953"
             ],
             [
              0.7777777777777778,
              "#fb9f3a"
             ],
             [
              0.8888888888888888,
              "#fdca26"
             ],
             [
              1,
              "#f0f921"
             ]
            ],
            "type": "histogram2dcontour"
           }
          ],
          "mesh3d": [
           {
            "colorbar": {
             "outlinewidth": 0,
             "ticks": ""
            },
            "type": "mesh3d"
           }
          ],
          "parcoords": [
           {
            "line": {
             "colorbar": {
              "outlinewidth": 0,
              "ticks": ""
             }
            },
            "type": "parcoords"
           }
          ],
          "pie": [
           {
            "automargin": true,
            "type": "pie"
           }
          ],
          "scatter": [
           {
            "marker": {
             "colorbar": {
              "outlinewidth": 0,
              "ticks": ""
             }
            },
            "type": "scatter"
           }
          ],
          "scatter3d": [
           {
            "line": {
             "colorbar": {
              "outlinewidth": 0,
              "ticks": ""
             }
            },
            "marker": {
             "colorbar": {
              "outlinewidth": 0,
              "ticks": ""
             }
            },
            "type": "scatter3d"
           }
          ],
          "scattercarpet": [
           {
            "marker": {
             "colorbar": {
              "outlinewidth": 0,
              "ticks": ""
             }
            },
            "type": "scattercarpet"
           }
          ],
          "scattergeo": [
           {
            "marker": {
             "colorbar": {
              "outlinewidth": 0,
              "ticks": ""
             }
            },
            "type": "scattergeo"
           }
          ],
          "scattergl": [
           {
            "marker": {
             "colorbar": {
              "outlinewidth": 0,
              "ticks": ""
             }
            },
            "type": "scattergl"
           }
          ],
          "scattermapbox": [
           {
            "marker": {
             "colorbar": {
              "outlinewidth": 0,
              "ticks": ""
             }
            },
            "type": "scattermapbox"
           }
          ],
          "scatterpolar": [
           {
            "marker": {
             "colorbar": {
              "outlinewidth": 0,
              "ticks": ""
             }
            },
            "type": "scatterpolar"
           }
          ],
          "scatterpolargl": [
           {
            "marker": {
             "colorbar": {
              "outlinewidth": 0,
              "ticks": ""
             }
            },
            "type": "scatterpolargl"
           }
          ],
          "scatterternary": [
           {
            "marker": {
             "colorbar": {
              "outlinewidth": 0,
              "ticks": ""
             }
            },
            "type": "scatterternary"
           }
          ],
          "surface": [
           {
            "colorbar": {
             "outlinewidth": 0,
             "ticks": ""
            },
            "colorscale": [
             [
              0,
              "#0d0887"
             ],
             [
              0.1111111111111111,
              "#46039f"
             ],
             [
              0.2222222222222222,
              "#7201a8"
             ],
             [
              0.3333333333333333,
              "#9c179e"
             ],
             [
              0.4444444444444444,
              "#bd3786"
             ],
             [
              0.5555555555555556,
              "#d8576b"
             ],
             [
              0.6666666666666666,
              "#ed7953"
             ],
             [
              0.7777777777777778,
              "#fb9f3a"
             ],
             [
              0.8888888888888888,
              "#fdca26"
             ],
             [
              1,
              "#f0f921"
             ]
            ],
            "type": "surface"
           }
          ],
          "table": [
           {
            "cells": {
             "fill": {
              "color": "#EBF0F8"
             },
             "line": {
              "color": "white"
             }
            },
            "header": {
             "fill": {
              "color": "#C8D4E3"
             },
             "line": {
              "color": "white"
             }
            },
            "type": "table"
           }
          ]
         },
         "layout": {
          "annotationdefaults": {
           "arrowcolor": "#2a3f5f",
           "arrowhead": 0,
           "arrowwidth": 1
          },
          "autotypenumbers": "strict",
          "coloraxis": {
           "colorbar": {
            "outlinewidth": 0,
            "ticks": ""
           }
          },
          "colorscale": {
           "diverging": [
            [
             0,
             "#8e0152"
            ],
            [
             0.1,
             "#c51b7d"
            ],
            [
             0.2,
             "#de77ae"
            ],
            [
             0.3,
             "#f1b6da"
            ],
            [
             0.4,
             "#fde0ef"
            ],
            [
             0.5,
             "#f7f7f7"
            ],
            [
             0.6,
             "#e6f5d0"
            ],
            [
             0.7,
             "#b8e186"
            ],
            [
             0.8,
             "#7fbc41"
            ],
            [
             0.9,
             "#4d9221"
            ],
            [
             1,
             "#276419"
            ]
           ],
           "sequential": [
            [
             0,
             "#0d0887"
            ],
            [
             0.1111111111111111,
             "#46039f"
            ],
            [
             0.2222222222222222,
             "#7201a8"
            ],
            [
             0.3333333333333333,
             "#9c179e"
            ],
            [
             0.4444444444444444,
             "#bd3786"
            ],
            [
             0.5555555555555556,
             "#d8576b"
            ],
            [
             0.6666666666666666,
             "#ed7953"
            ],
            [
             0.7777777777777778,
             "#fb9f3a"
            ],
            [
             0.8888888888888888,
             "#fdca26"
            ],
            [
             1,
             "#f0f921"
            ]
           ],
           "sequentialminus": [
            [
             0,
             "#0d0887"
            ],
            [
             0.1111111111111111,
             "#46039f"
            ],
            [
             0.2222222222222222,
             "#7201a8"
            ],
            [
             0.3333333333333333,
             "#9c179e"
            ],
            [
             0.4444444444444444,
             "#bd3786"
            ],
            [
             0.5555555555555556,
             "#d8576b"
            ],
            [
             0.6666666666666666,
             "#ed7953"
            ],
            [
             0.7777777777777778,
             "#fb9f3a"
            ],
            [
             0.8888888888888888,
             "#fdca26"
            ],
            [
             1,
             "#f0f921"
            ]
           ]
          },
          "colorway": [
           "#636efa",
           "#EF553B",
           "#00cc96",
           "#ab63fa",
           "#FFA15A",
           "#19d3f3",
           "#FF6692",
           "#B6E880",
           "#FF97FF",
           "#FECB52"
          ],
          "font": {
           "color": "#2a3f5f"
          },
          "geo": {
           "bgcolor": "white",
           "lakecolor": "white",
           "landcolor": "#E5ECF6",
           "showlakes": true,
           "showland": true,
           "subunitcolor": "white"
          },
          "hoverlabel": {
           "align": "left"
          },
          "hovermode": "closest",
          "mapbox": {
           "style": "light"
          },
          "paper_bgcolor": "white",
          "plot_bgcolor": "#E5ECF6",
          "polar": {
           "angularaxis": {
            "gridcolor": "white",
            "linecolor": "white",
            "ticks": ""
           },
           "bgcolor": "#E5ECF6",
           "radialaxis": {
            "gridcolor": "white",
            "linecolor": "white",
            "ticks": ""
           }
          },
          "scene": {
           "xaxis": {
            "backgroundcolor": "#E5ECF6",
            "gridcolor": "white",
            "gridwidth": 2,
            "linecolor": "white",
            "showbackground": true,
            "ticks": "",
            "zerolinecolor": "white"
           },
           "yaxis": {
            "backgroundcolor": "#E5ECF6",
            "gridcolor": "white",
            "gridwidth": 2,
            "linecolor": "white",
            "showbackground": true,
            "ticks": "",
            "zerolinecolor": "white"
           },
           "zaxis": {
            "backgroundcolor": "#E5ECF6",
            "gridcolor": "white",
            "gridwidth": 2,
            "linecolor": "white",
            "showbackground": true,
            "ticks": "",
            "zerolinecolor": "white"
           }
          },
          "shapedefaults": {
           "line": {
            "color": "#2a3f5f"
           }
          },
          "ternary": {
           "aaxis": {
            "gridcolor": "white",
            "linecolor": "white",
            "ticks": ""
           },
           "baxis": {
            "gridcolor": "white",
            "linecolor": "white",
            "ticks": ""
           },
           "bgcolor": "#E5ECF6",
           "caxis": {
            "gridcolor": "white",
            "linecolor": "white",
            "ticks": ""
           }
          },
          "title": {
           "x": 0.05
          },
          "xaxis": {
           "automargin": true,
           "gridcolor": "white",
           "linecolor": "white",
           "ticks": "",
           "title": {
            "standoff": 15
           },
           "zerolinecolor": "white",
           "zerolinewidth": 2
          },
          "yaxis": {
           "automargin": true,
           "gridcolor": "white",
           "linecolor": "white",
           "ticks": "",
           "title": {
            "standoff": 15
           },
           "zerolinecolor": "white",
           "zerolinewidth": 2
          }
         }
        },
        "title": {
         "text": "Overall Rating For The University of Lincoln Over Time",
         "x": 0.5
        },
        "xaxis": {
         "anchor": "y",
         "domain": [
          0,
          1
         ],
         "title": {
          "text": "Date (years)"
         }
        },
        "yaxis": {
         "anchor": "x",
         "domain": [
          0,
          1
         ],
         "title": {
          "text": "Overall Rating (1-5)"
         }
        }
       }
      },
      "text/html": [
       "<div>                            <div id=\"8b5405f4-dd7f-418d-b815-7825df79898c\" class=\"plotly-graph-div\" style=\"height:525px; width:100%;\"></div>            <script type=\"text/javascript\">                require([\"plotly\"], function(Plotly) {                    window.PLOTLYENV=window.PLOTLYENV || {};                                    if (document.getElementById(\"8b5405f4-dd7f-418d-b815-7825df79898c\")) {                    Plotly.newPlot(                        \"8b5405f4-dd7f-418d-b815-7825df79898c\",                        [{\"hovertemplate\": \"Date (years)=%{x}<br>Overall Rating (1-5)=%{marker.color}<extra></extra>\", \"legendgroup\": \"\", \"marker\": {\"color\": [4, 5, 5, 4, 3, 4, 3, 3, 2, 5, 5, 2, 4, 4, 3, 2, 3, 5, 5, 5, 5, 4, 3, 4, 1, 4, 2, 2, 5, 3, 5, 4, 4, 5, 4, 4, 5, 4, 5, 4, 4, 5, 1, 5, 4, 4, 4, 4, 5, 5, 5, 3, 2, 4, 5, 4, 5, 4, 5, 4, 3, 4, 5, 3, 5, 3, 5, 5, 4, 5, 2, 5, 4, 5, 2, 5, 5, 5, 4, 5, 4, 4, 5, 4, 3, 5, 4, 5, 4, 5, 5, 4, 5, 4, 4, 4, 5, 4, 5, 5, 3, 4, 5, 4, 2, 3, 4, 5, 5, 5, 5, 5, 4, 4, 3, 4, 4, 5, 3, 5, 4, 3, 4, 5, 5, 4, 4, 3, 5, 4, 2, 3, 5, 5, 3, 4, 5, 4, 5, 4, 5, 5, 4, 4, 4, 5, 5, 5, 4, 5, 5, 5, 4, 4, 4, 4, 5, 5, 5, 5, 2, 5, 4, 5, 4, 3, 3, 4, 4, 4, 3, 4, 5, 3, 4, 4, 4, 4, 4, 4, 5, 4, 4, 5, 5, 4, 4, 3, 5, 4, 4, 4, 3, 5, 5, 5, 4, 5, 5, 4, 5, 4, 4, 4, 5, 4, 4, 5, 5, 4, 4, 5, 4, 5, 4, 5, 5, 5, 4, 5, 5, 5, 4, 5, 4, 5, 4, 4, 4, 4, 4, 4, 4, 3, 5, 5, 2, 4, 5, 3, 4, 4, 3, 5, 4, 3, 4, 5, 4, 5, 4, 4, 5, 4, 4, 5, 4, 4, 4, 4, 5, 4, 4, 4, 4, 4, 3, 4, 4, 4, 4, 5, 4, 4, 5, 4, 4, 4, 3, 3, 4, 5, 4, 4, 5, 5, 5, 4, 4, 4, 5, 5, 5, 4, 5, 5, 4, 5, 5, 5, 5, 4, 5, 5, 3, 5, 5, 4, 3, 5, 5, 5, 5, 5, 4, 4, 3, 5, 5, 5, 5, 5, 5, 4, 5, 5, 3, 4, 5, 4, 5, 5, 4, 4, 4, 5, 4, 5, 5, 4, 4, 5, 5, 5, 4, 5, 5, 5, 5, 3, 4, 4, 4, 4, 4, 4, 5, 5, 4, 5, 4, 4, 4, 4, 4, 5, 4, 4, 5, 5, 5, 5, 5, 5, 5, 5, 5, 4, 4, 5, 5, 5, 3, 5, 5, 4, 5, 4, 4, 3, 4, 5, 4, 3, 5, 5, 4, 5, 5, 4, 5, 5, 5, 5, 5, 5, 3, 4, 5, 3, 5, 4, 4, 4, 5, 5, 4, 5, 4, 5, 4, 4, 5, 5, 5, 5, 4, 5, 1, 5, 5, 5, 4, 5, 5, 5, 4, 5, 5, 5, 4, 4, 5, 2, 4, 5, 3, 5, 3, 4, 4, 5, 5, 5, 4, 3, 4, 4, 5, 5, 5, 4, 3, 5, 1, 5, 5, 5, 4, 4, 4, 4, 3, 4, 4, 4, 4, 5, 5, 4, 4, 5, 3, 4, 5, 4, 5, 4, 3, 4, 4, 3, 5, 5, 5, 5, 4, 4, 4, 5, 4, 4, 5, 4, 3, 2, 3, 2, 4, 4, 3, 3, 4, 4, 3, 4, 4, 4, 4, 4, 4, 5, 4, 4, 4, 5, 4, 4, 3, 5, 4, 4, 4, 4, 3, 5, 3, 4, 4, 3, 4, 4, 4, 5, 3, 3, 3, 4, 3, 4, 4, 3, 5, 4, 3, 2, 5, 4, 5, 4, 3, 5, 3, 3, 4, 4, 4, 4, 4, 5, 3, 4, 5, 4, 4, 4, 3, 4, 5, 3, 5, 5, 3, 4, 4, 5, 4, 4, 5, 4, 5, 4, 4, 4, 4, 5, 4, 4, 5, 3, 3, 4, 4, 4, 4, 5, 4, 4, 4, 5, 3, 5, 5, 4, 4, 4, 4, 4, 4, 5, 3, 4, 4, 4, 5, 5, 4, 5, 4, 4, 4, 5, 5, 5, 4, 5, 5, 5, 5, 5, 5, 4, 5, 4, 5, 4, 5, 5, 5, 5, 4, 5, 5, 4, 4, 4, 2, 4, 4, 4, 4, 5, 5, 4, 4, 3, 4, 3, 5, 4, 5, 3, 4, 4, 4, 4, 4, 4, 4, 2, 4, 4, 4, 4, 4, 4, 4, 5, 3, 3, 4, 5, 4, 3, 3, 3, 4, 4, 4, 4, 4, 2, 5, 5, 4, 5, 4, 3, 2, 5, 4, 5, 4, 5, 2, 4, 5, 5, 5, 5], \"coloraxis\": \"coloraxis\", \"symbol\": \"circle\"}, \"mode\": \"markers\", \"name\": \"\", \"orientation\": \"v\", \"showlegend\": false, \"type\": \"scatter\", \"x\": [\"2021-11-04T00:00:00\", \"2021-05-28T00:00:00\", \"2021-05-26T00:00:00\", \"2021-05-26T00:00:00\", \"2021-05-26T00:00:00\", \"2021-05-25T00:00:00\", \"2021-05-20T00:00:00\", \"2021-04-28T00:00:00\", \"2021-04-28T00:00:00\", \"2019-12-18T00:00:00\", \"2021-04-26T00:00:00\", \"2021-04-11T00:00:00\", \"2021-04-11T00:00:00\", \"2021-04-10T00:00:00\", \"2021-04-10T00:00:00\", \"2021-04-10T00:00:00\", \"2021-04-09T00:00:00\", \"2021-04-08T00:00:00\", \"2021-04-03T00:00:00\", \"2021-04-02T00:00:00\", \"2021-03-22T00:00:00\", \"2021-03-21T00:00:00\", \"2021-03-18T00:00:00\", \"2021-03-18T00:00:00\", \"2020-11-17T00:00:00\", \"2019-12-18T00:00:00\", \"2020-07-24T00:00:00\", \"2020-05-28T00:00:00\", \"2020-02-29T00:00:00\", \"2020-02-28T00:00:00\", \"2020-02-28T00:00:00\", \"2020-02-28T00:00:00\", \"2020-02-28T00:00:00\", \"2020-02-28T00:00:00\", \"2020-02-28T00:00:00\", \"2020-02-27T00:00:00\", \"2020-02-27T00:00:00\", \"2019-12-18T00:00:00\", \"2020-02-27T00:00:00\", \"2020-02-27T00:00:00\", \"2020-02-26T00:00:00\", \"2020-02-26T00:00:00\", \"2020-02-26T00:00:00\", \"2020-02-26T00:00:00\", \"2020-02-26T00:00:00\", \"2020-02-26T00:00:00\", \"2020-01-20T00:00:00\", \"2020-01-20T00:00:00\", \"2019-12-18T00:00:00\", \"2020-02-25T00:00:00\", \"2020-02-25T00:00:00\", \"2020-02-25T00:00:00\", \"2020-02-25T00:00:00\", \"2020-02-25T00:00:00\", \"2020-02-23T00:00:00\", \"2020-02-22T00:00:00\", \"2020-02-18T00:00:00\", \"2020-02-18T00:00:00\", \"2020-02-18T00:00:00\", \"2020-02-08T00:00:00\", \"2019-12-18T00:00:00\", \"2020-02-18T00:00:00\", \"2020-02-18T00:00:00\", \"2020-02-18T00:00:00\", \"2020-02-17T00:00:00\", \"2020-02-13T00:00:00\", \"2020-02-13T00:00:00\", \"2020-02-12T00:00:00\", \"2020-01-20T00:00:00\", \"2020-01-20T00:00:00\", \"2019-12-18T00:00:00\", \"2020-01-23T00:00:00\", \"2020-01-22T00:00:00\", \"2020-01-21T00:00:00\", \"2020-01-20T00:00:00\", \"2020-01-20T00:00:00\", \"2020-01-20T00:00:00\", \"2020-01-20T00:00:00\", \"2020-01-20T00:00:00\", \"2020-01-20T00:00:00\", \"2020-01-20T00:00:00\", \"2020-01-20T00:00:00\", \"2020-01-20T00:00:00\", \"2020-01-20T00:00:00\", \"2020-01-20T00:00:00\", \"2020-01-20T00:00:00\", \"2020-01-20T00:00:00\", \"2020-01-20T00:00:00\", \"2020-01-20T00:00:00\", \"2020-01-20T00:00:00\", \"2020-01-20T00:00:00\", \"2020-01-20T00:00:00\", \"2020-01-20T00:00:00\", \"2020-01-20T00:00:00\", \"2020-01-20T00:00:00\", \"2020-01-20T00:00:00\", \"2020-01-20T00:00:00\", \"2020-01-20T00:00:00\", \"2020-01-20T00:00:00\", \"2020-01-20T00:00:00\", \"2020-01-20T00:00:00\", \"2020-01-20T00:00:00\", \"2020-01-20T00:00:00\", \"2020-01-20T00:00:00\", \"2020-01-20T00:00:00\", \"2020-01-20T00:00:00\", \"2020-01-20T00:00:00\", \"2020-01-20T00:00:00\", \"2020-01-20T00:00:00\", \"2020-01-20T00:00:00\", \"2020-01-20T00:00:00\", \"2020-01-20T00:00:00\", \"2020-01-20T00:00:00\", \"2020-01-20T00:00:00\", \"2020-01-20T00:00:00\", \"2020-01-20T00:00:00\", \"2020-01-20T00:00:00\", \"2020-01-20T00:00:00\", \"2020-01-20T00:00:00\", \"2020-01-20T00:00:00\", \"2020-01-20T00:00:00\", \"2020-01-20T00:00:00\", \"2019-12-18T00:00:00\", \"2020-01-20T00:00:00\", \"2020-01-20T00:00:00\", \"2020-01-20T00:00:00\", \"2020-01-20T00:00:00\", \"2020-01-20T00:00:00\", \"2020-01-20T00:00:00\", \"2020-01-20T00:00:00\", \"2020-01-20T00:00:00\", \"2020-01-20T00:00:00\", \"2020-01-20T00:00:00\", \"2020-01-20T00:00:00\", \"2020-01-19T00:00:00\", \"2020-01-18T00:00:00\", \"2020-01-15T00:00:00\", \"2020-01-14T00:00:00\", \"2020-01-14T00:00:00\", \"2020-01-13T00:00:00\", \"2020-01-11T00:00:00\", \"2020-01-11T00:00:00\", \"2020-01-11T00:00:00\", \"2020-01-11T00:00:00\", \"2019-12-18T00:00:00\", \"2019-12-18T00:00:00\", \"2020-01-11T00:00:00\", \"2020-01-10T00:00:00\", \"2020-01-10T00:00:00\", \"2020-01-10T00:00:00\", \"2020-01-10T00:00:00\", \"2020-01-09T00:00:00\", \"2020-01-09T00:00:00\", \"2020-01-09T00:00:00\", \"2020-01-09T00:00:00\", \"2020-01-09T00:00:00\", \"2020-01-09T00:00:00\", \"2020-01-09T00:00:00\", \"2020-01-09T00:00:00\", \"2020-01-09T00:00:00\", \"2020-01-09T00:00:00\", \"2020-01-09T00:00:00\", \"2020-01-09T00:00:00\", \"2020-01-09T00:00:00\", \"2020-01-03T00:00:00\", \"2019-12-18T00:00:00\", \"2019-12-18T00:00:00\", \"2019-12-18T00:00:00\", \"2019-12-18T00:00:00\", \"2019-12-18T00:00:00\", \"2019-12-18T00:00:00\", \"2019-12-18T00:00:00\", \"2019-12-18T00:00:00\", \"2019-12-18T00:00:00\", \"2019-12-18T00:00:00\", \"2019-12-18T00:00:00\", \"2019-12-18T00:00:00\", \"2019-12-18T00:00:00\", \"2019-12-18T00:00:00\", \"2019-12-18T00:00:00\", \"2019-12-18T00:00:00\", \"2019-12-18T00:00:00\", \"2019-12-18T00:00:00\", \"2019-12-18T00:00:00\", \"2019-12-18T00:00:00\", \"2019-12-18T00:00:00\", \"2019-12-18T00:00:00\", \"2019-12-18T00:00:00\", \"2019-12-18T00:00:00\", \"2019-12-18T00:00:00\", \"2019-12-18T00:00:00\", \"2019-12-18T00:00:00\", \"2019-12-18T00:00:00\", \"2019-12-18T00:00:00\", \"2019-12-18T00:00:00\", \"2019-12-18T00:00:00\", \"2019-12-18T00:00:00\", \"2019-12-18T00:00:00\", \"2019-12-18T00:00:00\", \"2019-12-18T00:00:00\", \"2019-12-18T00:00:00\", \"2019-12-18T00:00:00\", \"2019-12-18T00:00:00\", \"2019-12-18T00:00:00\", \"2019-12-18T00:00:00\", \"2019-12-18T00:00:00\", \"2019-12-18T00:00:00\", \"2019-12-18T00:00:00\", \"2019-12-18T00:00:00\", \"2019-12-18T00:00:00\", \"2019-12-18T00:00:00\", \"2019-12-18T00:00:00\", \"2019-12-18T00:00:00\", \"2019-12-18T00:00:00\", \"2019-12-18T00:00:00\", \"2019-12-18T00:00:00\", \"2019-12-18T00:00:00\", \"2019-12-18T00:00:00\", \"2019-12-18T00:00:00\", \"2019-12-18T00:00:00\", \"2019-12-18T00:00:00\", \"2019-12-18T00:00:00\", \"2019-12-18T00:00:00\", \"2019-12-18T00:00:00\", \"2019-12-18T00:00:00\", \"2019-12-18T00:00:00\", \"2019-12-18T00:00:00\", \"2019-12-18T00:00:00\", \"2019-12-18T00:00:00\", \"2019-12-18T00:00:00\", \"2019-12-18T00:00:00\", \"2019-12-18T00:00:00\", \"2019-12-18T00:00:00\", \"2019-12-18T00:00:00\", \"2019-12-18T00:00:00\", \"2019-12-18T00:00:00\", \"2019-12-18T00:00:00\", \"2019-12-18T00:00:00\", \"2019-12-18T00:00:00\", \"2019-12-18T00:00:00\", \"2019-12-18T00:00:00\", \"2019-12-18T00:00:00\", \"2019-12-18T00:00:00\", \"2019-12-18T00:00:00\", \"2019-12-18T00:00:00\", \"2019-12-18T00:00:00\", \"2019-12-18T00:00:00\", \"2019-12-18T00:00:00\", \"2019-12-18T00:00:00\", \"2019-12-18T00:00:00\", \"2019-12-18T00:00:00\", \"2019-12-18T00:00:00\", \"2019-12-18T00:00:00\", \"2019-12-18T00:00:00\", \"2019-12-18T00:00:00\", \"2019-12-18T00:00:00\", \"2019-12-18T00:00:00\", \"2019-12-18T00:00:00\", \"2019-12-18T00:00:00\", \"2019-12-18T00:00:00\", \"2019-12-18T00:00:00\", \"2019-12-18T00:00:00\", \"2019-12-17T00:00:00\", \"2019-12-17T00:00:00\", \"2019-12-17T00:00:00\", \"2019-12-17T00:00:00\", \"2019-12-17T00:00:00\", \"2019-12-17T00:00:00\", \"2019-12-17T00:00:00\", \"2019-12-17T00:00:00\", \"2019-12-17T00:00:00\", \"2019-12-17T00:00:00\", \"2019-12-17T00:00:00\", \"2019-12-17T00:00:00\", \"2019-12-17T00:00:00\", \"2019-12-17T00:00:00\", \"2019-12-17T00:00:00\", \"2019-12-17T00:00:00\", \"2019-12-17T00:00:00\", \"2019-12-17T00:00:00\", \"2019-12-17T00:00:00\", \"2019-12-17T00:00:00\", \"2019-12-17T00:00:00\", \"2019-12-13T00:00:00\", \"2019-12-13T00:00:00\", \"2019-12-13T00:00:00\", \"2019-12-13T00:00:00\", \"2019-12-13T00:00:00\", \"2019-12-13T00:00:00\", \"2019-12-13T00:00:00\", \"2019-12-13T00:00:00\", \"2019-12-13T00:00:00\", \"2019-12-13T00:00:00\", \"2019-12-13T00:00:00\", \"2019-12-13T00:00:00\", \"2019-12-13T00:00:00\", \"2019-12-05T00:00:00\", \"2019-11-29T00:00:00\", \"2019-11-29T00:00:00\", \"2019-11-29T00:00:00\", \"2019-11-29T00:00:00\", \"2019-12-05T00:00:00\", \"2019-12-05T00:00:00\", \"2019-12-05T00:00:00\", \"2019-12-05T00:00:00\", \"2019-12-05T00:00:00\", \"2019-12-05T00:00:00\", \"2019-12-05T00:00:00\", \"2019-12-05T00:00:00\", \"2019-11-29T00:00:00\", \"2019-11-29T00:00:00\", \"2019-11-29T00:00:00\", \"2019-11-29T00:00:00\", \"2019-11-29T00:00:00\", \"2019-11-29T00:00:00\", \"2019-11-29T00:00:00\", \"2019-11-29T00:00:00\", \"2019-11-29T00:00:00\", \"2019-11-29T00:00:00\", \"2019-11-29T00:00:00\", \"2019-11-29T00:00:00\", \"2019-11-29T00:00:00\", \"2019-11-29T00:00:00\", \"2019-11-29T00:00:00\", \"2019-11-29T00:00:00\", \"2019-11-25T00:00:00\", \"2019-11-25T00:00:00\", \"2019-11-25T00:00:00\", \"2019-11-24T00:00:00\", \"2019-11-24T00:00:00\", \"2019-11-24T00:00:00\", \"2019-11-24T00:00:00\", \"2019-11-24T00:00:00\", \"2019-11-22T00:00:00\", \"2019-11-22T00:00:00\", \"2018-12-17T00:00:00\", \"2019-11-24T00:00:00\", \"2019-11-24T00:00:00\", \"2019-11-24T00:00:00\", \"2019-11-24T00:00:00\", \"2019-11-24T00:00:00\", \"2019-11-24T00:00:00\", \"2019-11-24T00:00:00\", \"2019-11-24T00:00:00\", \"2019-11-24T00:00:00\", \"2019-11-24T00:00:00\", \"2019-11-22T00:00:00\", \"2019-11-24T00:00:00\", \"2019-11-23T00:00:00\", \"2019-11-23T00:00:00\", \"2019-11-23T00:00:00\", \"2019-11-23T00:00:00\", \"2019-11-23T00:00:00\", \"2019-11-23T00:00:00\", \"2019-11-23T00:00:00\", \"2019-11-23T00:00:00\", \"2019-11-22T00:00:00\", \"2019-11-22T00:00:00\", \"2019-11-19T00:00:00\", \"2019-11-22T00:00:00\", \"2019-11-22T00:00:00\", \"2019-11-22T00:00:00\", \"2019-11-21T00:00:00\", \"2019-11-21T00:00:00\", \"2019-11-20T00:00:00\", \"2019-11-20T00:00:00\", \"2019-11-20T00:00:00\", \"2019-11-20T00:00:00\", \"2019-11-19T00:00:00\", \"2019-11-19T00:00:00\", \"2019-11-19T00:00:00\", \"2019-11-19T00:00:00\", \"2019-11-19T00:00:00\", \"2019-11-19T00:00:00\", \"2019-11-19T00:00:00\", \"2019-11-19T00:00:00\", \"2019-11-17T00:00:00\", \"2019-11-13T00:00:00\", \"2019-11-16T00:00:00\", \"2019-11-15T00:00:00\", \"2019-11-15T00:00:00\", \"2019-11-15T00:00:00\", \"2019-11-15T00:00:00\", \"2019-11-15T00:00:00\", \"2019-11-15T00:00:00\", \"2019-11-15T00:00:00\", \"2019-11-15T00:00:00\", \"2019-11-15T00:00:00\", \"2019-11-15T00:00:00\", \"2019-11-15T00:00:00\", \"2019-11-15T00:00:00\", \"2019-11-15T00:00:00\", \"2019-11-15T00:00:00\", \"2019-11-15T00:00:00\", \"2019-11-15T00:00:00\", \"2019-11-15T00:00:00\", \"2019-11-15T00:00:00\", \"2019-11-15T00:00:00\", \"2019-11-15T00:00:00\", \"2019-11-15T00:00:00\", \"2019-11-15T00:00:00\", \"2019-11-15T00:00:00\", \"2019-11-14T00:00:00\", \"2019-11-13T00:00:00\", \"2019-11-13T00:00:00\", \"2019-11-13T00:00:00\", \"2019-11-13T00:00:00\", \"2019-11-13T00:00:00\", \"2019-11-13T00:00:00\", \"2019-11-13T00:00:00\", \"2019-11-13T00:00:00\", \"2019-11-12T00:00:00\", \"2019-11-12T00:00:00\", \"2019-11-12T00:00:00\", \"2019-11-12T00:00:00\", \"2019-11-12T00:00:00\", \"2019-02-28T00:00:00\", \"2019-02-27T00:00:00\", \"2019-02-27T00:00:00\", \"2019-02-27T00:00:00\", \"2019-11-12T00:00:00\", \"2019-11-12T00:00:00\", \"2019-11-12T00:00:00\", \"2019-11-12T00:00:00\", \"2019-11-12T00:00:00\", \"2019-11-12T00:00:00\", \"2019-11-12T00:00:00\", \"2019-11-06T00:00:00\", \"2019-10-14T00:00:00\", \"2019-10-11T00:00:00\", \"2019-03-04T00:00:00\", \"2019-03-01T00:00:00\", \"2019-02-28T00:00:00\", \"2019-02-28T00:00:00\", \"2019-02-28T00:00:00\", \"2019-02-28T00:00:00\", \"2019-02-28T00:00:00\", \"2019-02-28T00:00:00\", \"2019-02-28T00:00:00\", \"2019-02-28T00:00:00\", \"2019-02-27T00:00:00\", \"2019-02-27T00:00:00\", \"2019-02-27T00:00:00\", \"2019-02-27T00:00:00\", \"2019-02-27T00:00:00\", \"2019-02-27T00:00:00\", \"2018-12-17T00:00:00\", \"2019-02-27T00:00:00\", \"2019-02-27T00:00:00\", \"2019-02-27T00:00:00\", \"2019-02-27T00:00:00\", \"2019-02-27T00:00:00\", \"2019-02-27T00:00:00\", \"2019-02-27T00:00:00\", \"2019-02-27T00:00:00\", \"2019-02-25T00:00:00\", \"2019-02-25T00:00:00\", \"2019-02-25T00:00:00\", \"2018-12-17T00:00:00\", \"2019-02-25T00:00:00\", \"2019-02-25T00:00:00\", \"2019-02-25T00:00:00\", \"2019-02-21T00:00:00\", \"2019-02-21T00:00:00\", \"2019-02-21T00:00:00\", \"2019-02-21T00:00:00\", \"2019-02-21T00:00:00\", \"2019-02-21T00:00:00\", \"2018-12-17T00:00:00\", \"2018-12-17T00:00:00\", \"2018-12-17T00:00:00\", \"2018-12-17T00:00:00\", \"2018-12-17T00:00:00\", \"2018-12-17T00:00:00\", \"2018-12-17T00:00:00\", \"2018-12-17T00:00:00\", \"2018-12-17T00:00:00\", \"2018-12-17T00:00:00\", \"2018-12-17T00:00:00\", \"2018-12-17T00:00:00\", \"2018-12-17T00:00:00\", \"2018-12-17T00:00:00\", \"2018-12-17T00:00:00\", \"2018-12-17T00:00:00\", \"2018-12-17T00:00:00\", \"2018-12-17T00:00:00\", \"2018-12-17T00:00:00\", \"2018-12-17T00:00:00\", \"2018-12-17T00:00:00\", \"2018-12-17T00:00:00\", \"2018-12-17T00:00:00\", \"2018-12-17T00:00:00\", \"2018-12-17T00:00:00\", \"2018-12-17T00:00:00\", \"2018-12-17T00:00:00\", \"2018-12-17T00:00:00\", \"2018-12-17T00:00:00\", \"2018-12-17T00:00:00\", \"2018-12-17T00:00:00\", \"2018-12-17T00:00:00\", \"2018-12-17T00:00:00\", \"2018-12-17T00:00:00\", \"2018-12-17T00:00:00\", \"2018-12-17T00:00:00\", \"2018-12-17T00:00:00\", \"2018-12-17T00:00:00\", \"2017-12-20T00:00:00\", \"2018-12-17T00:00:00\", \"2018-12-17T00:00:00\", \"2018-12-17T00:00:00\", \"2018-12-17T00:00:00\", \"2018-12-17T00:00:00\", \"2018-12-17T00:00:00\", \"2018-12-17T00:00:00\", \"2018-12-17T00:00:00\", \"2018-12-17T00:00:00\", \"2018-12-17T00:00:00\", \"2018-12-17T00:00:00\", \"2018-12-17T00:00:00\", \"2018-12-17T00:00:00\", \"2018-12-17T00:00:00\", \"2018-12-17T00:00:00\", \"2018-12-17T00:00:00\", \"2018-12-17T00:00:00\", \"2018-12-17T00:00:00\", \"2018-12-17T00:00:00\", \"2018-12-17T00:00:00\", \"2018-12-17T00:00:00\", \"2018-12-17T00:00:00\", \"2018-12-17T00:00:00\", \"2018-12-17T00:00:00\", \"2018-12-17T00:00:00\", \"2018-12-17T00:00:00\", \"2018-12-17T00:00:00\", \"2018-12-17T00:00:00\", \"2018-12-17T00:00:00\", \"2018-12-17T00:00:00\", \"2018-12-17T00:00:00\", \"2018-12-17T00:00:00\", \"2018-12-17T00:00:00\", \"2018-12-17T00:00:00\", \"2018-12-17T00:00:00\", \"2018-12-17T00:00:00\", \"2018-12-17T00:00:00\", \"2018-12-17T00:00:00\", \"2018-12-17T00:00:00\", \"2018-12-17T00:00:00\", \"2018-12-17T00:00:00\", \"2018-12-17T00:00:00\", \"2018-12-17T00:00:00\", \"2018-12-17T00:00:00\", \"2018-12-17T00:00:00\", \"2018-12-17T00:00:00\", \"2018-12-17T00:00:00\", \"2018-12-17T00:00:00\", \"2018-12-17T00:00:00\", \"2018-12-17T00:00:00\", \"2018-12-17T00:00:00\", \"2018-12-17T00:00:00\", \"2018-12-17T00:00:00\", \"2018-12-17T00:00:00\", \"2018-12-17T00:00:00\", \"2018-12-17T00:00:00\", \"2018-12-17T00:00:00\", \"2018-12-17T00:00:00\", \"2018-12-17T00:00:00\", \"2018-12-17T00:00:00\", \"2018-12-17T00:00:00\", \"2018-12-17T00:00:00\", \"2018-12-17T00:00:00\", \"2018-12-17T00:00:00\", \"2018-12-17T00:00:00\", \"2018-12-17T00:00:00\", \"2018-12-17T00:00:00\", \"2018-12-17T00:00:00\", \"2018-12-17T00:00:00\", \"2018-12-17T00:00:00\", \"2018-12-17T00:00:00\", \"2018-12-17T00:00:00\", \"2018-11-12T00:00:00\", \"2018-03-23T00:00:00\", \"2018-02-21T00:00:00\", \"2018-02-21T00:00:00\", \"2018-02-21T00:00:00\", \"2018-02-02T00:00:00\", \"2018-01-31T00:00:00\", \"2018-01-12T00:00:00\", \"2018-01-12T00:00:00\", \"2017-12-20T00:00:00\", \"2017-12-20T00:00:00\", \"2017-12-20T00:00:00\", \"2017-12-20T00:00:00\", \"2017-12-20T00:00:00\", \"2017-12-20T00:00:00\", \"2017-12-20T00:00:00\", \"2017-12-20T00:00:00\", \"2017-12-20T00:00:00\", \"2017-12-20T00:00:00\", \"2017-12-20T00:00:00\", \"2017-12-20T00:00:00\", \"2017-12-20T00:00:00\", \"2017-12-20T00:00:00\", \"2017-12-20T00:00:00\", \"2017-12-20T00:00:00\", \"2017-12-20T00:00:00\", \"2017-12-20T00:00:00\", \"2017-12-20T00:00:00\", \"2017-12-20T00:00:00\", \"2017-12-20T00:00:00\", \"2017-12-20T00:00:00\", \"2017-12-20T00:00:00\", \"2017-12-20T00:00:00\", \"2017-12-20T00:00:00\", \"2017-12-20T00:00:00\", \"2022-03-16T00:00:00\", \"2017-12-20T00:00:00\", \"2017-12-20T00:00:00\", \"2017-12-20T00:00:00\", \"2017-12-20T00:00:00\", \"2017-12-19T00:00:00\", \"2017-12-19T00:00:00\", \"2017-12-19T00:00:00\", \"2017-12-19T00:00:00\", \"2017-12-19T00:00:00\", \"2017-12-19T00:00:00\", \"2017-12-19T00:00:00\", \"2017-12-19T00:00:00\", \"2017-12-19T00:00:00\", \"2017-12-19T00:00:00\", \"2017-12-19T00:00:00\", \"2017-12-19T00:00:00\", \"2017-12-19T00:00:00\", \"2017-12-19T00:00:00\", \"2017-12-19T00:00:00\", \"2017-12-19T00:00:00\", \"2017-12-19T00:00:00\", \"2017-12-19T00:00:00\", \"2017-12-19T00:00:00\", \"2017-12-19T00:00:00\", \"2017-12-19T00:00:00\", \"2017-12-19T00:00:00\", \"2017-12-19T00:00:00\", \"2017-12-19T00:00:00\", \"2017-12-19T00:00:00\", \"2017-12-19T00:00:00\", \"2017-12-19T00:00:00\", \"2017-12-19T00:00:00\", \"2017-12-19T00:00:00\", \"2017-12-19T00:00:00\", \"2017-12-19T00:00:00\", \"2017-12-19T00:00:00\", \"2017-12-19T00:00:00\", \"2017-12-19T00:00:00\", \"2017-12-19T00:00:00\", \"2017-12-19T00:00:00\", \"2017-12-19T00:00:00\", \"2017-12-19T00:00:00\", \"2017-12-19T00:00:00\", \"2017-12-19T00:00:00\", \"2017-12-19T00:00:00\", \"2017-12-19T00:00:00\", \"2017-12-19T00:00:00\", \"2017-12-19T00:00:00\", \"2017-12-19T00:00:00\", \"2017-12-19T00:00:00\", \"2017-12-19T00:00:00\", \"2017-12-19T00:00:00\", \"2017-12-19T00:00:00\", \"2017-12-19T00:00:00\", \"2017-12-19T00:00:00\", \"2017-12-19T00:00:00\", \"2017-12-19T00:00:00\", \"2017-12-19T00:00:00\", \"2017-12-19T00:00:00\", \"2017-12-19T00:00:00\", \"2017-12-19T00:00:00\", \"2017-12-19T00:00:00\", \"2017-12-19T00:00:00\", \"2017-12-19T00:00:00\", \"2017-12-19T00:00:00\", \"2017-12-19T00:00:00\", \"2022-03-11T00:00:00\", \"2022-03-11T00:00:00\", \"2022-03-11T00:00:00\", \"2022-03-11T00:00:00\", \"2022-03-14T00:00:00\", \"2022-03-14T00:00:00\", \"2022-03-14T00:00:00\", \"2022-03-14T00:00:00\", \"2022-03-14T00:00:00\", \"2022-03-14T00:00:00\", \"2022-03-14T00:00:00\", \"2022-03-14T00:00:00\", \"2022-03-14T00:00:00\", \"2022-03-14T00:00:00\", \"2022-03-14T00:00:00\", \"2022-03-14T00:00:00\", \"2022-03-14T00:00:00\", \"2022-03-14T00:00:00\", \"2022-03-16T00:00:00\", \"2022-03-14T00:00:00\", \"2022-03-14T00:00:00\", \"2022-03-14T00:00:00\", \"2022-03-14T00:00:00\", \"2022-03-14T00:00:00\", \"2022-03-14T00:00:00\", \"2022-03-14T00:00:00\", \"2022-03-14T00:00:00\", \"2022-03-14T00:00:00\", \"2022-03-14T00:00:00\", \"2022-03-14T00:00:00\", \"2022-03-14T00:00:00\", \"2022-03-14T00:00:00\", \"2022-03-15T00:00:00\", \"2022-03-15T00:00:00\", \"2022-03-15T00:00:00\", \"2022-03-15T00:00:00\", \"2022-03-16T00:00:00\", \"2022-03-16T00:00:00\", \"2022-03-22T00:00:00\"], \"xaxis\": \"x\", \"y\": [4, 5, 5, 4, 3, 4, 3, 3, 2, 5, 5, 2, 4, 4, 3, 2, 3, 5, 5, 5, 5, 4, 3, 4, 1, 4, 2, 2, 5, 3, 5, 4, 4, 5, 4, 4, 5, 4, 5, 4, 4, 5, 1, 5, 4, 4, 4, 4, 5, 5, 5, 3, 2, 4, 5, 4, 5, 4, 5, 4, 3, 4, 5, 3, 5, 3, 5, 5, 4, 5, 2, 5, 4, 5, 2, 5, 5, 5, 4, 5, 4, 4, 5, 4, 3, 5, 4, 5, 4, 5, 5, 4, 5, 4, 4, 4, 5, 4, 5, 5, 3, 4, 5, 4, 2, 3, 4, 5, 5, 5, 5, 5, 4, 4, 3, 4, 4, 5, 3, 5, 4, 3, 4, 5, 5, 4, 4, 3, 5, 4, 2, 3, 5, 5, 3, 4, 5, 4, 5, 4, 5, 5, 4, 4, 4, 5, 5, 5, 4, 5, 5, 5, 4, 4, 4, 4, 5, 5, 5, 5, 2, 5, 4, 5, 4, 3, 3, 4, 4, 4, 3, 4, 5, 3, 4, 4, 4, 4, 4, 4, 5, 4, 4, 5, 5, 4, 4, 3, 5, 4, 4, 4, 3, 5, 5, 5, 4, 5, 5, 4, 5, 4, 4, 4, 5, 4, 4, 5, 5, 4, 4, 5, 4, 5, 4, 5, 5, 5, 4, 5, 5, 5, 4, 5, 4, 5, 4, 4, 4, 4, 4, 4, 4, 3, 5, 5, 2, 4, 5, 3, 4, 4, 3, 5, 4, 3, 4, 5, 4, 5, 4, 4, 5, 4, 4, 5, 4, 4, 4, 4, 5, 4, 4, 4, 4, 4, 3, 4, 4, 4, 4, 5, 4, 4, 5, 4, 4, 4, 3, 3, 4, 5, 4, 4, 5, 5, 5, 4, 4, 4, 5, 5, 5, 4, 5, 5, 4, 5, 5, 5, 5, 4, 5, 5, 3, 5, 5, 4, 3, 5, 5, 5, 5, 5, 4, 4, 3, 5, 5, 5, 5, 5, 5, 4, 5, 5, 3, 4, 5, 4, 5, 5, 4, 4, 4, 5, 4, 5, 5, 4, 4, 5, 5, 5, 4, 5, 5, 5, 5, 3, 4, 4, 4, 4, 4, 4, 5, 5, 4, 5, 4, 4, 4, 4, 4, 5, 4, 4, 5, 5, 5, 5, 5, 5, 5, 5, 5, 4, 4, 5, 5, 5, 3, 5, 5, 4, 5, 4, 4, 3, 4, 5, 4, 3, 5, 5, 4, 5, 5, 4, 5, 5, 5, 5, 5, 5, 3, 4, 5, 3, 5, 4, 4, 4, 5, 5, 4, 5, 4, 5, 4, 4, 5, 5, 5, 5, 4, 5, 1, 5, 5, 5, 4, 5, 5, 5, 4, 5, 5, 5, 4, 4, 5, 2, 4, 5, 3, 5, 3, 4, 4, 5, 5, 5, 4, 3, 4, 4, 5, 5, 5, 4, 3, 5, 1, 5, 5, 5, 4, 4, 4, 4, 3, 4, 4, 4, 4, 5, 5, 4, 4, 5, 3, 4, 5, 4, 5, 4, 3, 4, 4, 3, 5, 5, 5, 5, 4, 4, 4, 5, 4, 4, 5, 4, 3, 2, 3, 2, 4, 4, 3, 3, 4, 4, 3, 4, 4, 4, 4, 4, 4, 5, 4, 4, 4, 5, 4, 4, 3, 5, 4, 4, 4, 4, 3, 5, 3, 4, 4, 3, 4, 4, 4, 5, 3, 3, 3, 4, 3, 4, 4, 3, 5, 4, 3, 2, 5, 4, 5, 4, 3, 5, 3, 3, 4, 4, 4, 4, 4, 5, 3, 4, 5, 4, 4, 4, 3, 4, 5, 3, 5, 5, 3, 4, 4, 5, 4, 4, 5, 4, 5, 4, 4, 4, 4, 5, 4, 4, 5, 3, 3, 4, 4, 4, 4, 5, 4, 4, 4, 5, 3, 5, 5, 4, 4, 4, 4, 4, 4, 5, 3, 4, 4, 4, 5, 5, 4, 5, 4, 4, 4, 5, 5, 5, 4, 5, 5, 5, 5, 5, 5, 4, 5, 4, 5, 4, 5, 5, 5, 5, 4, 5, 5, 4, 4, 4, 2, 4, 4, 4, 4, 5, 5, 4, 4, 3, 4, 3, 5, 4, 5, 3, 4, 4, 4, 4, 4, 4, 4, 2, 4, 4, 4, 4, 4, 4, 4, 5, 3, 3, 4, 5, 4, 3, 3, 3, 4, 4, 4, 4, 4, 2, 5, 5, 4, 5, 4, 3, 2, 5, 4, 5, 4, 5, 2, 4, 5, 5, 5, 5], \"yaxis\": \"y\"}, {\"hovertemplate\": \"<b>OLS trendline</b><br>overall_rating = 0.0647381 * date + 4.22227<br>R<sup>2</sup>=0.008027<br><br>Date (years)=%{x}<br>Overall Rating (1-5)=%{y} <b>(trend)</b><extra></extra>\", \"legendgroup\": \"\", \"marker\": {\"symbol\": \"circle\"}, \"mode\": \"lines\", \"name\": \"\", \"showlegend\": false, \"type\": \"scatter\", \"x\": [\"2017-12-19T00:00:00\", \"2017-12-19T00:00:00\", \"2017-12-19T00:00:00\", \"2017-12-19T00:00:00\", \"2017-12-19T00:00:00\", \"2017-12-19T00:00:00\", \"2017-12-19T00:00:00\", \"2017-12-19T00:00:00\", \"2017-12-19T00:00:00\", \"2017-12-19T00:00:00\", \"2017-12-19T00:00:00\", \"2017-12-19T00:00:00\", \"2017-12-19T00:00:00\", \"2017-12-19T00:00:00\", \"2017-12-19T00:00:00\", \"2017-12-19T00:00:00\", \"2017-12-19T00:00:00\", \"2017-12-19T00:00:00\", \"2017-12-19T00:00:00\", \"2017-12-19T00:00:00\", \"2017-12-19T00:00:00\", \"2017-12-19T00:00:00\", \"2017-12-19T00:00:00\", \"2017-12-19T00:00:00\", \"2017-12-19T00:00:00\", \"2017-12-19T00:00:00\", \"2017-12-19T00:00:00\", \"2017-12-19T00:00:00\", \"2017-12-19T00:00:00\", \"2017-12-19T00:00:00\", \"2017-12-19T00:00:00\", \"2017-12-19T00:00:00\", \"2017-12-19T00:00:00\", \"2017-12-19T00:00:00\", \"2017-12-19T00:00:00\", \"2017-12-19T00:00:00\", \"2017-12-19T00:00:00\", \"2017-12-19T00:00:00\", \"2017-12-19T00:00:00\", \"2017-12-19T00:00:00\", \"2017-12-19T00:00:00\", \"2017-12-19T00:00:00\", \"2017-12-19T00:00:00\", \"2017-12-19T00:00:00\", \"2017-12-19T00:00:00\", \"2017-12-19T00:00:00\", \"2017-12-19T00:00:00\", \"2017-12-19T00:00:00\", \"2017-12-19T00:00:00\", \"2017-12-19T00:00:00\", \"2017-12-19T00:00:00\", \"2017-12-19T00:00:00\", \"2017-12-19T00:00:00\", \"2017-12-19T00:00:00\", \"2017-12-19T00:00:00\", \"2017-12-19T00:00:00\", \"2017-12-19T00:00:00\", \"2017-12-19T00:00:00\", \"2017-12-19T00:00:00\", \"2017-12-19T00:00:00\", \"2017-12-19T00:00:00\", \"2017-12-19T00:00:00\", \"2017-12-20T00:00:00\", \"2017-12-20T00:00:00\", \"2017-12-20T00:00:00\", \"2017-12-20T00:00:00\", \"2017-12-20T00:00:00\", \"2017-12-20T00:00:00\", \"2017-12-20T00:00:00\", \"2017-12-20T00:00:00\", \"2017-12-20T00:00:00\", \"2017-12-20T00:00:00\", \"2017-12-20T00:00:00\", \"2017-12-20T00:00:00\", \"2017-12-20T00:00:00\", \"2017-12-20T00:00:00\", \"2017-12-20T00:00:00\", \"2017-12-20T00:00:00\", \"2017-12-20T00:00:00\", \"2017-12-20T00:00:00\", \"2017-12-20T00:00:00\", \"2017-12-20T00:00:00\", \"2017-12-20T00:00:00\", \"2017-12-20T00:00:00\", \"2017-12-20T00:00:00\", \"2017-12-20T00:00:00\", \"2017-12-20T00:00:00\", \"2017-12-20T00:00:00\", \"2017-12-20T00:00:00\", \"2017-12-20T00:00:00\", \"2017-12-20T00:00:00\", \"2017-12-20T00:00:00\", \"2017-12-20T00:00:00\", \"2018-01-12T00:00:00\", \"2018-01-12T00:00:00\", \"2018-01-31T00:00:00\", \"2018-02-02T00:00:00\", \"2018-02-21T00:00:00\", \"2018-02-21T00:00:00\", \"2018-02-21T00:00:00\", \"2018-03-23T00:00:00\", \"2018-11-12T00:00:00\", \"2018-12-17T00:00:00\", \"2018-12-17T00:00:00\", \"2018-12-17T00:00:00\", \"2018-12-17T00:00:00\", \"2018-12-17T00:00:00\", \"2018-12-17T00:00:00\", \"2018-12-17T00:00:00\", \"2018-12-17T00:00:00\", \"2018-12-17T00:00:00\", \"2018-12-17T00:00:00\", \"2018-12-17T00:00:00\", \"2018-12-17T00:00:00\", \"2018-12-17T00:00:00\", \"2018-12-17T00:00:00\", \"2018-12-17T00:00:00\", \"2018-12-17T00:00:00\", \"2018-12-17T00:00:00\", \"2018-12-17T00:00:00\", \"2018-12-17T00:00:00\", \"2018-12-17T00:00:00\", \"2018-12-17T00:00:00\", \"2018-12-17T00:00:00\", \"2018-12-17T00:00:00\", \"2018-12-17T00:00:00\", \"2018-12-17T00:00:00\", \"2018-12-17T00:00:00\", \"2018-12-17T00:00:00\", \"2018-12-17T00:00:00\", \"2018-12-17T00:00:00\", \"2018-12-17T00:00:00\", \"2018-12-17T00:00:00\", \"2018-12-17T00:00:00\", \"2018-12-17T00:00:00\", \"2018-12-17T00:00:00\", \"2018-12-17T00:00:00\", \"2018-12-17T00:00:00\", \"2018-12-17T00:00:00\", \"2018-12-17T00:00:00\", \"2018-12-17T00:00:00\", \"2018-12-17T00:00:00\", \"2018-12-17T00:00:00\", \"2018-12-17T00:00:00\", \"2018-12-17T00:00:00\", \"2018-12-17T00:00:00\", \"2018-12-17T00:00:00\", \"2018-12-17T00:00:00\", \"2018-12-17T00:00:00\", \"2018-12-17T00:00:00\", \"2018-12-17T00:00:00\", \"2018-12-17T00:00:00\", \"2018-12-17T00:00:00\", \"2018-12-17T00:00:00\", \"2018-12-17T00:00:00\", \"2018-12-17T00:00:00\", \"2018-12-17T00:00:00\", \"2018-12-17T00:00:00\", \"2018-12-17T00:00:00\", \"2018-12-17T00:00:00\", \"2018-12-17T00:00:00\", \"2018-12-17T00:00:00\", \"2018-12-17T00:00:00\", \"2018-12-17T00:00:00\", \"2018-12-17T00:00:00\", \"2018-12-17T00:00:00\", \"2018-12-17T00:00:00\", \"2018-12-17T00:00:00\", \"2018-12-17T00:00:00\", \"2018-12-17T00:00:00\", \"2018-12-17T00:00:00\", \"2018-12-17T00:00:00\", \"2018-12-17T00:00:00\", \"2018-12-17T00:00:00\", \"2018-12-17T00:00:00\", \"2018-12-17T00:00:00\", \"2018-12-17T00:00:00\", \"2018-12-17T00:00:00\", \"2018-12-17T00:00:00\", \"2018-12-17T00:00:00\", \"2018-12-17T00:00:00\", \"2018-12-17T00:00:00\", \"2018-12-17T00:00:00\", \"2018-12-17T00:00:00\", \"2018-12-17T00:00:00\", \"2018-12-17T00:00:00\", \"2018-12-17T00:00:00\", \"2018-12-17T00:00:00\", \"2018-12-17T00:00:00\", \"2018-12-17T00:00:00\", \"2018-12-17T00:00:00\", \"2018-12-17T00:00:00\", \"2018-12-17T00:00:00\", \"2018-12-17T00:00:00\", \"2018-12-17T00:00:00\", \"2018-12-17T00:00:00\", \"2018-12-17T00:00:00\", \"2018-12-17T00:00:00\", \"2018-12-17T00:00:00\", \"2018-12-17T00:00:00\", \"2018-12-17T00:00:00\", \"2018-12-17T00:00:00\", \"2018-12-17T00:00:00\", \"2018-12-17T00:00:00\", \"2018-12-17T00:00:00\", \"2018-12-17T00:00:00\", \"2018-12-17T00:00:00\", \"2018-12-17T00:00:00\", \"2018-12-17T00:00:00\", \"2018-12-17T00:00:00\", \"2018-12-17T00:00:00\", \"2018-12-17T00:00:00\", \"2018-12-17T00:00:00\", \"2018-12-17T00:00:00\", \"2018-12-17T00:00:00\", \"2019-02-21T00:00:00\", \"2019-02-21T00:00:00\", \"2019-02-21T00:00:00\", \"2019-02-21T00:00:00\", \"2019-02-21T00:00:00\", \"2019-02-21T00:00:00\", \"2019-02-25T00:00:00\", \"2019-02-25T00:00:00\", \"2019-02-25T00:00:00\", \"2019-02-25T00:00:00\", \"2019-02-25T00:00:00\", \"2019-02-25T00:00:00\", \"2019-02-27T00:00:00\", \"2019-02-27T00:00:00\", \"2019-02-27T00:00:00\", \"2019-02-27T00:00:00\", \"2019-02-27T00:00:00\", \"2019-02-27T00:00:00\", \"2019-02-27T00:00:00\", \"2019-02-27T00:00:00\", \"2019-02-27T00:00:00\", \"2019-02-27T00:00:00\", \"2019-02-27T00:00:00\", \"2019-02-27T00:00:00\", \"2019-02-27T00:00:00\", \"2019-02-27T00:00:00\", \"2019-02-27T00:00:00\", \"2019-02-27T00:00:00\", \"2019-02-27T00:00:00\", \"2019-02-28T00:00:00\", \"2019-02-28T00:00:00\", \"2019-02-28T00:00:00\", \"2019-02-28T00:00:00\", \"2019-02-28T00:00:00\", \"2019-02-28T00:00:00\", \"2019-02-28T00:00:00\", \"2019-02-28T00:00:00\", \"2019-02-28T00:00:00\", \"2019-03-01T00:00:00\", \"2019-03-04T00:00:00\", \"2019-10-11T00:00:00\", \"2019-10-14T00:00:00\", \"2019-11-06T00:00:00\", \"2019-11-12T00:00:00\", \"2019-11-12T00:00:00\", \"2019-11-12T00:00:00\", \"2019-11-12T00:00:00\", \"2019-11-12T00:00:00\", \"2019-11-12T00:00:00\", \"2019-11-12T00:00:00\", \"2019-11-12T00:00:00\", \"2019-11-12T00:00:00\", \"2019-11-12T00:00:00\", \"2019-11-12T00:00:00\", \"2019-11-12T00:00:00\", \"2019-11-13T00:00:00\", \"2019-11-13T00:00:00\", \"2019-11-13T00:00:00\", \"2019-11-13T00:00:00\", \"2019-11-13T00:00:00\", \"2019-11-13T00:00:00\", \"2019-11-13T00:00:00\", \"2019-11-13T00:00:00\", \"2019-11-13T00:00:00\", \"2019-11-14T00:00:00\", \"2019-11-15T00:00:00\", \"2019-11-15T00:00:00\", \"2019-11-15T00:00:00\", \"2019-11-15T00:00:00\", \"2019-11-15T00:00:00\", \"2019-11-15T00:00:00\", \"2019-11-15T00:00:00\", \"2019-11-15T00:00:00\", \"2019-11-15T00:00:00\", \"2019-11-15T00:00:00\", \"2019-11-15T00:00:00\", \"2019-11-15T00:00:00\", \"2019-11-15T00:00:00\", \"2019-11-15T00:00:00\", \"2019-11-15T00:00:00\", \"2019-11-15T00:00:00\", \"2019-11-15T00:00:00\", \"2019-11-15T00:00:00\", \"2019-11-15T00:00:00\", \"2019-11-15T00:00:00\", \"2019-11-15T00:00:00\", \"2019-11-15T00:00:00\", \"2019-11-15T00:00:00\", \"2019-11-16T00:00:00\", \"2019-11-17T00:00:00\", \"2019-11-19T00:00:00\", \"2019-11-19T00:00:00\", \"2019-11-19T00:00:00\", \"2019-11-19T00:00:00\", \"2019-11-19T00:00:00\", \"2019-11-19T00:00:00\", \"2019-11-19T00:00:00\", \"2019-11-19T00:00:00\", \"2019-11-19T00:00:00\", \"2019-11-20T00:00:00\", \"2019-11-20T00:00:00\", \"2019-11-20T00:00:00\", \"2019-11-20T00:00:00\", \"2019-11-21T00:00:00\", \"2019-11-21T00:00:00\", \"2019-11-22T00:00:00\", \"2019-11-22T00:00:00\", \"2019-11-22T00:00:00\", \"2019-11-22T00:00:00\", \"2019-11-22T00:00:00\", \"2019-11-22T00:00:00\", \"2019-11-22T00:00:00\", \"2019-11-22T00:00:00\", \"2019-11-23T00:00:00\", \"2019-11-23T00:00:00\", \"2019-11-23T00:00:00\", \"2019-11-23T00:00:00\", \"2019-11-23T00:00:00\", \"2019-11-23T00:00:00\", \"2019-11-23T00:00:00\", \"2019-11-23T00:00:00\", \"2019-11-24T00:00:00\", \"2019-11-24T00:00:00\", \"2019-11-24T00:00:00\", \"2019-11-24T00:00:00\", \"2019-11-24T00:00:00\", \"2019-11-24T00:00:00\", \"2019-11-24T00:00:00\", \"2019-11-24T00:00:00\", \"2019-11-24T00:00:00\", \"2019-11-24T00:00:00\", \"2019-11-24T00:00:00\", \"2019-11-24T00:00:00\", \"2019-11-24T00:00:00\", \"2019-11-24T00:00:00\", \"2019-11-24T00:00:00\", \"2019-11-24T00:00:00\", \"2019-11-25T00:00:00\", \"2019-11-25T00:00:00\", \"2019-11-25T00:00:00\", \"2019-11-29T00:00:00\", \"2019-11-29T00:00:00\", \"2019-11-29T00:00:00\", \"2019-11-29T00:00:00\", \"2019-11-29T00:00:00\", \"2019-11-29T00:00:00\", \"2019-11-29T00:00:00\", \"2019-11-29T00:00:00\", \"2019-11-29T00:00:00\", \"2019-11-29T00:00:00\", \"2019-11-29T00:00:00\", \"2019-11-29T00:00:00\", \"2019-11-29T00:00:00\", \"2019-11-29T00:00:00\", \"2019-11-29T00:00:00\", \"2019-11-29T00:00:00\", \"2019-11-29T00:00:00\", \"2019-11-29T00:00:00\", \"2019-11-29T00:00:00\", \"2019-11-29T00:00:00\", \"2019-12-05T00:00:00\", \"2019-12-05T00:00:00\", \"2019-12-05T00:00:00\", \"2019-12-05T00:00:00\", \"2019-12-05T00:00:00\", \"2019-12-05T00:00:00\", \"2019-12-05T00:00:00\", \"2019-12-05T00:00:00\", \"2019-12-05T00:00:00\", \"2019-12-13T00:00:00\", \"2019-12-13T00:00:00\", \"2019-12-13T00:00:00\", \"2019-12-13T00:00:00\", \"2019-12-13T00:00:00\", \"2019-12-13T00:00:00\", \"2019-12-13T00:00:00\", \"2019-12-13T00:00:00\", \"2019-12-13T00:00:00\", \"2019-12-13T00:00:00\", \"2019-12-13T00:00:00\", \"2019-12-13T00:00:00\", \"2019-12-13T00:00:00\", \"2019-12-17T00:00:00\", \"2019-12-17T00:00:00\", \"2019-12-17T00:00:00\", \"2019-12-17T00:00:00\", \"2019-12-17T00:00:00\", \"2019-12-17T00:00:00\", \"2019-12-17T00:00:00\", \"2019-12-17T00:00:00\", \"2019-12-17T00:00:00\", \"2019-12-17T00:00:00\", \"2019-12-17T00:00:00\", \"2019-12-17T00:00:00\", \"2019-12-17T00:00:00\", \"2019-12-17T00:00:00\", \"2019-12-17T00:00:00\", \"2019-12-17T00:00:00\", \"2019-12-17T00:00:00\", \"2019-12-17T00:00:00\", \"2019-12-17T00:00:00\", \"2019-12-17T00:00:00\", \"2019-12-17T00:00:00\", \"2019-12-18T00:00:00\", \"2019-12-18T00:00:00\", \"2019-12-18T00:00:00\", \"2019-12-18T00:00:00\", \"2019-12-18T00:00:00\", \"2019-12-18T00:00:00\", \"2019-12-18T00:00:00\", \"2019-12-18T00:00:00\", \"2019-12-18T00:00:00\", \"2019-12-18T00:00:00\", \"2019-12-18T00:00:00\", \"2019-12-18T00:00:00\", \"2019-12-18T00:00:00\", \"2019-12-18T00:00:00\", \"2019-12-18T00:00:00\", \"2019-12-18T00:00:00\", \"2019-12-18T00:00:00\", \"2019-12-18T00:00:00\", \"2019-12-18T00:00:00\", \"2019-12-18T00:00:00\", \"2019-12-18T00:00:00\", \"2019-12-18T00:00:00\", \"2019-12-18T00:00:00\", \"2019-12-18T00:00:00\", \"2019-12-18T00:00:00\", \"2019-12-18T00:00:00\", \"2019-12-18T00:00:00\", \"2019-12-18T00:00:00\", \"2019-12-18T00:00:00\", \"2019-12-18T00:00:00\", \"2019-12-18T00:00:00\", \"2019-12-18T00:00:00\", \"2019-12-18T00:00:00\", \"2019-12-18T00:00:00\", \"2019-12-18T00:00:00\", \"2019-12-18T00:00:00\", \"2019-12-18T00:00:00\", \"2019-12-18T00:00:00\", \"2019-12-18T00:00:00\", \"2019-12-18T00:00:00\", \"2019-12-18T00:00:00\", \"2019-12-18T00:00:00\", \"2019-12-18T00:00:00\", \"2019-12-18T00:00:00\", \"2019-12-18T00:00:00\", \"2019-12-18T00:00:00\", \"2019-12-18T00:00:00\", \"2019-12-18T00:00:00\", \"2019-12-18T00:00:00\", \"2019-12-18T00:00:00\", \"2019-12-18T00:00:00\", \"2019-12-18T00:00:00\", \"2019-12-18T00:00:00\", \"2019-12-18T00:00:00\", \"2019-12-18T00:00:00\", \"2019-12-18T00:00:00\", \"2019-12-18T00:00:00\", \"2019-12-18T00:00:00\", \"2019-12-18T00:00:00\", \"2019-12-18T00:00:00\", \"2019-12-18T00:00:00\", \"2019-12-18T00:00:00\", \"2019-12-18T00:00:00\", \"2019-12-18T00:00:00\", \"2019-12-18T00:00:00\", \"2019-12-18T00:00:00\", \"2019-12-18T00:00:00\", \"2019-12-18T00:00:00\", \"2019-12-18T00:00:00\", \"2019-12-18T00:00:00\", \"2019-12-18T00:00:00\", \"2019-12-18T00:00:00\", \"2019-12-18T00:00:00\", \"2019-12-18T00:00:00\", \"2019-12-18T00:00:00\", \"2019-12-18T00:00:00\", \"2019-12-18T00:00:00\", \"2019-12-18T00:00:00\", \"2019-12-18T00:00:00\", \"2019-12-18T00:00:00\", \"2019-12-18T00:00:00\", \"2019-12-18T00:00:00\", \"2019-12-18T00:00:00\", \"2019-12-18T00:00:00\", \"2019-12-18T00:00:00\", \"2019-12-18T00:00:00\", \"2019-12-18T00:00:00\", \"2019-12-18T00:00:00\", \"2019-12-18T00:00:00\", \"2019-12-18T00:00:00\", \"2019-12-18T00:00:00\", \"2019-12-18T00:00:00\", \"2019-12-18T00:00:00\", \"2019-12-18T00:00:00\", \"2019-12-18T00:00:00\", \"2019-12-18T00:00:00\", \"2019-12-18T00:00:00\", \"2019-12-18T00:00:00\", \"2019-12-18T00:00:00\", \"2019-12-18T00:00:00\", \"2019-12-18T00:00:00\", \"2019-12-18T00:00:00\", \"2019-12-18T00:00:00\", \"2019-12-18T00:00:00\", \"2019-12-18T00:00:00\", \"2019-12-18T00:00:00\", \"2020-01-03T00:00:00\", \"2020-01-09T00:00:00\", \"2020-01-09T00:00:00\", \"2020-01-09T00:00:00\", \"2020-01-09T00:00:00\", \"2020-01-09T00:00:00\", \"2020-01-09T00:00:00\", \"2020-01-09T00:00:00\", \"2020-01-09T00:00:00\", \"2020-01-09T00:00:00\", \"2020-01-09T00:00:00\", \"2020-01-09T00:00:00\", \"2020-01-09T00:00:00\", \"2020-01-09T00:00:00\", \"2020-01-10T00:00:00\", \"2020-01-10T00:00:00\", \"2020-01-10T00:00:00\", \"2020-01-10T00:00:00\", \"2020-01-11T00:00:00\", \"2020-01-11T00:00:00\", \"2020-01-11T00:00:00\", \"2020-01-11T00:00:00\", \"2020-01-11T00:00:00\", \"2020-01-13T00:00:00\", \"2020-01-14T00:00:00\", \"2020-01-14T00:00:00\", \"2020-01-15T00:00:00\", \"2020-01-18T00:00:00\", \"2020-01-19T00:00:00\", \"2020-01-20T00:00:00\", \"2020-01-20T00:00:00\", \"2020-01-20T00:00:00\", \"2020-01-20T00:00:00\", \"2020-01-20T00:00:00\", \"2020-01-20T00:00:00\", \"2020-01-20T00:00:00\", \"2020-01-20T00:00:00\", \"2020-01-20T00:00:00\", \"2020-01-20T00:00:00\", \"2020-01-20T00:00:00\", \"2020-01-20T00:00:00\", \"2020-01-20T00:00:00\", \"2020-01-20T00:00:00\", \"2020-01-20T00:00:00\", \"2020-01-20T00:00:00\", \"2020-01-20T00:00:00\", \"2020-01-20T00:00:00\", \"2020-01-20T00:00:00\", \"2020-01-20T00:00:00\", \"2020-01-20T00:00:00\", \"2020-01-20T00:00:00\", \"2020-01-20T00:00:00\", \"2020-01-20T00:00:00\", \"2020-01-20T00:00:00\", \"2020-01-20T00:00:00\", \"2020-01-20T00:00:00\", \"2020-01-20T00:00:00\", \"2020-01-20T00:00:00\", \"2020-01-20T00:00:00\", \"2020-01-20T00:00:00\", \"2020-01-20T00:00:00\", \"2020-01-20T00:00:00\", \"2020-01-20T00:00:00\", \"2020-01-20T00:00:00\", \"2020-01-20T00:00:00\", \"2020-01-20T00:00:00\", \"2020-01-20T00:00:00\", \"2020-01-20T00:00:00\", \"2020-01-20T00:00:00\", \"2020-01-20T00:00:00\", \"2020-01-20T00:00:00\", \"2020-01-20T00:00:00\", \"2020-01-20T00:00:00\", \"2020-01-20T00:00:00\", \"2020-01-20T00:00:00\", \"2020-01-20T00:00:00\", \"2020-01-20T00:00:00\", \"2020-01-20T00:00:00\", \"2020-01-20T00:00:00\", \"2020-01-20T00:00:00\", \"2020-01-20T00:00:00\", \"2020-01-20T00:00:00\", \"2020-01-20T00:00:00\", \"2020-01-20T00:00:00\", \"2020-01-20T00:00:00\", \"2020-01-20T00:00:00\", \"2020-01-20T00:00:00\", \"2020-01-20T00:00:00\", \"2020-01-20T00:00:00\", \"2020-01-20T00:00:00\", \"2020-01-20T00:00:00\", \"2020-01-20T00:00:00\", \"2020-01-21T00:00:00\", \"2020-01-22T00:00:00\", \"2020-01-23T00:00:00\", \"2020-02-08T00:00:00\", \"2020-02-12T00:00:00\", \"2020-02-13T00:00:00\", \"2020-02-13T00:00:00\", \"2020-02-17T00:00:00\", \"2020-02-18T00:00:00\", \"2020-02-18T00:00:00\", \"2020-02-18T00:00:00\", \"2020-02-18T00:00:00\", \"2020-02-18T00:00:00\", \"2020-02-18T00:00:00\", \"2020-02-22T00:00:00\", \"2020-02-23T00:00:00\", \"2020-02-25T00:00:00\", \"2020-02-25T00:00:00\", \"2020-02-25T00:00:00\", \"2020-02-25T00:00:00\", \"2020-02-25T00:00:00\", \"2020-02-26T00:00:00\", \"2020-02-26T00:00:00\", \"2020-02-26T00:00:00\", \"2020-02-26T00:00:00\", \"2020-02-26T00:00:00\", \"2020-02-26T00:00:00\", \"2020-02-27T00:00:00\", \"2020-02-27T00:00:00\", \"2020-02-27T00:00:00\", \"2020-02-27T00:00:00\", \"2020-02-28T00:00:00\", \"2020-02-28T00:00:00\", \"2020-02-28T00:00:00\", \"2020-02-28T00:00:00\", \"2020-02-28T00:00:00\", \"2020-02-28T00:00:00\", \"2020-02-29T00:00:00\", \"2020-05-28T00:00:00\", \"2020-07-24T00:00:00\", \"2020-11-17T00:00:00\", \"2021-03-18T00:00:00\", \"2021-03-18T00:00:00\", \"2021-03-21T00:00:00\", \"2021-03-22T00:00:00\", \"2021-04-02T00:00:00\", \"2021-04-03T00:00:00\", \"2021-04-08T00:00:00\", \"2021-04-09T00:00:00\", \"2021-04-10T00:00:00\", \"2021-04-10T00:00:00\", \"2021-04-10T00:00:00\", \"2021-04-11T00:00:00\", \"2021-04-11T00:00:00\", \"2021-04-26T00:00:00\", \"2021-04-28T00:00:00\", \"2021-04-28T00:00:00\", \"2021-05-20T00:00:00\", \"2021-05-25T00:00:00\", \"2021-05-26T00:00:00\", \"2021-05-26T00:00:00\", \"2021-05-26T00:00:00\", \"2021-05-28T00:00:00\", \"2021-11-04T00:00:00\", \"2022-03-11T00:00:00\", \"2022-03-11T00:00:00\", \"2022-03-11T00:00:00\", \"2022-03-11T00:00:00\", \"2022-03-14T00:00:00\", \"2022-03-14T00:00:00\", \"2022-03-14T00:00:00\", \"2022-03-14T00:00:00\", \"2022-03-14T00:00:00\", \"2022-03-14T00:00:00\", \"2022-03-14T00:00:00\", \"2022-03-14T00:00:00\", \"2022-03-14T00:00:00\", \"2022-03-14T00:00:00\", \"2022-03-14T00:00:00\", \"2022-03-14T00:00:00\", \"2022-03-14T00:00:00\", \"2022-03-14T00:00:00\", \"2022-03-14T00:00:00\", \"2022-03-14T00:00:00\", \"2022-03-14T00:00:00\", \"2022-03-14T00:00:00\", \"2022-03-14T00:00:00\", \"2022-03-14T00:00:00\", \"2022-03-14T00:00:00\", \"2022-03-14T00:00:00\", \"2022-03-14T00:00:00\", \"2022-03-14T00:00:00\", \"2022-03-14T00:00:00\", \"2022-03-14T00:00:00\", \"2022-03-14T00:00:00\", \"2022-03-15T00:00:00\", \"2022-03-15T00:00:00\", \"2022-03-15T00:00:00\", \"2022-03-15T00:00:00\", \"2022-03-16T00:00:00\", \"2022-03-16T00:00:00\", \"2022-03-16T00:00:00\", \"2022-03-16T00:00:00\", \"2022-03-22T00:00:00\"], \"xaxis\": \"x\", \"y\": [4.219288235927508, 4.219288235927508, 4.219288235927508, 4.219288235927508, 4.219288235927508, 4.219288235927508, 4.219288235927508, 4.219288235927508, 4.219288235927508, 4.219288235927508, 4.219288235927508, 4.219288235927508, 4.219288235927508, 4.219288235927508, 4.219288235927508, 4.219288235927508, 4.219288235927508, 4.219288235927508, 4.219288235927508, 4.219288235927508, 4.219288235927508, 4.219288235927508, 4.219288235927508, 4.219288235927508, 4.219288235927508, 4.219288235927508, 4.219288235927508, 4.219288235927508, 4.219288235927508, 4.219288235927508, 4.219288235927508, 4.219288235927508, 4.219288235927508, 4.219288235927508, 4.219288235927508, 4.219288235927508, 4.219288235927508, 4.219288235927508, 4.219288235927508, 4.219288235927508, 4.219288235927508, 4.219288235927508, 4.219288235927508, 4.219288235927508, 4.219288235927508, 4.219288235927508, 4.219288235927508, 4.219288235927508, 4.219288235927508, 4.219288235927508, 4.219288235927508, 4.219288235927508, 4.219288235927508, 4.219288235927508, 4.219288235927508, 4.219288235927508, 4.219288235927508, 4.219288235927508, 4.219288235927508, 4.219288235927508, 4.219288235927508, 4.219288235927508, 4.0990634768781, 4.0990634768781, 4.0990634768781, 4.0990634768781, 4.0990634768781, 4.0990634768781, 4.0990634768781, 4.0990634768781, 4.0990634768781, 4.0990634768781, 4.0990634768781, 4.0990634768781, 4.0990634768781, 4.0990634768781, 4.0990634768781, 4.0990634768781, 4.0990634768781, 4.0990634768781, 4.0990634768781, 4.0990634768781, 4.0990634768781, 4.0990634768781, 4.0990634768781, 4.0990634768781, 4.0990634768781, 4.0990634768781, 4.0990634768781, 4.0990634768781, 4.0990634768781, 4.0990634768781, 4.0990634768781, 4.114375300832975, 4.114375300832975, 4.332538032776359, 4.092088514677541, 4.310251246620925, 4.310251246620925, 4.310251246620925, 4.318134141857322, 4.2684014734175735, 4.231256829825182, 4.231256829825182, 4.231256829825182, 4.231256829825182, 4.231256829825182, 4.231256829825182, 4.231256829825182, 4.231256829825182, 4.231256829825182, 4.231256829825182, 4.231256829825182, 4.231256829825182, 4.231256829825182, 4.231256829825182, 4.231256829825182, 4.231256829825182, 4.231256829825182, 4.231256829825182, 4.231256829825182, 4.231256829825182, 4.231256829825182, 4.231256829825182, 4.231256829825182, 4.231256829825182, 4.231256829825182, 4.231256829825182, 4.231256829825182, 4.231256829825182, 4.231256829825182, 4.231256829825182, 4.231256829825182, 4.231256829825182, 4.231256829825182, 4.231256829825182, 4.231256829825182, 4.231256829825182, 4.231256829825182, 4.231256829825182, 4.231256829825182, 4.231256829825182, 4.231256829825182, 4.231256829825182, 4.231256829825182, 4.231256829825182, 4.231256829825182, 4.231256829825182, 4.231256829825182, 4.231256829825182, 4.231256829825182, 4.231256829825182, 4.231256829825182, 4.231256829825182, 4.231256829825182, 4.231256829825182, 4.231256829825182, 4.231256829825182, 4.231256829825182, 4.231256829825182, 4.231256829825182, 4.231256829825182, 4.231256829825182, 4.231256829825182, 4.231256829825182, 4.231256829825182, 4.231256829825182, 4.231256829825182, 4.231256829825182, 4.231256829825182, 4.231256829825182, 4.231256829825182, 4.231256829825182, 4.231256829825182, 4.231256829825182, 4.231256829825182, 4.231256829825182, 4.231256829825182, 4.231256829825182, 4.231256829825182, 4.231256829825182, 4.231256829825182, 4.231256829825182, 4.231256829825182, 4.231256829825182, 4.231256829825182, 4.231256829825182, 4.231256829825182, 4.231256829825182, 4.231256829825182, 4.231256829825182, 4.231256829825182, 4.231256829825182, 4.231256829825182, 4.231256829825182, 4.231256829825182, 4.231256829825182, 4.231256829825182, 4.231256829825182, 4.231256829825182, 4.231256829825182, 4.231256829825182, 4.231256829825182, 4.231256829825182, 4.231256829825182, 4.231256829825182, 4.231256829825182, 4.231256829825182, 4.231256829825182, 4.231256829825182, 4.231256829825182, 4.231256829825182, 4.231256829825182, 4.231256829825182, 4.231256829825182, 4.359818450628909, 4.359818450628909, 4.359818450628909, 4.359818450628909, 4.359818450628909, 4.359818450628909, 4.156967542640401, 4.156967542640401, 4.156967542640401, 4.156967542640401, 4.156967542640401, 4.156967542640401, 4.194566152750712, 4.194566152750712, 4.194566152750712, 4.194566152750712, 4.194566152750712, 4.194566152750712, 4.194566152750712, 4.194566152750712, 4.194566152750712, 4.194566152750712, 4.194566152750712, 4.194566152750712, 4.194566152750712, 4.194566152750712, 4.194566152750712, 4.194566152750712, 4.194566152750712, 4.352389521910431, 4.352389521910431, 4.352389521910431, 4.352389521910431, 4.352389521910431, 4.352389521910431, 4.352389521910431, 4.352389521910431, 4.352389521910431, 4.2321647628610215, 4.149538613921923, 4.272487172078849, 4.18986102313975, 4.205172847094627, 4.317968677425557, 4.317968677425557, 4.317968677425557, 4.317968677425557, 4.317968677425557, 4.317968677425557, 4.317968677425557, 4.317968677425557, 4.317968677425557, 4.317968677425557, 4.317968677425557, 4.317968677425557, 4.1977439183761485, 4.1977439183761485, 4.1977439183761485, 4.1977439183761485, 4.1977439183761485, 4.1977439183761485, 4.1977439183761485, 4.1977439183761485, 4.1977439183761485, 4.355567287535868, 4.235342528486458, 4.235342528486458, 4.235342528486458, 4.235342528486458, 4.235342528486458, 4.235342528486458, 4.235342528486458, 4.235342528486458, 4.235342528486458, 4.235342528486458, 4.235342528486458, 4.235342528486458, 4.235342528486458, 4.235342528486458, 4.235342528486458, 4.235342528486458, 4.235342528486458, 4.235342528486458, 4.235342528486458, 4.235342528486458, 4.235342528486458, 4.235342528486458, 4.235342528486458, 4.11511776943705, 4.272941138596769, 4.310539748707079, 4.310539748707079, 4.310539748707079, 4.310539748707079, 4.310539748707079, 4.310539748707079, 4.310539748707079, 4.310539748707079, 4.310539748707079, 4.19031498965767, 4.19031498965767, 4.19031498965767, 4.19031498965767, 4.34813835881739, 4.34813835881739, 4.22791359976798, 4.22791359976798, 4.22791359976798, 4.22791359976798, 4.22791359976798, 4.22791359976798, 4.22791359976798, 4.22791359976798, 4.107688840718572, 4.107688840718572, 4.107688840718572, 4.107688840718572, 4.107688840718572, 4.107688840718572, 4.107688840718572, 4.107688840718572, 4.265512209878291, 4.265512209878291, 4.265512209878291, 4.265512209878291, 4.265512209878291, 4.265512209878291, 4.265512209878291, 4.265512209878291, 4.265512209878291, 4.265512209878291, 4.265512209878291, 4.265512209878291, 4.265512209878291, 4.265512209878291, 4.265512209878291, 4.265512209878291, 4.1452874508288815, 4.1452874508288815, 4.1452874508288815, 4.220484671049502, 4.220484671049502, 4.220484671049502, 4.220484671049502, 4.220484671049502, 4.220484671049502, 4.220484671049502, 4.220484671049502, 4.220484671049502, 4.220484671049502, 4.220484671049502, 4.220484671049502, 4.220484671049502, 4.220484671049502, 4.220484671049502, 4.220484671049502, 4.220484671049502, 4.220484671049502, 4.220484671049502, 4.220484671049502, 4.333280501380433, 4.333280501380433, 4.333280501380433, 4.333280501380433, 4.333280501380433, 4.333280501380433, 4.333280501380433, 4.333280501380433, 4.333280501380433, 4.205626813612546, 4.205626813612546, 4.205626813612546, 4.205626813612546, 4.205626813612546, 4.205626813612546, 4.205626813612546, 4.205626813612546, 4.205626813612546, 4.205626813612546, 4.205626813612546, 4.205626813612546, 4.205626813612546, 4.2808240338331665, 4.2808240338331665, 4.2808240338331665, 4.2808240338331665, 4.2808240338331665, 4.2808240338331665, 4.2808240338331665, 4.2808240338331665, 4.2808240338331665, 4.2808240338331665, 4.2808240338331665, 4.2808240338331665, 4.2808240338331665, 4.2808240338331665, 4.2808240338331665, 4.2808240338331665, 4.2808240338331665, 4.2808240338331665, 4.2808240338331665, 4.2808240338331665, 4.2808240338331665, 4.160599274783758, 4.160599274783758, 4.160599274783758, 4.160599274783758, 4.160599274783758, 4.160599274783758, 4.160599274783758, 4.160599274783758, 4.160599274783758, 4.160599274783758, 4.160599274783758, 4.160599274783758, 4.160599274783758, 4.160599274783758, 4.160599274783758, 4.160599274783758, 4.160599274783758, 4.160599274783758, 4.160599274783758, 4.160599274783758, 4.160599274783758, 4.160599274783758, 4.160599274783758, 4.160599274783758, 4.160599274783758, 4.160599274783758, 4.160599274783758, 4.160599274783758, 4.160599274783758, 4.160599274783758, 4.160599274783758, 4.160599274783758, 4.160599274783758, 4.160599274783758, 4.160599274783758, 4.160599274783758, 4.160599274783758, 4.160599274783758, 4.160599274783758, 4.160599274783758, 4.160599274783758, 4.160599274783758, 4.160599274783758, 4.160599274783758, 4.160599274783758, 4.160599274783758, 4.160599274783758, 4.160599274783758, 4.160599274783758, 4.160599274783758, 4.160599274783758, 4.160599274783758, 4.160599274783758, 4.160599274783758, 4.160599274783758, 4.160599274783758, 4.160599274783758, 4.160599274783758, 4.160599274783758, 4.160599274783758, 4.160599274783758, 4.160599274783758, 4.160599274783758, 4.160599274783758, 4.160599274783758, 4.160599274783758, 4.160599274783758, 4.160599274783758, 4.160599274783758, 4.160599274783758, 4.160599274783758, 4.160599274783758, 4.160599274783758, 4.160599274783758, 4.160599274783758, 4.160599274783758, 4.160599274783758, 4.160599274783758, 4.160599274783758, 4.160599274783758, 4.160599274783758, 4.160599274783758, 4.160599274783758, 4.160599274783758, 4.160599274783758, 4.160599274783758, 4.160599274783758, 4.160599274783758, 4.160599274783758, 4.160599274783758, 4.160599274783758, 4.160599274783758, 4.160599274783758, 4.160599274783758, 4.160599274783758, 4.160599274783758, 4.160599274783758, 4.160599274783758, 4.160599274783758, 4.160599274783758, 4.160599274783758, 4.160599274783758, 4.160599274783758, 4.160599274783758, 4.160599274783758, 4.160599274783758, 4.1833400274571115, 4.296135857788042, 4.296135857788042, 4.296135857788042, 4.296135857788042, 4.296135857788042, 4.296135857788042, 4.296135857788042, 4.296135857788042, 4.296135857788042, 4.296135857788042, 4.296135857788042, 4.296135857788042, 4.296135857788042, 4.175911098738633, 4.175911098738633, 4.175911098738633, 4.175911098738633, 4.333734467898353, 4.333734467898353, 4.333734467898353, 4.333734467898353, 4.333734467898353, 4.093284949799535, 4.251108318959254, 4.251108318959254, 4.130883559909845, 4.326305539179875, 4.206080780130465, 4.085856021081057, 4.085856021081057, 4.085856021081057, 4.085856021081057, 4.085856021081057, 4.085856021081057, 4.085856021081057, 4.085856021081057, 4.085856021081057, 4.085856021081057, 4.085856021081057, 4.085856021081057, 4.085856021081057, 4.085856021081057, 4.085856021081057, 4.085856021081057, 4.085856021081057, 4.085856021081057, 4.085856021081057, 4.085856021081057, 4.085856021081057, 4.085856021081057, 4.085856021081057, 4.085856021081057, 4.085856021081057, 4.085856021081057, 4.085856021081057, 4.085856021081057, 4.085856021081057, 4.085856021081057, 4.085856021081057, 4.085856021081057, 4.085856021081057, 4.085856021081057, 4.085856021081057, 4.085856021081057, 4.085856021081057, 4.085856021081057, 4.085856021081057, 4.085856021081057, 4.085856021081057, 4.085856021081057, 4.085856021081057, 4.085856021081057, 4.085856021081057, 4.085856021081057, 4.085856021081057, 4.085856021081057, 4.085856021081057, 4.085856021081057, 4.085856021081057, 4.085856021081057, 4.085856021081057, 4.085856021081057, 4.085856021081057, 4.085856021081057, 4.085856021081057, 4.085856021081057, 4.085856021081057, 4.085856021081057, 4.085856021081057, 4.085856021081057, 4.085856021081057, 4.243679390240776, 4.1234546311913665, 4.281278000351086, 4.30401875302444, 4.101167845035932, 4.258991214195651, 4.258991214195651, 4.334188434416272, 4.2139636753668634, 4.2139636753668634, 4.2139636753668634, 4.2139636753668634, 4.2139636753668634, 4.2139636753668634, 4.289160895587484, 4.168936136538075, 4.206534746648385, 4.206534746648385, 4.206534746648385, 4.206534746648385, 4.206534746648385, 4.086309987598976, 4.086309987598976, 4.086309987598976, 4.086309987598976, 4.086309987598976, 4.086309987598976, 4.244133356758695, 4.244133356758695, 4.244133356758695, 4.244133356758695, 4.123908597709287, 4.123908597709287, 4.123908597709287, 4.123908597709287, 4.123908597709287, 4.123908597709287, 4.281731966869006, 4.14755728341848, 4.245949222830373, 4.202283583555344, 4.113590405451526, 4.113590405451526, 4.309012384721555, 4.188787625672147, 4.256555917174289, 4.13633115812488, 4.091303619296092, 4.249126988455811, 4.1289022294064015, 4.1289022294064015, 4.1289022294064015, 4.286725598566121, 4.286725598566121, 4.151642982079756, 4.189241592190066, 4.189241592190066, 4.324778175194351, 4.279750636365562, 4.159525877316153, 4.159525877316153, 4.159525877316153, 4.197124487426463, 4.146483885950875, 4.170586538177988, 4.170586538177988, 4.170586538177988, 4.170586538177988, 4.087960389238889, 4.087960389238889, 4.087960389238889, 4.087960389238889, 4.087960389238889, 4.087960389238889, 4.087960389238889, 4.087960389238889, 4.087960389238889, 4.087960389238889, 4.087960389238889, 4.087960389238889, 4.087960389238889, 4.087960389238889, 4.087960389238889, 4.087960389238889, 4.087960389238889, 4.087960389238889, 4.087960389238889, 4.087960389238889, 4.087960389238889, 4.087960389238889, 4.087960389238889, 4.087960389238889, 4.087960389238889, 4.087960389238889, 4.087960389238889, 4.245783758398608, 4.245783758398608, 4.245783758398608, 4.245783758398608, 4.1255589993492, 4.1255589993492, 4.1255589993492, 4.1255589993492, 4.23835482968013], \"yaxis\": \"y\"}],                        {\"coloraxis\": {\"colorbar\": {\"title\": {\"text\": \"Overall<br>Rating<br>\"}}, \"colorscale\": [[0.0, \"#0508b8\"], [0.08333333333333333, \"#1910d8\"], [0.16666666666666666, \"#3c19f0\"], [0.25, \"#6b1cfb\"], [0.3333333333333333, \"#981cfd\"], [0.4166666666666667, \"#bf1cfd\"], [0.5, \"#dd2bfd\"], [0.5833333333333334, \"#f246fe\"], [0.6666666666666666, \"#fc67fd\"], [0.75, \"#fe88fc\"], [0.8333333333333334, \"#fea5fd\"], [0.9166666666666666, \"#febefe\"], [1.0, \"#fec3fe\"]]}, \"legend\": {\"tracegroupgap\": 0}, \"margin\": {\"t\": 60}, \"template\": {\"data\": {\"bar\": [{\"error_x\": {\"color\": \"#2a3f5f\"}, \"error_y\": {\"color\": \"#2a3f5f\"}, \"marker\": {\"line\": {\"color\": \"#E5ECF6\", \"width\": 0.5}}, \"type\": \"bar\"}], \"barpolar\": [{\"marker\": {\"line\": {\"color\": \"#E5ECF6\", \"width\": 0.5}}, \"type\": \"barpolar\"}], \"carpet\": [{\"aaxis\": {\"endlinecolor\": \"#2a3f5f\", \"gridcolor\": \"white\", \"linecolor\": \"white\", \"minorgridcolor\": \"white\", \"startlinecolor\": \"#2a3f5f\"}, \"baxis\": {\"endlinecolor\": \"#2a3f5f\", \"gridcolor\": \"white\", \"linecolor\": \"white\", \"minorgridcolor\": \"white\", \"startlinecolor\": \"#2a3f5f\"}, \"type\": \"carpet\"}], \"choropleth\": [{\"colorbar\": {\"outlinewidth\": 0, \"ticks\": \"\"}, \"type\": \"choropleth\"}], \"contour\": [{\"colorbar\": {\"outlinewidth\": 0, \"ticks\": \"\"}, \"colorscale\": [[0.0, \"#0d0887\"], [0.1111111111111111, \"#46039f\"], [0.2222222222222222, \"#7201a8\"], [0.3333333333333333, \"#9c179e\"], [0.4444444444444444, \"#bd3786\"], [0.5555555555555556, \"#d8576b\"], [0.6666666666666666, \"#ed7953\"], [0.7777777777777778, \"#fb9f3a\"], [0.8888888888888888, \"#fdca26\"], [1.0, \"#f0f921\"]], \"type\": \"contour\"}], \"contourcarpet\": [{\"colorbar\": {\"outlinewidth\": 0, \"ticks\": \"\"}, \"type\": \"contourcarpet\"}], \"heatmap\": [{\"colorbar\": {\"outlinewidth\": 0, \"ticks\": \"\"}, \"colorscale\": [[0.0, \"#0d0887\"], [0.1111111111111111, \"#46039f\"], [0.2222222222222222, \"#7201a8\"], [0.3333333333333333, \"#9c179e\"], [0.4444444444444444, \"#bd3786\"], [0.5555555555555556, \"#d8576b\"], [0.6666666666666666, \"#ed7953\"], [0.7777777777777778, \"#fb9f3a\"], [0.8888888888888888, \"#fdca26\"], [1.0, \"#f0f921\"]], \"type\": \"heatmap\"}], \"heatmapgl\": [{\"colorbar\": {\"outlinewidth\": 0, \"ticks\": \"\"}, \"colorscale\": [[0.0, \"#0d0887\"], [0.1111111111111111, \"#46039f\"], [0.2222222222222222, \"#7201a8\"], [0.3333333333333333, \"#9c179e\"], [0.4444444444444444, \"#bd3786\"], [0.5555555555555556, \"#d8576b\"], [0.6666666666666666, \"#ed7953\"], [0.7777777777777778, \"#fb9f3a\"], [0.8888888888888888, \"#fdca26\"], [1.0, \"#f0f921\"]], \"type\": \"heatmapgl\"}], \"histogram\": [{\"marker\": {\"colorbar\": {\"outlinewidth\": 0, \"ticks\": \"\"}}, \"type\": \"histogram\"}], \"histogram2d\": [{\"colorbar\": {\"outlinewidth\": 0, \"ticks\": \"\"}, \"colorscale\": [[0.0, \"#0d0887\"], [0.1111111111111111, \"#46039f\"], [0.2222222222222222, \"#7201a8\"], [0.3333333333333333, \"#9c179e\"], [0.4444444444444444, \"#bd3786\"], [0.5555555555555556, \"#d8576b\"], [0.6666666666666666, \"#ed7953\"], [0.7777777777777778, \"#fb9f3a\"], [0.8888888888888888, \"#fdca26\"], [1.0, \"#f0f921\"]], \"type\": \"histogram2d\"}], \"histogram2dcontour\": [{\"colorbar\": {\"outlinewidth\": 0, \"ticks\": \"\"}, \"colorscale\": [[0.0, \"#0d0887\"], [0.1111111111111111, \"#46039f\"], [0.2222222222222222, \"#7201a8\"], [0.3333333333333333, \"#9c179e\"], [0.4444444444444444, \"#bd3786\"], [0.5555555555555556, \"#d8576b\"], [0.6666666666666666, \"#ed7953\"], [0.7777777777777778, \"#fb9f3a\"], [0.8888888888888888, \"#fdca26\"], [1.0, \"#f0f921\"]], \"type\": \"histogram2dcontour\"}], \"mesh3d\": [{\"colorbar\": {\"outlinewidth\": 0, \"ticks\": \"\"}, \"type\": \"mesh3d\"}], \"parcoords\": [{\"line\": {\"colorbar\": {\"outlinewidth\": 0, \"ticks\": \"\"}}, \"type\": \"parcoords\"}], \"pie\": [{\"automargin\": true, \"type\": \"pie\"}], \"scatter\": [{\"marker\": {\"colorbar\": {\"outlinewidth\": 0, \"ticks\": \"\"}}, \"type\": \"scatter\"}], \"scatter3d\": [{\"line\": {\"colorbar\": {\"outlinewidth\": 0, \"ticks\": \"\"}}, \"marker\": {\"colorbar\": {\"outlinewidth\": 0, \"ticks\": \"\"}}, \"type\": \"scatter3d\"}], \"scattercarpet\": [{\"marker\": {\"colorbar\": {\"outlinewidth\": 0, \"ticks\": \"\"}}, \"type\": \"scattercarpet\"}], \"scattergeo\": [{\"marker\": {\"colorbar\": {\"outlinewidth\": 0, \"ticks\": \"\"}}, \"type\": \"scattergeo\"}], \"scattergl\": [{\"marker\": {\"colorbar\": {\"outlinewidth\": 0, \"ticks\": \"\"}}, \"type\": \"scattergl\"}], \"scattermapbox\": [{\"marker\": {\"colorbar\": {\"outlinewidth\": 0, \"ticks\": \"\"}}, \"type\": \"scattermapbox\"}], \"scatterpolar\": [{\"marker\": {\"colorbar\": {\"outlinewidth\": 0, \"ticks\": \"\"}}, \"type\": \"scatterpolar\"}], \"scatterpolargl\": [{\"marker\": {\"colorbar\": {\"outlinewidth\": 0, \"ticks\": \"\"}}, \"type\": \"scatterpolargl\"}], \"scatterternary\": [{\"marker\": {\"colorbar\": {\"outlinewidth\": 0, \"ticks\": \"\"}}, \"type\": \"scatterternary\"}], \"surface\": [{\"colorbar\": {\"outlinewidth\": 0, \"ticks\": \"\"}, \"colorscale\": [[0.0, \"#0d0887\"], [0.1111111111111111, \"#46039f\"], [0.2222222222222222, \"#7201a8\"], [0.3333333333333333, \"#9c179e\"], [0.4444444444444444, \"#bd3786\"], [0.5555555555555556, \"#d8576b\"], [0.6666666666666666, \"#ed7953\"], [0.7777777777777778, \"#fb9f3a\"], [0.8888888888888888, \"#fdca26\"], [1.0, \"#f0f921\"]], \"type\": \"surface\"}], \"table\": [{\"cells\": {\"fill\": {\"color\": \"#EBF0F8\"}, \"line\": {\"color\": \"white\"}}, \"header\": {\"fill\": {\"color\": \"#C8D4E3\"}, \"line\": {\"color\": \"white\"}}, \"type\": \"table\"}]}, \"layout\": {\"annotationdefaults\": {\"arrowcolor\": \"#2a3f5f\", \"arrowhead\": 0, \"arrowwidth\": 1}, \"autotypenumbers\": \"strict\", \"coloraxis\": {\"colorbar\": {\"outlinewidth\": 0, \"ticks\": \"\"}}, \"colorscale\": {\"diverging\": [[0, \"#8e0152\"], [0.1, \"#c51b7d\"], [0.2, \"#de77ae\"], [0.3, \"#f1b6da\"], [0.4, \"#fde0ef\"], [0.5, \"#f7f7f7\"], [0.6, \"#e6f5d0\"], [0.7, \"#b8e186\"], [0.8, \"#7fbc41\"], [0.9, \"#4d9221\"], [1, \"#276419\"]], \"sequential\": [[0.0, \"#0d0887\"], [0.1111111111111111, \"#46039f\"], [0.2222222222222222, \"#7201a8\"], [0.3333333333333333, \"#9c179e\"], [0.4444444444444444, \"#bd3786\"], [0.5555555555555556, \"#d8576b\"], [0.6666666666666666, \"#ed7953\"], [0.7777777777777778, \"#fb9f3a\"], [0.8888888888888888, \"#fdca26\"], [1.0, \"#f0f921\"]], \"sequentialminus\": [[0.0, \"#0d0887\"], [0.1111111111111111, \"#46039f\"], [0.2222222222222222, \"#7201a8\"], [0.3333333333333333, \"#9c179e\"], [0.4444444444444444, \"#bd3786\"], [0.5555555555555556, \"#d8576b\"], [0.6666666666666666, \"#ed7953\"], [0.7777777777777778, \"#fb9f3a\"], [0.8888888888888888, \"#fdca26\"], [1.0, \"#f0f921\"]]}, \"colorway\": [\"#636efa\", \"#EF553B\", \"#00cc96\", \"#ab63fa\", \"#FFA15A\", \"#19d3f3\", \"#FF6692\", \"#B6E880\", \"#FF97FF\", \"#FECB52\"], \"font\": {\"color\": \"#2a3f5f\"}, \"geo\": {\"bgcolor\": \"white\", \"lakecolor\": \"white\", \"landcolor\": \"#E5ECF6\", \"showlakes\": true, \"showland\": true, \"subunitcolor\": \"white\"}, \"hoverlabel\": {\"align\": \"left\"}, \"hovermode\": \"closest\", \"mapbox\": {\"style\": \"light\"}, \"paper_bgcolor\": \"white\", \"plot_bgcolor\": \"#E5ECF6\", \"polar\": {\"angularaxis\": {\"gridcolor\": \"white\", \"linecolor\": \"white\", \"ticks\": \"\"}, \"bgcolor\": \"#E5ECF6\", \"radialaxis\": {\"gridcolor\": \"white\", \"linecolor\": \"white\", \"ticks\": \"\"}}, \"scene\": {\"xaxis\": {\"backgroundcolor\": \"#E5ECF6\", \"gridcolor\": \"white\", \"gridwidth\": 2, \"linecolor\": \"white\", \"showbackground\": true, \"ticks\": \"\", \"zerolinecolor\": \"white\"}, \"yaxis\": {\"backgroundcolor\": \"#E5ECF6\", \"gridcolor\": \"white\", \"gridwidth\": 2, \"linecolor\": \"white\", \"showbackground\": true, \"ticks\": \"\", \"zerolinecolor\": \"white\"}, \"zaxis\": {\"backgroundcolor\": \"#E5ECF6\", \"gridcolor\": \"white\", \"gridwidth\": 2, \"linecolor\": \"white\", \"showbackground\": true, \"ticks\": \"\", \"zerolinecolor\": \"white\"}}, \"shapedefaults\": {\"line\": {\"color\": \"#2a3f5f\"}}, \"ternary\": {\"aaxis\": {\"gridcolor\": \"white\", \"linecolor\": \"white\", \"ticks\": \"\"}, \"baxis\": {\"gridcolor\": \"white\", \"linecolor\": \"white\", \"ticks\": \"\"}, \"bgcolor\": \"#E5ECF6\", \"caxis\": {\"gridcolor\": \"white\", \"linecolor\": \"white\", \"ticks\": \"\"}}, \"title\": {\"x\": 0.05}, \"xaxis\": {\"automargin\": true, \"gridcolor\": \"white\", \"linecolor\": \"white\", \"ticks\": \"\", \"title\": {\"standoff\": 15}, \"zerolinecolor\": \"white\", \"zerolinewidth\": 2}, \"yaxis\": {\"automargin\": true, \"gridcolor\": \"white\", \"linecolor\": \"white\", \"ticks\": \"\", \"title\": {\"standoff\": 15}, \"zerolinecolor\": \"white\", \"zerolinewidth\": 2}}}, \"title\": {\"text\": \"Overall Rating For The University of Lincoln Over Time\", \"x\": 0.5}, \"xaxis\": {\"anchor\": \"y\", \"domain\": [0.0, 1.0], \"title\": {\"text\": \"Date (years)\"}}, \"yaxis\": {\"anchor\": \"x\", \"domain\": [0.0, 1.0], \"title\": {\"text\": \"Overall Rating (1-5)\"}}},                        {\"responsive\": true}                    ).then(function(){\n",
       "                            \n",
       "var gd = document.getElementById('8b5405f4-dd7f-418d-b815-7825df79898c');\n",
       "var x = new MutationObserver(function (mutations, observer) {{\n",
       "        var display = window.getComputedStyle(gd).display;\n",
       "        if (!display || display === 'none') {{\n",
       "            console.log([gd, 'removed!']);\n",
       "            Plotly.purge(gd);\n",
       "            observer.disconnect();\n",
       "        }}\n",
       "}});\n",
       "\n",
       "// Listen for the removal of the full notebook cells\n",
       "var notebookContainer = gd.closest('#notebook-container');\n",
       "if (notebookContainer) {{\n",
       "    x.observe(notebookContainer, {childList: true});\n",
       "}}\n",
       "\n",
       "// Listen for the clearing of the current output cell\n",
       "var outputEl = gd.closest('.output');\n",
       "if (outputEl) {{\n",
       "    x.observe(outputEl, {childList: true});\n",
       "}}\n",
       "\n",
       "                        })                };                });            </script>        </div>"
      ]
     },
     "metadata": {},
     "output_type": "display_data"
    }
   ],
   "source": [
    "# Plot to find overall rating for the university of Lincoln over time\n",
    "fig1 = px.scatter(df, x='date', y=\"overall_rating\",\n",
    "                 color = \"overall_rating\", trendline=\"ols\",\n",
    "                 labels={\n",
    "                     \"overall_rating\": \"Overall Rating (1-5)\",\n",
    "                     \"date\": \"Date (years)\"},\n",
    "                 color_continuous_scale=px.colors.sequential.Plotly3)\n",
    "\n",
    "fig1.layout.coloraxis.colorbar.title = 'Overall<br>Rating<br>'\n",
    "fig1.update_layout(title_text='Overall Rating For The University of Lincoln Over Time', title_x=0.5)\n",
    "\n",
    "fig1.show()"
   ]
  },
  {
   "cell_type": "code",
   "execution_count": 14,
   "metadata": {},
   "outputs": [
    {
     "data": {
      "application/vnd.plotly.v1+json": {
       "config": {
        "plotlyServerURL": "https://plotly.com"
       },
       "data": [
        {
         "alignmentgroup": "True",
         "hovertemplate": "Category=%{x}<br>value=%{y}<extra></extra>",
         "legendgroup": "job prospects rating",
         "marker": {
          "color": "#636efa"
         },
         "name": "job prospects rating",
         "offsetgroup": "job prospects rating",
         "orientation": "v",
         "showlegend": true,
         "textposition": "auto",
         "type": "bar",
         "x": [
          "job prospects rating"
         ],
         "xaxis": "x",
         "y": [
          4.023611111111111
         ],
         "yaxis": "y"
        },
        {
         "alignmentgroup": "True",
         "hovertemplate": "Category=%{x}<br>value=%{y}<extra></extra>",
         "legendgroup": "course lecturer rating",
         "marker": {
          "color": "#EF553B"
         },
         "name": "course lecturer rating",
         "offsetgroup": "course lecturer rating",
         "orientation": "v",
         "showlegend": true,
         "textposition": "auto",
         "type": "bar",
         "x": [
          "course lecturer rating"
         ],
         "xaxis": "x",
         "y": [
          3.9694444444444446
         ],
         "yaxis": "y"
        },
        {
         "alignmentgroup": "True",
         "hovertemplate": "Category=%{x}<br>value=%{y}<extra></extra>",
         "legendgroup": "facilities rating",
         "marker": {
          "color": "#00cc96"
         },
         "name": "facilities rating",
         "offsetgroup": "facilities rating",
         "orientation": "v",
         "showlegend": true,
         "textposition": "auto",
         "type": "bar",
         "x": [
          "facilities rating"
         ],
         "xaxis": "x",
         "y": [
          4.209722222222222
         ],
         "yaxis": "y"
        },
        {
         "alignmentgroup": "True",
         "hovertemplate": "Category=%{x}<br>value=%{y}<extra></extra>",
         "legendgroup": "student support rating",
         "marker": {
          "color": "#ab63fa"
         },
         "name": "student support rating",
         "offsetgroup": "student support rating",
         "orientation": "v",
         "showlegend": true,
         "textposition": "auto",
         "type": "bar",
         "x": [
          "student support rating"
         ],
         "xaxis": "x",
         "y": [
          3.966666666666667
         ],
         "yaxis": "y"
        },
        {
         "alignmentgroup": "True",
         "hovertemplate": "Category=%{x}<br>value=%{y}<extra></extra>",
         "legendgroup": "local life rating",
         "marker": {
          "color": "#FFA15A"
         },
         "name": "local life rating",
         "offsetgroup": "local life rating",
         "orientation": "v",
         "showlegend": true,
         "textposition": "auto",
         "type": "bar",
         "x": [
          "local life rating"
         ],
         "xaxis": "x",
         "y": [
          4.179166666666666
         ],
         "yaxis": "y"
        }
       ],
       "layout": {
        "barmode": "relative",
        "legend": {
         "title": {
          "text": "Category"
         },
         "tracegroupgap": 0
        },
        "margin": {
         "t": 60
        },
        "template": {
         "data": {
          "bar": [
           {
            "error_x": {
             "color": "#2a3f5f"
            },
            "error_y": {
             "color": "#2a3f5f"
            },
            "marker": {
             "line": {
              "color": "#E5ECF6",
              "width": 0.5
             }
            },
            "type": "bar"
           }
          ],
          "barpolar": [
           {
            "marker": {
             "line": {
              "color": "#E5ECF6",
              "width": 0.5
             }
            },
            "type": "barpolar"
           }
          ],
          "carpet": [
           {
            "aaxis": {
             "endlinecolor": "#2a3f5f",
             "gridcolor": "white",
             "linecolor": "white",
             "minorgridcolor": "white",
             "startlinecolor": "#2a3f5f"
            },
            "baxis": {
             "endlinecolor": "#2a3f5f",
             "gridcolor": "white",
             "linecolor": "white",
             "minorgridcolor": "white",
             "startlinecolor": "#2a3f5f"
            },
            "type": "carpet"
           }
          ],
          "choropleth": [
           {
            "colorbar": {
             "outlinewidth": 0,
             "ticks": ""
            },
            "type": "choropleth"
           }
          ],
          "contour": [
           {
            "colorbar": {
             "outlinewidth": 0,
             "ticks": ""
            },
            "colorscale": [
             [
              0,
              "#0d0887"
             ],
             [
              0.1111111111111111,
              "#46039f"
             ],
             [
              0.2222222222222222,
              "#7201a8"
             ],
             [
              0.3333333333333333,
              "#9c179e"
             ],
             [
              0.4444444444444444,
              "#bd3786"
             ],
             [
              0.5555555555555556,
              "#d8576b"
             ],
             [
              0.6666666666666666,
              "#ed7953"
             ],
             [
              0.7777777777777778,
              "#fb9f3a"
             ],
             [
              0.8888888888888888,
              "#fdca26"
             ],
             [
              1,
              "#f0f921"
             ]
            ],
            "type": "contour"
           }
          ],
          "contourcarpet": [
           {
            "colorbar": {
             "outlinewidth": 0,
             "ticks": ""
            },
            "type": "contourcarpet"
           }
          ],
          "heatmap": [
           {
            "colorbar": {
             "outlinewidth": 0,
             "ticks": ""
            },
            "colorscale": [
             [
              0,
              "#0d0887"
             ],
             [
              0.1111111111111111,
              "#46039f"
             ],
             [
              0.2222222222222222,
              "#7201a8"
             ],
             [
              0.3333333333333333,
              "#9c179e"
             ],
             [
              0.4444444444444444,
              "#bd3786"
             ],
             [
              0.5555555555555556,
              "#d8576b"
             ],
             [
              0.6666666666666666,
              "#ed7953"
             ],
             [
              0.7777777777777778,
              "#fb9f3a"
             ],
             [
              0.8888888888888888,
              "#fdca26"
             ],
             [
              1,
              "#f0f921"
             ]
            ],
            "type": "heatmap"
           }
          ],
          "heatmapgl": [
           {
            "colorbar": {
             "outlinewidth": 0,
             "ticks": ""
            },
            "colorscale": [
             [
              0,
              "#0d0887"
             ],
             [
              0.1111111111111111,
              "#46039f"
             ],
             [
              0.2222222222222222,
              "#7201a8"
             ],
             [
              0.3333333333333333,
              "#9c179e"
             ],
             [
              0.4444444444444444,
              "#bd3786"
             ],
             [
              0.5555555555555556,
              "#d8576b"
             ],
             [
              0.6666666666666666,
              "#ed7953"
             ],
             [
              0.7777777777777778,
              "#fb9f3a"
             ],
             [
              0.8888888888888888,
              "#fdca26"
             ],
             [
              1,
              "#f0f921"
             ]
            ],
            "type": "heatmapgl"
           }
          ],
          "histogram": [
           {
            "marker": {
             "colorbar": {
              "outlinewidth": 0,
              "ticks": ""
             }
            },
            "type": "histogram"
           }
          ],
          "histogram2d": [
           {
            "colorbar": {
             "outlinewidth": 0,
             "ticks": ""
            },
            "colorscale": [
             [
              0,
              "#0d0887"
             ],
             [
              0.1111111111111111,
              "#46039f"
             ],
             [
              0.2222222222222222,
              "#7201a8"
             ],
             [
              0.3333333333333333,
              "#9c179e"
             ],
             [
              0.4444444444444444,
              "#bd3786"
             ],
             [
              0.5555555555555556,
              "#d8576b"
             ],
             [
              0.6666666666666666,
              "#ed7953"
             ],
             [
              0.7777777777777778,
              "#fb9f3a"
             ],
             [
              0.8888888888888888,
              "#fdca26"
             ],
             [
              1,
              "#f0f921"
             ]
            ],
            "type": "histogram2d"
           }
          ],
          "histogram2dcontour": [
           {
            "colorbar": {
             "outlinewidth": 0,
             "ticks": ""
            },
            "colorscale": [
             [
              0,
              "#0d0887"
             ],
             [
              0.1111111111111111,
              "#46039f"
             ],
             [
              0.2222222222222222,
              "#7201a8"
             ],
             [
              0.3333333333333333,
              "#9c179e"
             ],
             [
              0.4444444444444444,
              "#bd3786"
             ],
             [
              0.5555555555555556,
              "#d8576b"
             ],
             [
              0.6666666666666666,
              "#ed7953"
             ],
             [
              0.7777777777777778,
              "#fb9f3a"
             ],
             [
              0.8888888888888888,
              "#fdca26"
             ],
             [
              1,
              "#f0f921"
             ]
            ],
            "type": "histogram2dcontour"
           }
          ],
          "mesh3d": [
           {
            "colorbar": {
             "outlinewidth": 0,
             "ticks": ""
            },
            "type": "mesh3d"
           }
          ],
          "parcoords": [
           {
            "line": {
             "colorbar": {
              "outlinewidth": 0,
              "ticks": ""
             }
            },
            "type": "parcoords"
           }
          ],
          "pie": [
           {
            "automargin": true,
            "type": "pie"
           }
          ],
          "scatter": [
           {
            "marker": {
             "colorbar": {
              "outlinewidth": 0,
              "ticks": ""
             }
            },
            "type": "scatter"
           }
          ],
          "scatter3d": [
           {
            "line": {
             "colorbar": {
              "outlinewidth": 0,
              "ticks": ""
             }
            },
            "marker": {
             "colorbar": {
              "outlinewidth": 0,
              "ticks": ""
             }
            },
            "type": "scatter3d"
           }
          ],
          "scattercarpet": [
           {
            "marker": {
             "colorbar": {
              "outlinewidth": 0,
              "ticks": ""
             }
            },
            "type": "scattercarpet"
           }
          ],
          "scattergeo": [
           {
            "marker": {
             "colorbar": {
              "outlinewidth": 0,
              "ticks": ""
             }
            },
            "type": "scattergeo"
           }
          ],
          "scattergl": [
           {
            "marker": {
             "colorbar": {
              "outlinewidth": 0,
              "ticks": ""
             }
            },
            "type": "scattergl"
           }
          ],
          "scattermapbox": [
           {
            "marker": {
             "colorbar": {
              "outlinewidth": 0,
              "ticks": ""
             }
            },
            "type": "scattermapbox"
           }
          ],
          "scatterpolar": [
           {
            "marker": {
             "colorbar": {
              "outlinewidth": 0,
              "ticks": ""
             }
            },
            "type": "scatterpolar"
           }
          ],
          "scatterpolargl": [
           {
            "marker": {
             "colorbar": {
              "outlinewidth": 0,
              "ticks": ""
             }
            },
            "type": "scatterpolargl"
           }
          ],
          "scatterternary": [
           {
            "marker": {
             "colorbar": {
              "outlinewidth": 0,
              "ticks": ""
             }
            },
            "type": "scatterternary"
           }
          ],
          "surface": [
           {
            "colorbar": {
             "outlinewidth": 0,
             "ticks": ""
            },
            "colorscale": [
             [
              0,
              "#0d0887"
             ],
             [
              0.1111111111111111,
              "#46039f"
             ],
             [
              0.2222222222222222,
              "#7201a8"
             ],
             [
              0.3333333333333333,
              "#9c179e"
             ],
             [
              0.4444444444444444,
              "#bd3786"
             ],
             [
              0.5555555555555556,
              "#d8576b"
             ],
             [
              0.6666666666666666,
              "#ed7953"
             ],
             [
              0.7777777777777778,
              "#fb9f3a"
             ],
             [
              0.8888888888888888,
              "#fdca26"
             ],
             [
              1,
              "#f0f921"
             ]
            ],
            "type": "surface"
           }
          ],
          "table": [
           {
            "cells": {
             "fill": {
              "color": "#EBF0F8"
             },
             "line": {
              "color": "white"
             }
            },
            "header": {
             "fill": {
              "color": "#C8D4E3"
             },
             "line": {
              "color": "white"
             }
            },
            "type": "table"
           }
          ]
         },
         "layout": {
          "annotationdefaults": {
           "arrowcolor": "#2a3f5f",
           "arrowhead": 0,
           "arrowwidth": 1
          },
          "autotypenumbers": "strict",
          "coloraxis": {
           "colorbar": {
            "outlinewidth": 0,
            "ticks": ""
           }
          },
          "colorscale": {
           "diverging": [
            [
             0,
             "#8e0152"
            ],
            [
             0.1,
             "#c51b7d"
            ],
            [
             0.2,
             "#de77ae"
            ],
            [
             0.3,
             "#f1b6da"
            ],
            [
             0.4,
             "#fde0ef"
            ],
            [
             0.5,
             "#f7f7f7"
            ],
            [
             0.6,
             "#e6f5d0"
            ],
            [
             0.7,
             "#b8e186"
            ],
            [
             0.8,
             "#7fbc41"
            ],
            [
             0.9,
             "#4d9221"
            ],
            [
             1,
             "#276419"
            ]
           ],
           "sequential": [
            [
             0,
             "#0d0887"
            ],
            [
             0.1111111111111111,
             "#46039f"
            ],
            [
             0.2222222222222222,
             "#7201a8"
            ],
            [
             0.3333333333333333,
             "#9c179e"
            ],
            [
             0.4444444444444444,
             "#bd3786"
            ],
            [
             0.5555555555555556,
             "#d8576b"
            ],
            [
             0.6666666666666666,
             "#ed7953"
            ],
            [
             0.7777777777777778,
             "#fb9f3a"
            ],
            [
             0.8888888888888888,
             "#fdca26"
            ],
            [
             1,
             "#f0f921"
            ]
           ],
           "sequentialminus": [
            [
             0,
             "#0d0887"
            ],
            [
             0.1111111111111111,
             "#46039f"
            ],
            [
             0.2222222222222222,
             "#7201a8"
            ],
            [
             0.3333333333333333,
             "#9c179e"
            ],
            [
             0.4444444444444444,
             "#bd3786"
            ],
            [
             0.5555555555555556,
             "#d8576b"
            ],
            [
             0.6666666666666666,
             "#ed7953"
            ],
            [
             0.7777777777777778,
             "#fb9f3a"
            ],
            [
             0.8888888888888888,
             "#fdca26"
            ],
            [
             1,
             "#f0f921"
            ]
           ]
          },
          "colorway": [
           "#636efa",
           "#EF553B",
           "#00cc96",
           "#ab63fa",
           "#FFA15A",
           "#19d3f3",
           "#FF6692",
           "#B6E880",
           "#FF97FF",
           "#FECB52"
          ],
          "font": {
           "color": "#2a3f5f"
          },
          "geo": {
           "bgcolor": "white",
           "lakecolor": "white",
           "landcolor": "#E5ECF6",
           "showlakes": true,
           "showland": true,
           "subunitcolor": "white"
          },
          "hoverlabel": {
           "align": "left"
          },
          "hovermode": "closest",
          "mapbox": {
           "style": "light"
          },
          "paper_bgcolor": "white",
          "plot_bgcolor": "#E5ECF6",
          "polar": {
           "angularaxis": {
            "gridcolor": "white",
            "linecolor": "white",
            "ticks": ""
           },
           "bgcolor": "#E5ECF6",
           "radialaxis": {
            "gridcolor": "white",
            "linecolor": "white",
            "ticks": ""
           }
          },
          "scene": {
           "xaxis": {
            "backgroundcolor": "#E5ECF6",
            "gridcolor": "white",
            "gridwidth": 2,
            "linecolor": "white",
            "showbackground": true,
            "ticks": "",
            "zerolinecolor": "white"
           },
           "yaxis": {
            "backgroundcolor": "#E5ECF6",
            "gridcolor": "white",
            "gridwidth": 2,
            "linecolor": "white",
            "showbackground": true,
            "ticks": "",
            "zerolinecolor": "white"
           },
           "zaxis": {
            "backgroundcolor": "#E5ECF6",
            "gridcolor": "white",
            "gridwidth": 2,
            "linecolor": "white",
            "showbackground": true,
            "ticks": "",
            "zerolinecolor": "white"
           }
          },
          "shapedefaults": {
           "line": {
            "color": "#2a3f5f"
           }
          },
          "ternary": {
           "aaxis": {
            "gridcolor": "white",
            "linecolor": "white",
            "ticks": ""
           },
           "baxis": {
            "gridcolor": "white",
            "linecolor": "white",
            "ticks": ""
           },
           "bgcolor": "#E5ECF6",
           "caxis": {
            "gridcolor": "white",
            "linecolor": "white",
            "ticks": ""
           }
          },
          "title": {
           "x": 0.05
          },
          "xaxis": {
           "automargin": true,
           "gridcolor": "white",
           "linecolor": "white",
           "ticks": "",
           "title": {
            "standoff": 15
           },
           "zerolinecolor": "white",
           "zerolinewidth": 2
          },
          "yaxis": {
           "automargin": true,
           "gridcolor": "white",
           "linecolor": "white",
           "ticks": "",
           "title": {
            "standoff": 15
           },
           "zerolinecolor": "white",
           "zerolinewidth": 2
          }
         }
        },
        "title": {
         "text": "Mean Rating For Different Student Categories At The University of Lincoln",
         "x": 0.5
        },
        "xaxis": {
         "anchor": "y",
         "categoryarray": [
          "job prospects rating",
          "course lecturer rating",
          "facilities rating",
          "student support rating",
          "local life rating"
         ],
         "categoryorder": "array",
         "domain": [
          0,
          1
         ],
         "title": {
          "text": "Category"
         }
        },
        "yaxis": {
         "anchor": "x",
         "domain": [
          0,
          1
         ],
         "title": {
          "text": "Mean rating (1-5)"
         }
        }
       }
      },
      "text/html": [
       "<div>                            <div id=\"063eb823-6b16-43ed-8300-3d0868d2be03\" class=\"plotly-graph-div\" style=\"height:525px; width:100%;\"></div>            <script type=\"text/javascript\">                require([\"plotly\"], function(Plotly) {                    window.PLOTLYENV=window.PLOTLYENV || {};                                    if (document.getElementById(\"063eb823-6b16-43ed-8300-3d0868d2be03\")) {                    Plotly.newPlot(                        \"063eb823-6b16-43ed-8300-3d0868d2be03\",                        [{\"alignmentgroup\": \"True\", \"hovertemplate\": \"Category=%{x}<br>value=%{y}<extra></extra>\", \"legendgroup\": \"job prospects rating\", \"marker\": {\"color\": \"#636efa\"}, \"name\": \"job prospects rating\", \"offsetgroup\": \"job prospects rating\", \"orientation\": \"v\", \"showlegend\": true, \"textposition\": \"auto\", \"type\": \"bar\", \"x\": [\"job prospects rating\"], \"xaxis\": \"x\", \"y\": [4.023611111111111], \"yaxis\": \"y\"}, {\"alignmentgroup\": \"True\", \"hovertemplate\": \"Category=%{x}<br>value=%{y}<extra></extra>\", \"legendgroup\": \"course lecturer rating\", \"marker\": {\"color\": \"#EF553B\"}, \"name\": \"course lecturer rating\", \"offsetgroup\": \"course lecturer rating\", \"orientation\": \"v\", \"showlegend\": true, \"textposition\": \"auto\", \"type\": \"bar\", \"x\": [\"course lecturer rating\"], \"xaxis\": \"x\", \"y\": [3.9694444444444446], \"yaxis\": \"y\"}, {\"alignmentgroup\": \"True\", \"hovertemplate\": \"Category=%{x}<br>value=%{y}<extra></extra>\", \"legendgroup\": \"facilities rating\", \"marker\": {\"color\": \"#00cc96\"}, \"name\": \"facilities rating\", \"offsetgroup\": \"facilities rating\", \"orientation\": \"v\", \"showlegend\": true, \"textposition\": \"auto\", \"type\": \"bar\", \"x\": [\"facilities rating\"], \"xaxis\": \"x\", \"y\": [4.209722222222222], \"yaxis\": \"y\"}, {\"alignmentgroup\": \"True\", \"hovertemplate\": \"Category=%{x}<br>value=%{y}<extra></extra>\", \"legendgroup\": \"student support rating\", \"marker\": {\"color\": \"#ab63fa\"}, \"name\": \"student support rating\", \"offsetgroup\": \"student support rating\", \"orientation\": \"v\", \"showlegend\": true, \"textposition\": \"auto\", \"type\": \"bar\", \"x\": [\"student support rating\"], \"xaxis\": \"x\", \"y\": [3.966666666666667], \"yaxis\": \"y\"}, {\"alignmentgroup\": \"True\", \"hovertemplate\": \"Category=%{x}<br>value=%{y}<extra></extra>\", \"legendgroup\": \"local life rating\", \"marker\": {\"color\": \"#FFA15A\"}, \"name\": \"local life rating\", \"offsetgroup\": \"local life rating\", \"orientation\": \"v\", \"showlegend\": true, \"textposition\": \"auto\", \"type\": \"bar\", \"x\": [\"local life rating\"], \"xaxis\": \"x\", \"y\": [4.179166666666666], \"yaxis\": \"y\"}],                        {\"barmode\": \"relative\", \"legend\": {\"title\": {\"text\": \"Category\"}, \"tracegroupgap\": 0}, \"margin\": {\"t\": 60}, \"template\": {\"data\": {\"bar\": [{\"error_x\": {\"color\": \"#2a3f5f\"}, \"error_y\": {\"color\": \"#2a3f5f\"}, \"marker\": {\"line\": {\"color\": \"#E5ECF6\", \"width\": 0.5}}, \"type\": \"bar\"}], \"barpolar\": [{\"marker\": {\"line\": {\"color\": \"#E5ECF6\", \"width\": 0.5}}, \"type\": \"barpolar\"}], \"carpet\": [{\"aaxis\": {\"endlinecolor\": \"#2a3f5f\", \"gridcolor\": \"white\", \"linecolor\": \"white\", \"minorgridcolor\": \"white\", \"startlinecolor\": \"#2a3f5f\"}, \"baxis\": {\"endlinecolor\": \"#2a3f5f\", \"gridcolor\": \"white\", \"linecolor\": \"white\", \"minorgridcolor\": \"white\", \"startlinecolor\": \"#2a3f5f\"}, \"type\": \"carpet\"}], \"choropleth\": [{\"colorbar\": {\"outlinewidth\": 0, \"ticks\": \"\"}, \"type\": \"choropleth\"}], \"contour\": [{\"colorbar\": {\"outlinewidth\": 0, \"ticks\": \"\"}, \"colorscale\": [[0.0, \"#0d0887\"], [0.1111111111111111, \"#46039f\"], [0.2222222222222222, \"#7201a8\"], [0.3333333333333333, \"#9c179e\"], [0.4444444444444444, \"#bd3786\"], [0.5555555555555556, \"#d8576b\"], [0.6666666666666666, \"#ed7953\"], [0.7777777777777778, \"#fb9f3a\"], [0.8888888888888888, \"#fdca26\"], [1.0, \"#f0f921\"]], \"type\": \"contour\"}], \"contourcarpet\": [{\"colorbar\": {\"outlinewidth\": 0, \"ticks\": \"\"}, \"type\": \"contourcarpet\"}], \"heatmap\": [{\"colorbar\": {\"outlinewidth\": 0, \"ticks\": \"\"}, \"colorscale\": [[0.0, \"#0d0887\"], [0.1111111111111111, \"#46039f\"], [0.2222222222222222, \"#7201a8\"], [0.3333333333333333, \"#9c179e\"], [0.4444444444444444, \"#bd3786\"], [0.5555555555555556, \"#d8576b\"], [0.6666666666666666, \"#ed7953\"], [0.7777777777777778, \"#fb9f3a\"], [0.8888888888888888, \"#fdca26\"], [1.0, \"#f0f921\"]], \"type\": \"heatmap\"}], \"heatmapgl\": [{\"colorbar\": {\"outlinewidth\": 0, \"ticks\": \"\"}, \"colorscale\": [[0.0, \"#0d0887\"], [0.1111111111111111, \"#46039f\"], [0.2222222222222222, \"#7201a8\"], [0.3333333333333333, \"#9c179e\"], [0.4444444444444444, \"#bd3786\"], [0.5555555555555556, \"#d8576b\"], [0.6666666666666666, \"#ed7953\"], [0.7777777777777778, \"#fb9f3a\"], [0.8888888888888888, \"#fdca26\"], [1.0, \"#f0f921\"]], \"type\": \"heatmapgl\"}], \"histogram\": [{\"marker\": {\"colorbar\": {\"outlinewidth\": 0, \"ticks\": \"\"}}, \"type\": \"histogram\"}], \"histogram2d\": [{\"colorbar\": {\"outlinewidth\": 0, \"ticks\": \"\"}, \"colorscale\": [[0.0, \"#0d0887\"], [0.1111111111111111, \"#46039f\"], [0.2222222222222222, \"#7201a8\"], [0.3333333333333333, \"#9c179e\"], [0.4444444444444444, \"#bd3786\"], [0.5555555555555556, \"#d8576b\"], [0.6666666666666666, \"#ed7953\"], [0.7777777777777778, \"#fb9f3a\"], [0.8888888888888888, \"#fdca26\"], [1.0, \"#f0f921\"]], \"type\": \"histogram2d\"}], \"histogram2dcontour\": [{\"colorbar\": {\"outlinewidth\": 0, \"ticks\": \"\"}, \"colorscale\": [[0.0, \"#0d0887\"], [0.1111111111111111, \"#46039f\"], [0.2222222222222222, \"#7201a8\"], [0.3333333333333333, \"#9c179e\"], [0.4444444444444444, \"#bd3786\"], [0.5555555555555556, \"#d8576b\"], [0.6666666666666666, \"#ed7953\"], [0.7777777777777778, \"#fb9f3a\"], [0.8888888888888888, \"#fdca26\"], [1.0, \"#f0f921\"]], \"type\": \"histogram2dcontour\"}], \"mesh3d\": [{\"colorbar\": {\"outlinewidth\": 0, \"ticks\": \"\"}, \"type\": \"mesh3d\"}], \"parcoords\": [{\"line\": {\"colorbar\": {\"outlinewidth\": 0, \"ticks\": \"\"}}, \"type\": \"parcoords\"}], \"pie\": [{\"automargin\": true, \"type\": \"pie\"}], \"scatter\": [{\"marker\": {\"colorbar\": {\"outlinewidth\": 0, \"ticks\": \"\"}}, \"type\": \"scatter\"}], \"scatter3d\": [{\"line\": {\"colorbar\": {\"outlinewidth\": 0, \"ticks\": \"\"}}, \"marker\": {\"colorbar\": {\"outlinewidth\": 0, \"ticks\": \"\"}}, \"type\": \"scatter3d\"}], \"scattercarpet\": [{\"marker\": {\"colorbar\": {\"outlinewidth\": 0, \"ticks\": \"\"}}, \"type\": \"scattercarpet\"}], \"scattergeo\": [{\"marker\": {\"colorbar\": {\"outlinewidth\": 0, \"ticks\": \"\"}}, \"type\": \"scattergeo\"}], \"scattergl\": [{\"marker\": {\"colorbar\": {\"outlinewidth\": 0, \"ticks\": \"\"}}, \"type\": \"scattergl\"}], \"scattermapbox\": [{\"marker\": {\"colorbar\": {\"outlinewidth\": 0, \"ticks\": \"\"}}, \"type\": \"scattermapbox\"}], \"scatterpolar\": [{\"marker\": {\"colorbar\": {\"outlinewidth\": 0, \"ticks\": \"\"}}, \"type\": \"scatterpolar\"}], \"scatterpolargl\": [{\"marker\": {\"colorbar\": {\"outlinewidth\": 0, \"ticks\": \"\"}}, \"type\": \"scatterpolargl\"}], \"scatterternary\": [{\"marker\": {\"colorbar\": {\"outlinewidth\": 0, \"ticks\": \"\"}}, \"type\": \"scatterternary\"}], \"surface\": [{\"colorbar\": {\"outlinewidth\": 0, \"ticks\": \"\"}, \"colorscale\": [[0.0, \"#0d0887\"], [0.1111111111111111, \"#46039f\"], [0.2222222222222222, \"#7201a8\"], [0.3333333333333333, \"#9c179e\"], [0.4444444444444444, \"#bd3786\"], [0.5555555555555556, \"#d8576b\"], [0.6666666666666666, \"#ed7953\"], [0.7777777777777778, \"#fb9f3a\"], [0.8888888888888888, \"#fdca26\"], [1.0, \"#f0f921\"]], \"type\": \"surface\"}], \"table\": [{\"cells\": {\"fill\": {\"color\": \"#EBF0F8\"}, \"line\": {\"color\": \"white\"}}, \"header\": {\"fill\": {\"color\": \"#C8D4E3\"}, \"line\": {\"color\": \"white\"}}, \"type\": \"table\"}]}, \"layout\": {\"annotationdefaults\": {\"arrowcolor\": \"#2a3f5f\", \"arrowhead\": 0, \"arrowwidth\": 1}, \"autotypenumbers\": \"strict\", \"coloraxis\": {\"colorbar\": {\"outlinewidth\": 0, \"ticks\": \"\"}}, \"colorscale\": {\"diverging\": [[0, \"#8e0152\"], [0.1, \"#c51b7d\"], [0.2, \"#de77ae\"], [0.3, \"#f1b6da\"], [0.4, \"#fde0ef\"], [0.5, \"#f7f7f7\"], [0.6, \"#e6f5d0\"], [0.7, \"#b8e186\"], [0.8, \"#7fbc41\"], [0.9, \"#4d9221\"], [1, \"#276419\"]], \"sequential\": [[0.0, \"#0d0887\"], [0.1111111111111111, \"#46039f\"], [0.2222222222222222, \"#7201a8\"], [0.3333333333333333, \"#9c179e\"], [0.4444444444444444, \"#bd3786\"], [0.5555555555555556, \"#d8576b\"], [0.6666666666666666, \"#ed7953\"], [0.7777777777777778, \"#fb9f3a\"], [0.8888888888888888, \"#fdca26\"], [1.0, \"#f0f921\"]], \"sequentialminus\": [[0.0, \"#0d0887\"], [0.1111111111111111, \"#46039f\"], [0.2222222222222222, \"#7201a8\"], [0.3333333333333333, \"#9c179e\"], [0.4444444444444444, \"#bd3786\"], [0.5555555555555556, \"#d8576b\"], [0.6666666666666666, \"#ed7953\"], [0.7777777777777778, \"#fb9f3a\"], [0.8888888888888888, \"#fdca26\"], [1.0, \"#f0f921\"]]}, \"colorway\": [\"#636efa\", \"#EF553B\", \"#00cc96\", \"#ab63fa\", \"#FFA15A\", \"#19d3f3\", \"#FF6692\", \"#B6E880\", \"#FF97FF\", \"#FECB52\"], \"font\": {\"color\": \"#2a3f5f\"}, \"geo\": {\"bgcolor\": \"white\", \"lakecolor\": \"white\", \"landcolor\": \"#E5ECF6\", \"showlakes\": true, \"showland\": true, \"subunitcolor\": \"white\"}, \"hoverlabel\": {\"align\": \"left\"}, \"hovermode\": \"closest\", \"mapbox\": {\"style\": \"light\"}, \"paper_bgcolor\": \"white\", \"plot_bgcolor\": \"#E5ECF6\", \"polar\": {\"angularaxis\": {\"gridcolor\": \"white\", \"linecolor\": \"white\", \"ticks\": \"\"}, \"bgcolor\": \"#E5ECF6\", \"radialaxis\": {\"gridcolor\": \"white\", \"linecolor\": \"white\", \"ticks\": \"\"}}, \"scene\": {\"xaxis\": {\"backgroundcolor\": \"#E5ECF6\", \"gridcolor\": \"white\", \"gridwidth\": 2, \"linecolor\": \"white\", \"showbackground\": true, \"ticks\": \"\", \"zerolinecolor\": \"white\"}, \"yaxis\": {\"backgroundcolor\": \"#E5ECF6\", \"gridcolor\": \"white\", \"gridwidth\": 2, \"linecolor\": \"white\", \"showbackground\": true, \"ticks\": \"\", \"zerolinecolor\": \"white\"}, \"zaxis\": {\"backgroundcolor\": \"#E5ECF6\", \"gridcolor\": \"white\", \"gridwidth\": 2, \"linecolor\": \"white\", \"showbackground\": true, \"ticks\": \"\", \"zerolinecolor\": \"white\"}}, \"shapedefaults\": {\"line\": {\"color\": \"#2a3f5f\"}}, \"ternary\": {\"aaxis\": {\"gridcolor\": \"white\", \"linecolor\": \"white\", \"ticks\": \"\"}, \"baxis\": {\"gridcolor\": \"white\", \"linecolor\": \"white\", \"ticks\": \"\"}, \"bgcolor\": \"#E5ECF6\", \"caxis\": {\"gridcolor\": \"white\", \"linecolor\": \"white\", \"ticks\": \"\"}}, \"title\": {\"x\": 0.05}, \"xaxis\": {\"automargin\": true, \"gridcolor\": \"white\", \"linecolor\": \"white\", \"ticks\": \"\", \"title\": {\"standoff\": 15}, \"zerolinecolor\": \"white\", \"zerolinewidth\": 2}, \"yaxis\": {\"automargin\": true, \"gridcolor\": \"white\", \"linecolor\": \"white\", \"ticks\": \"\", \"title\": {\"standoff\": 15}, \"zerolinecolor\": \"white\", \"zerolinewidth\": 2}}}, \"title\": {\"text\": \"Mean Rating For Different Student Categories At The University of Lincoln\", \"x\": 0.5}, \"xaxis\": {\"anchor\": \"y\", \"categoryarray\": [\"job prospects rating\", \"course lecturer rating\", \"facilities rating\", \"student support rating\", \"local life rating\"], \"categoryorder\": \"array\", \"domain\": [0.0, 1.0], \"title\": {\"text\": \"Category\"}}, \"yaxis\": {\"anchor\": \"x\", \"domain\": [0.0, 1.0], \"title\": {\"text\": \"Mean rating (1-5)\"}}},                        {\"responsive\": true}                    ).then(function(){\n",
       "                            \n",
       "var gd = document.getElementById('063eb823-6b16-43ed-8300-3d0868d2be03');\n",
       "var x = new MutationObserver(function (mutations, observer) {{\n",
       "        var display = window.getComputedStyle(gd).display;\n",
       "        if (!display || display === 'none') {{\n",
       "            console.log([gd, 'removed!']);\n",
       "            Plotly.purge(gd);\n",
       "            observer.disconnect();\n",
       "        }}\n",
       "}});\n",
       "\n",
       "// Listen for the removal of the full notebook cells\n",
       "var notebookContainer = gd.closest('#notebook-container');\n",
       "if (notebookContainer) {{\n",
       "    x.observe(notebookContainer, {childList: true});\n",
       "}}\n",
       "\n",
       "// Listen for the clearing of the current output cell\n",
       "var outputEl = gd.closest('.output');\n",
       "if (outputEl) {{\n",
       "    x.observe(outputEl, {childList: true});\n",
       "}}\n",
       "\n",
       "                        })                };                });            </script>        </div>"
      ]
     },
     "metadata": {},
     "output_type": "display_data"
    }
   ],
   "source": [
    "# Plot to find mean rating for different categories\n",
    "\n",
    "# Update data frame names\n",
    "df_changed = df.rename(columns={'job_prospects_rating': 'job prospects rating',\n",
    "                   'course_lecturer_rating': 'course lecturer rating', 'facilities_rating':'facilities rating',\n",
    "                   'student_support_rating':'student support rating', 'local_life_rating':'local life rating'}, errors='raise')\n",
    "\n",
    "# Take columns we are interested in and stack them into column named 'category'\n",
    "# This will allow us to group by category and calculate mean rating\n",
    "dfm = pd.melt(df_changed, id_vars=[\"id\", \"course\", \"date\", \"overall_rating\", \"job_prospects_desc\", \"course_lecturer_desc\", \"facilities_desc\", \"student_support_desc\", \"local_life_desc\"],\n",
    "              value_vars=[\"job prospects rating\", \"course lecturer rating\", \"facilities rating\", \"student support rating\", \"local life rating\"],\n",
    "              var_name ='Category')\n",
    "\n",
    "# Group by category and calculate mean rating\n",
    "dfg = dfm.groupby(['Category']).mean().reset_index()\n",
    "\n",
    "# Plot a bar chart to show mean rating for different categories\n",
    "fig2 = px.bar(dfg, x = 'Category', y = 'value', color = 'Category',\n",
    "             category_orders = {'Category':['job prospects rating','course lecturer rating','facilities rating','student support rating','local life rating']})\n",
    "\n",
    "fig2.update_layout(title_text='Mean Rating For Different Student Categories At The University of Lincoln', title_x=0.5)\n",
    "\n",
    "fig2.update_yaxes(title = 'Mean rating (1-5)')\n",
    "fig2.show()"
   ]
  },
  {
   "cell_type": "code",
   "execution_count": 42,
   "metadata": {},
   "outputs": [
    {
     "data": {
      "application/vnd.plotly.v1+json": {
       "config": {
        "plotlyServerURL": "https://plotly.com"
       },
       "data": [
        {
         "customdata": [
          [
           10
          ],
          [
           9
          ],
          [
           14
          ],
          [
           2
          ],
          [
           1
          ],
          [
           1
          ],
          [
           2
          ],
          [
           3
          ],
          [
           7
          ],
          [
           1
          ],
          [
           8
          ],
          [
           1
          ],
          [
           1
          ],
          [
           6
          ],
          [
           1
          ],
          [
           2
          ],
          [
           2
          ],
          [
           1
          ],
          [
           11
          ],
          [
           18
          ],
          [
           1
          ],
          [
           2
          ],
          [
           3
          ],
          [
           1
          ],
          [
           1
          ],
          [
           1
          ],
          [
           2
          ],
          [
           2
          ],
          [
           3
          ],
          [
           19
          ],
          [
           1
          ],
          [
           1
          ],
          [
           2
          ],
          [
           1
          ],
          [
           31
          ],
          [
           1
          ],
          [
           1
          ],
          [
           5
          ],
          [
           4
          ],
          [
           1
          ],
          [
           2
          ],
          [
           8
          ],
          [
           2
          ],
          [
           4
          ],
          [
           2
          ],
          [
           1
          ],
          [
           1
          ],
          [
           2
          ],
          [
           6
          ],
          [
           7
          ],
          [
           2
          ],
          [
           4
          ],
          [
           6
          ],
          [
           7
          ],
          [
           3
          ],
          [
           5
          ],
          [
           3
          ],
          [
           4
          ],
          [
           12
          ],
          [
           6
          ],
          [
           3
          ],
          [
           2
          ],
          [
           3
          ],
          [
           9
          ],
          [
           2
          ],
          [
           25
          ],
          [
           15
          ],
          [
           8
          ],
          [
           3
          ],
          [
           7
          ],
          [
           7
          ],
          [
           8
          ],
          [
           2
          ],
          [
           1
          ],
          [
           1
          ],
          [
           1
          ],
          [
           24
          ],
          [
           6
          ],
          [
           1
          ],
          [
           1
          ],
          [
           2
          ],
          [
           2
          ],
          [
           1
          ],
          [
           1
          ],
          [
           1
          ],
          [
           1
          ],
          [
           3
          ],
          [
           1
          ],
          [
           2
          ],
          [
           1
          ],
          [
           8
          ],
          [
           3
          ],
          [
           1
          ],
          [
           7
          ],
          [
           1
          ],
          [
           3
          ],
          [
           2
          ],
          [
           1
          ],
          [
           4
          ],
          [
           3
          ],
          [
           4
          ],
          [
           1
          ],
          [
           2
          ],
          [
           11
          ],
          [
           1
          ],
          [
           1
          ],
          [
           6
          ],
          [
           1
          ],
          [
           8
          ],
          [
           10
          ],
          [
           4
          ],
          [
           1
          ],
          [
           1
          ],
          [
           1
          ],
          [
           1
          ],
          [
           1
          ],
          [
           4
          ],
          [
           6
          ],
          [
           1
          ],
          [
           5
          ],
          [
           39
          ],
          [
           1
          ],
          [
           1
          ],
          [
           3
          ],
          [
           32
          ],
          [
           1
          ],
          [
           6
          ],
          [
           3
          ],
          [
           1
          ],
          [
           1
          ],
          [
           1
          ],
          [
           7
          ],
          [
           5
          ],
          [
           1
          ],
          [
           4
          ],
          [
           5
          ],
          [
           2
          ],
          [
           47
          ],
          [
           8
          ],
          [
           10
          ],
          [
           1
          ],
          [
           6
          ],
          [
           2
          ],
          [
           4
          ],
          [
           7
          ],
          [
           1
          ],
          [
           3
          ]
         ],
         "hovertemplate": "Course: %{y}<br>Mean Overall Rating: %{x}<br>Num of Reviews: %{customdata}",
         "legendgroup": "",
         "marker": {
          "color": [
           4.5,
           3.7777777777777777,
           4.285714285714286,
           5,
           5,
           4,
           4,
           4.666666666666667,
           4.714285714285714,
           5,
           4.5,
           5,
           5,
           4.666666666666667,
           4,
           4,
           5,
           4,
           4.363636363636363,
           4.166666666666667,
           3,
           4,
           4,
           5,
           4,
           5,
           4.5,
           4.5,
           3.6666666666666665,
           4.368421052631579,
           5,
           5,
           5,
           4,
           4.193548387096774,
           4,
           5,
           4.2,
           4.75,
           3,
           4,
           4.25,
           5,
           4,
           5,
           4,
           4,
           3.5,
           4.166666666666667,
           3.4285714285714284,
           4.5,
           3.5,
           4,
           4.571428571428571,
           4.333333333333333,
           3.8,
           3.6666666666666665,
           3.75,
           4.5,
           3.6666666666666665,
           4.666666666666667,
           4,
           4,
           4.111111111111111,
           4.5,
           4.16,
           4.333333333333333,
           4.75,
           4.666666666666667,
           3.857142857142857,
           4,
           4.75,
           4,
           4,
           5,
           4,
           4.333333333333333,
           4.333333333333333,
           5,
           4,
           3,
           4,
           4,
           4,
           2,
           5,
           4.333333333333333,
           5,
           4.5,
           5,
           4.625,
           4.333333333333333,
           4,
           5,
           4,
           4,
           4.5,
           5,
           5,
           4.666666666666667,
           4.25,
           3,
           5,
           4.454545454545454,
           3,
           5,
           4.833333333333333,
           4,
           4.5,
           3.9,
           4.5,
           5,
           4,
           4,
           4,
           4,
           3.75,
           4.5,
           5,
           4.4,
           3.948717948717949,
           5,
           4,
           4.333333333333333,
           3.6875,
           2,
           3.3333333333333335,
           5,
           5,
           5,
           5,
           4.285714285714286,
           3.8,
           1,
           4.25,
           4,
           4,
           4.0638297872340425,
           3.875,
           3.9,
           4,
           4,
           3.5,
           4,
           4.571428571428571,
           5,
           3.3333333333333335
          ],
          "coloraxis": "coloraxis",
          "symbol": "circle"
         },
         "mode": "markers",
         "name": "",
         "orientation": "h",
         "showlegend": false,
         "type": "scatter",
         "x": [
          4.5,
          3.7777777777777777,
          4.285714285714286,
          5,
          5,
          4,
          4,
          4.666666666666667,
          4.714285714285714,
          5,
          4.5,
          5,
          5,
          4.666666666666667,
          4,
          4,
          5,
          4,
          4.363636363636363,
          4.166666666666667,
          3,
          4,
          4,
          5,
          4,
          5,
          4.5,
          4.5,
          3.6666666666666665,
          4.368421052631579,
          5,
          5,
          5,
          4,
          4.193548387096774,
          4,
          5,
          4.2,
          4.75,
          3,
          4,
          4.25,
          5,
          4,
          5,
          4,
          4,
          3.5,
          4.166666666666667,
          3.4285714285714284,
          4.5,
          3.5,
          4,
          4.571428571428571,
          4.333333333333333,
          3.8,
          3.6666666666666665,
          3.75,
          4.5,
          3.6666666666666665,
          4.666666666666667,
          4,
          4,
          4.111111111111111,
          4.5,
          4.16,
          4.333333333333333,
          4.75,
          4.666666666666667,
          3.857142857142857,
          4,
          4.75,
          4,
          4,
          5,
          4,
          4.333333333333333,
          4.333333333333333,
          5,
          4,
          3,
          4,
          4,
          4,
          2,
          5,
          4.333333333333333,
          5,
          4.5,
          5,
          4.625,
          4.333333333333333,
          4,
          5,
          4,
          4,
          4.5,
          5,
          5,
          4.666666666666667,
          4.25,
          3,
          5,
          4.454545454545454,
          3,
          5,
          4.833333333333333,
          4,
          4.5,
          3.9,
          4.5,
          5,
          4,
          4,
          4,
          4,
          3.75,
          4.5,
          5,
          4.4,
          3.948717948717949,
          5,
          4,
          4.333333333333333,
          3.6875,
          2,
          3.3333333333333335,
          5,
          5,
          5,
          5,
          4.285714285714286,
          3.8,
          1,
          4.25,
          4,
          4,
          4.0638297872340425,
          3.875,
          3.9,
          4,
          4,
          3.5,
          4,
          4.571428571428571,
          5,
          3.3333333333333335
         ],
         "xaxis": "x",
         "y": [
          "Accountancy and Finance BA (Hons)",
          "Advertising and Marketing BA (Hons)",
          "Animal Behaviour and Welfare BSc (Hons)",
          "Animation and Visual Effects BA (Hons)",
          "Applied Social Science BA (Hons)",
          "Architecture BArch",
          "Art History and History BA (Hons)",
          "Biochemistry BSc (Hons)",
          "Biology BSc (Hons)",
          "Biology with Science Foundation Year BSc (Hons)",
          "Biomedical Science BSc (Hons)",
          "Biomedical Science MBioSci",
          "Biomedical Science with Science Foundation Year BSc (Hons)",
          "Bioveterinary Science BSc (Hons)",
          "Bioveterinary Science MBioSci",
          "Business BA (Hons)",
          "Business Economics BA (Hons)",
          "Business Psychology BSc (Hons)",
          "Business and Finance BA (Hons)",
          "Business and Management BA (Hons)",
          "Business and Marketing BA (Hons)",
          "Chemistry BSc (Hons)",
          "Chemistry MChem",
          "Chemistry Mchem",
          "Chemistry for Drug Discovery and Development MChem (Hons)",
          "Chemistry for Drug Discovery and Development Mchem",
          "Chemistry with Science Foundation Year BSc (Hons)",
          "Classical Studies BA (Hons)",
          "Communications and Public Relations BA (Hons)",
          "Computer Science BSc (Hons)",
          "Computer Science MComp (Hons)",
          "Conservation of Cultural Heritage BA (Hons)",
          "Creative Advertising BA (Hons)",
          "Creative Writing BA (Hons)",
          "Criminology BA (Hons)",
          "Criminology and Criminal Justice MA",
          "Criminology and Social Policy BA (Hons)",
          "Criminology and Sociology BA (Hons)",
          "Dance BA (Hons)",
          "Design for Event, Exhibition and Performance with Arts Foundation Year BA (Hons)",
          "Drama and English BA (Hons)",
          "Drama and Theatre BA (Hons)",
          "Ecology and Conservation BSc (Hons)",
          "Economics BSc (Hons)",
          "Economics and Finance BSc (Hons)",
          "Education BA (Hons)",
          "Education and Psychology BSc (Hons)",
          "Electrical and Electronic Engineering BEng",
          "English BA (Hons)",
          "English and Creative Writing BA (Hons)",
          "English and History BA (Hons)",
          "English and Journalism BA (Hons)",
          "Events Management BSc (Hons)",
          "Film & Television Studies BA (Hons)",
          "Film Production BA (Hons)",
          "Fine Art BA (Hons)",
          "Forensic Chemistry BSc (Hons)",
          "Forensic Chemistry MChem",
          "Forensic Science BSc (Hons)",
          "Games Computing BSc (Hons)",
          "Geography BA (Hons)",
          "Geography BSc (Hons)",
          "Graduate Diploma Conservation Studies",
          "Graphic Design BA (Hons)",
          "Health and Social Care BSc (Hons)",
          "History BA (Hons)",
          "Illustration BA (Hons)",
          "International Business Management BA (Hons)",
          "International Relations BA (Hons)",
          "International Relations and Politics BA (Hons)",
          "International Tourism Management BA (Hons)",
          "Journalism BA (Hons)",
          "Journalism Studies BA (Hons)",
          "Journalism and Creative Writing BA (Hons)",
          "LLM Conflict and Disaster Law",
          "LLM International Law",
          "Law LLB (Hons)",
          "Law and Criminology LLB (Hons)",
          "Logistics and Global Operations MSc",
          "MA Creative Writing",
          "MA Criminology and Criminal Justice",
          "MA Design",
          "MA Education",
          "MA History",
          "MA Interior Architecture and Design",
          "MA International Relations",
          "MA Journalism (Arts)",
          "MA Journalism (Science and Environment)",
          "MBA Master of Business Administration (Full-time)",
          "MPhil Educational Research and Development",
          "MSc Accounting and Finance",
          "MSc Agri-food Technology",
          "MSc Analytical Sciences",
          "MSc Clinical Animal Behaviour",
          "MSc Construction Science and Management",
          "MSc Developmental Psychology",
          "MSc Events Management",
          "MSc Fashion Management",
          "MSc Finance",
          "MSc Forensic Psychology",
          "MSc Forensic Science",
          "MSc Games Development and Design",
          "MSc Human Resource Management Full Time",
          "MSc International Business",
          "MSc International Business Economics",
          "MSc International Investment Banking",
          "MSc International Tourism Management",
          "MSc Logistics and Global Operations",
          "MSc Management",
          "MSc Marketing",
          "MSc Project Management",
          "MSc Robotics and Autonomous Systems",
          "MSc Social Work",
          "MSc Sport Science",
          "MSc Sports Therapy",
          "Marketing MSc",
          "Marketing Management BA (Hons)",
          "Mathematics BSc (Hons)",
          "Mathematics and Physics BSc (Hons)",
          "Mechanical Engineering BEng (Hons)",
          "Media Production BA (Hons)",
          "Media Studies BA (Hons)",
          "Medicine BMBS",
          "Music BA (Hons)",
          "Nursing (Registered Nurse - Adult) BSc (Hons)",
          "Nursing (Registered Nurse - Child) BSc (Hons)",
          "Nursing (Registered Nurse - Mental Health) BSc (Hons)",
          "Paramedic Science BSc (Hons)",
          "PhD History",
          "PhD Pharmacy and Pharmaceutical Sciences",
          "PhD in Computer Science",
          "Pharmaceutical Science BSc (Hons)",
          "Pharmacy MPharm (Hons)",
          "Photography BA (Hons)",
          "Physical Education and Sport BSc (Hons)",
          "Politics BA (Hons)",
          "Politics and Social Policy BA (Hons)",
          "Psychology BSc (Hons)",
          "Psychology with Forensic Psychology BSc (Hons)",
          "Psychology with Mental Health BSc (Hons)",
          "Social Policy BA (Hons)",
          "Sociology BA (Hons)",
          "Sound and Music Production BA (Hons)",
          "Sport Development and Coaching BSc (Hons)",
          "Sport and Exercise Science BSc (Hons)",
          "Strength and Conditioning in Sport BSc (Hons)",
          "Zoology BSc (Hons)"
         ],
         "yaxis": "y"
        }
       ],
       "layout": {
        "coloraxis": {
         "colorbar": {
          "title": {
           "text": "Overall<br>Rating<br>"
          }
         },
         "colorscale": [
          [
           0,
           "#0508b8"
          ],
          [
           0.08333333333333333,
           "#1910d8"
          ],
          [
           0.16666666666666666,
           "#3c19f0"
          ],
          [
           0.25,
           "#6b1cfb"
          ],
          [
           0.3333333333333333,
           "#981cfd"
          ],
          [
           0.4166666666666667,
           "#bf1cfd"
          ],
          [
           0.5,
           "#dd2bfd"
          ],
          [
           0.5833333333333334,
           "#f246fe"
          ],
          [
           0.6666666666666666,
           "#fc67fd"
          ],
          [
           0.75,
           "#fe88fc"
          ],
          [
           0.8333333333333334,
           "#fea5fd"
          ],
          [
           0.9166666666666666,
           "#febefe"
          ],
          [
           1,
           "#fec3fe"
          ]
         ]
        },
        "legend": {
         "tracegroupgap": 0
        },
        "margin": {
         "t": 60
        },
        "template": {
         "data": {
          "bar": [
           {
            "error_x": {
             "color": "#2a3f5f"
            },
            "error_y": {
             "color": "#2a3f5f"
            },
            "marker": {
             "line": {
              "color": "#E5ECF6",
              "width": 0.5
             }
            },
            "type": "bar"
           }
          ],
          "barpolar": [
           {
            "marker": {
             "line": {
              "color": "#E5ECF6",
              "width": 0.5
             }
            },
            "type": "barpolar"
           }
          ],
          "carpet": [
           {
            "aaxis": {
             "endlinecolor": "#2a3f5f",
             "gridcolor": "white",
             "linecolor": "white",
             "minorgridcolor": "white",
             "startlinecolor": "#2a3f5f"
            },
            "baxis": {
             "endlinecolor": "#2a3f5f",
             "gridcolor": "white",
             "linecolor": "white",
             "minorgridcolor": "white",
             "startlinecolor": "#2a3f5f"
            },
            "type": "carpet"
           }
          ],
          "choropleth": [
           {
            "colorbar": {
             "outlinewidth": 0,
             "ticks": ""
            },
            "type": "choropleth"
           }
          ],
          "contour": [
           {
            "colorbar": {
             "outlinewidth": 0,
             "ticks": ""
            },
            "colorscale": [
             [
              0,
              "#0d0887"
             ],
             [
              0.1111111111111111,
              "#46039f"
             ],
             [
              0.2222222222222222,
              "#7201a8"
             ],
             [
              0.3333333333333333,
              "#9c179e"
             ],
             [
              0.4444444444444444,
              "#bd3786"
             ],
             [
              0.5555555555555556,
              "#d8576b"
             ],
             [
              0.6666666666666666,
              "#ed7953"
             ],
             [
              0.7777777777777778,
              "#fb9f3a"
             ],
             [
              0.8888888888888888,
              "#fdca26"
             ],
             [
              1,
              "#f0f921"
             ]
            ],
            "type": "contour"
           }
          ],
          "contourcarpet": [
           {
            "colorbar": {
             "outlinewidth": 0,
             "ticks": ""
            },
            "type": "contourcarpet"
           }
          ],
          "heatmap": [
           {
            "colorbar": {
             "outlinewidth": 0,
             "ticks": ""
            },
            "colorscale": [
             [
              0,
              "#0d0887"
             ],
             [
              0.1111111111111111,
              "#46039f"
             ],
             [
              0.2222222222222222,
              "#7201a8"
             ],
             [
              0.3333333333333333,
              "#9c179e"
             ],
             [
              0.4444444444444444,
              "#bd3786"
             ],
             [
              0.5555555555555556,
              "#d8576b"
             ],
             [
              0.6666666666666666,
              "#ed7953"
             ],
             [
              0.7777777777777778,
              "#fb9f3a"
             ],
             [
              0.8888888888888888,
              "#fdca26"
             ],
             [
              1,
              "#f0f921"
             ]
            ],
            "type": "heatmap"
           }
          ],
          "heatmapgl": [
           {
            "colorbar": {
             "outlinewidth": 0,
             "ticks": ""
            },
            "colorscale": [
             [
              0,
              "#0d0887"
             ],
             [
              0.1111111111111111,
              "#46039f"
             ],
             [
              0.2222222222222222,
              "#7201a8"
             ],
             [
              0.3333333333333333,
              "#9c179e"
             ],
             [
              0.4444444444444444,
              "#bd3786"
             ],
             [
              0.5555555555555556,
              "#d8576b"
             ],
             [
              0.6666666666666666,
              "#ed7953"
             ],
             [
              0.7777777777777778,
              "#fb9f3a"
             ],
             [
              0.8888888888888888,
              "#fdca26"
             ],
             [
              1,
              "#f0f921"
             ]
            ],
            "type": "heatmapgl"
           }
          ],
          "histogram": [
           {
            "marker": {
             "colorbar": {
              "outlinewidth": 0,
              "ticks": ""
             }
            },
            "type": "histogram"
           }
          ],
          "histogram2d": [
           {
            "colorbar": {
             "outlinewidth": 0,
             "ticks": ""
            },
            "colorscale": [
             [
              0,
              "#0d0887"
             ],
             [
              0.1111111111111111,
              "#46039f"
             ],
             [
              0.2222222222222222,
              "#7201a8"
             ],
             [
              0.3333333333333333,
              "#9c179e"
             ],
             [
              0.4444444444444444,
              "#bd3786"
             ],
             [
              0.5555555555555556,
              "#d8576b"
             ],
             [
              0.6666666666666666,
              "#ed7953"
             ],
             [
              0.7777777777777778,
              "#fb9f3a"
             ],
             [
              0.8888888888888888,
              "#fdca26"
             ],
             [
              1,
              "#f0f921"
             ]
            ],
            "type": "histogram2d"
           }
          ],
          "histogram2dcontour": [
           {
            "colorbar": {
             "outlinewidth": 0,
             "ticks": ""
            },
            "colorscale": [
             [
              0,
              "#0d0887"
             ],
             [
              0.1111111111111111,
              "#46039f"
             ],
             [
              0.2222222222222222,
              "#7201a8"
             ],
             [
              0.3333333333333333,
              "#9c179e"
             ],
             [
              0.4444444444444444,
              "#bd3786"
             ],
             [
              0.5555555555555556,
              "#d8576b"
             ],
             [
              0.6666666666666666,
              "#ed7953"
             ],
             [
              0.7777777777777778,
              "#fb9f3a"
             ],
             [
              0.8888888888888888,
              "#fdca26"
             ],
             [
              1,
              "#f0f921"
             ]
            ],
            "type": "histogram2dcontour"
           }
          ],
          "mesh3d": [
           {
            "colorbar": {
             "outlinewidth": 0,
             "ticks": ""
            },
            "type": "mesh3d"
           }
          ],
          "parcoords": [
           {
            "line": {
             "colorbar": {
              "outlinewidth": 0,
              "ticks": ""
             }
            },
            "type": "parcoords"
           }
          ],
          "pie": [
           {
            "automargin": true,
            "type": "pie"
           }
          ],
          "scatter": [
           {
            "marker": {
             "colorbar": {
              "outlinewidth": 0,
              "ticks": ""
             }
            },
            "type": "scatter"
           }
          ],
          "scatter3d": [
           {
            "line": {
             "colorbar": {
              "outlinewidth": 0,
              "ticks": ""
             }
            },
            "marker": {
             "colorbar": {
              "outlinewidth": 0,
              "ticks": ""
             }
            },
            "type": "scatter3d"
           }
          ],
          "scattercarpet": [
           {
            "marker": {
             "colorbar": {
              "outlinewidth": 0,
              "ticks": ""
             }
            },
            "type": "scattercarpet"
           }
          ],
          "scattergeo": [
           {
            "marker": {
             "colorbar": {
              "outlinewidth": 0,
              "ticks": ""
             }
            },
            "type": "scattergeo"
           }
          ],
          "scattergl": [
           {
            "marker": {
             "colorbar": {
              "outlinewidth": 0,
              "ticks": ""
             }
            },
            "type": "scattergl"
           }
          ],
          "scattermapbox": [
           {
            "marker": {
             "colorbar": {
              "outlinewidth": 0,
              "ticks": ""
             }
            },
            "type": "scattermapbox"
           }
          ],
          "scatterpolar": [
           {
            "marker": {
             "colorbar": {
              "outlinewidth": 0,
              "ticks": ""
             }
            },
            "type": "scatterpolar"
           }
          ],
          "scatterpolargl": [
           {
            "marker": {
             "colorbar": {
              "outlinewidth": 0,
              "ticks": ""
             }
            },
            "type": "scatterpolargl"
           }
          ],
          "scatterternary": [
           {
            "marker": {
             "colorbar": {
              "outlinewidth": 0,
              "ticks": ""
             }
            },
            "type": "scatterternary"
           }
          ],
          "surface": [
           {
            "colorbar": {
             "outlinewidth": 0,
             "ticks": ""
            },
            "colorscale": [
             [
              0,
              "#0d0887"
             ],
             [
              0.1111111111111111,
              "#46039f"
             ],
             [
              0.2222222222222222,
              "#7201a8"
             ],
             [
              0.3333333333333333,
              "#9c179e"
             ],
             [
              0.4444444444444444,
              "#bd3786"
             ],
             [
              0.5555555555555556,
              "#d8576b"
             ],
             [
              0.6666666666666666,
              "#ed7953"
             ],
             [
              0.7777777777777778,
              "#fb9f3a"
             ],
             [
              0.8888888888888888,
              "#fdca26"
             ],
             [
              1,
              "#f0f921"
             ]
            ],
            "type": "surface"
           }
          ],
          "table": [
           {
            "cells": {
             "fill": {
              "color": "#EBF0F8"
             },
             "line": {
              "color": "white"
             }
            },
            "header": {
             "fill": {
              "color": "#C8D4E3"
             },
             "line": {
              "color": "white"
             }
            },
            "type": "table"
           }
          ]
         },
         "layout": {
          "annotationdefaults": {
           "arrowcolor": "#2a3f5f",
           "arrowhead": 0,
           "arrowwidth": 1
          },
          "autotypenumbers": "strict",
          "coloraxis": {
           "colorbar": {
            "outlinewidth": 0,
            "ticks": ""
           }
          },
          "colorscale": {
           "diverging": [
            [
             0,
             "#8e0152"
            ],
            [
             0.1,
             "#c51b7d"
            ],
            [
             0.2,
             "#de77ae"
            ],
            [
             0.3,
             "#f1b6da"
            ],
            [
             0.4,
             "#fde0ef"
            ],
            [
             0.5,
             "#f7f7f7"
            ],
            [
             0.6,
             "#e6f5d0"
            ],
            [
             0.7,
             "#b8e186"
            ],
            [
             0.8,
             "#7fbc41"
            ],
            [
             0.9,
             "#4d9221"
            ],
            [
             1,
             "#276419"
            ]
           ],
           "sequential": [
            [
             0,
             "#0d0887"
            ],
            [
             0.1111111111111111,
             "#46039f"
            ],
            [
             0.2222222222222222,
             "#7201a8"
            ],
            [
             0.3333333333333333,
             "#9c179e"
            ],
            [
             0.4444444444444444,
             "#bd3786"
            ],
            [
             0.5555555555555556,
             "#d8576b"
            ],
            [
             0.6666666666666666,
             "#ed7953"
            ],
            [
             0.7777777777777778,
             "#fb9f3a"
            ],
            [
             0.8888888888888888,
             "#fdca26"
            ],
            [
             1,
             "#f0f921"
            ]
           ],
           "sequentialminus": [
            [
             0,
             "#0d0887"
            ],
            [
             0.1111111111111111,
             "#46039f"
            ],
            [
             0.2222222222222222,
             "#7201a8"
            ],
            [
             0.3333333333333333,
             "#9c179e"
            ],
            [
             0.4444444444444444,
             "#bd3786"
            ],
            [
             0.5555555555555556,
             "#d8576b"
            ],
            [
             0.6666666666666666,
             "#ed7953"
            ],
            [
             0.7777777777777778,
             "#fb9f3a"
            ],
            [
             0.8888888888888888,
             "#fdca26"
            ],
            [
             1,
             "#f0f921"
            ]
           ]
          },
          "colorway": [
           "#636efa",
           "#EF553B",
           "#00cc96",
           "#ab63fa",
           "#FFA15A",
           "#19d3f3",
           "#FF6692",
           "#B6E880",
           "#FF97FF",
           "#FECB52"
          ],
          "font": {
           "color": "#2a3f5f"
          },
          "geo": {
           "bgcolor": "white",
           "lakecolor": "white",
           "landcolor": "#E5ECF6",
           "showlakes": true,
           "showland": true,
           "subunitcolor": "white"
          },
          "hoverlabel": {
           "align": "left"
          },
          "hovermode": "closest",
          "mapbox": {
           "style": "light"
          },
          "paper_bgcolor": "white",
          "plot_bgcolor": "#E5ECF6",
          "polar": {
           "angularaxis": {
            "gridcolor": "white",
            "linecolor": "white",
            "ticks": ""
           },
           "bgcolor": "#E5ECF6",
           "radialaxis": {
            "gridcolor": "white",
            "linecolor": "white",
            "ticks": ""
           }
          },
          "scene": {
           "xaxis": {
            "backgroundcolor": "#E5ECF6",
            "gridcolor": "white",
            "gridwidth": 2,
            "linecolor": "white",
            "showbackground": true,
            "ticks": "",
            "zerolinecolor": "white"
           },
           "yaxis": {
            "backgroundcolor": "#E5ECF6",
            "gridcolor": "white",
            "gridwidth": 2,
            "linecolor": "white",
            "showbackground": true,
            "ticks": "",
            "zerolinecolor": "white"
           },
           "zaxis": {
            "backgroundcolor": "#E5ECF6",
            "gridcolor": "white",
            "gridwidth": 2,
            "linecolor": "white",
            "showbackground": true,
            "ticks": "",
            "zerolinecolor": "white"
           }
          },
          "shapedefaults": {
           "line": {
            "color": "#2a3f5f"
           }
          },
          "ternary": {
           "aaxis": {
            "gridcolor": "white",
            "linecolor": "white",
            "ticks": ""
           },
           "baxis": {
            "gridcolor": "white",
            "linecolor": "white",
            "ticks": ""
           },
           "bgcolor": "#E5ECF6",
           "caxis": {
            "gridcolor": "white",
            "linecolor": "white",
            "ticks": ""
           }
          },
          "title": {
           "x": 0.05
          },
          "xaxis": {
           "automargin": true,
           "gridcolor": "white",
           "linecolor": "white",
           "ticks": "",
           "title": {
            "standoff": 15
           },
           "zerolinecolor": "white",
           "zerolinewidth": 2
          },
          "yaxis": {
           "automargin": true,
           "gridcolor": "white",
           "linecolor": "white",
           "ticks": "",
           "title": {
            "standoff": 15
           },
           "zerolinecolor": "white",
           "zerolinewidth": 2
          }
         }
        },
        "title": {
         "text": "Mean Overall Rating For Courses From The University of Lincoln",
         "x": 0.5
        },
        "xaxis": {
         "anchor": "y",
         "domain": [
          0,
          1
         ],
         "title": {
          "text": "Mean Overall Rating (1-5)"
         }
        },
        "yaxis": {
         "anchor": "x",
         "domain": [
          0,
          1
         ],
         "showticklabels": false,
         "title": {
          "text": "Course"
         },
         "visible": false
        }
       }
      },
      "text/html": [
       "<div>                            <div id=\"868058e0-a6d3-49e8-8313-150b8f25a3cf\" class=\"plotly-graph-div\" style=\"height:525px; width:100%;\"></div>            <script type=\"text/javascript\">                require([\"plotly\"], function(Plotly) {                    window.PLOTLYENV=window.PLOTLYENV || {};                                    if (document.getElementById(\"868058e0-a6d3-49e8-8313-150b8f25a3cf\")) {                    Plotly.newPlot(                        \"868058e0-a6d3-49e8-8313-150b8f25a3cf\",                        [{\"customdata\": [[10], [9], [14], [2], [1], [1], [2], [3], [7], [1], [8], [1], [1], [6], [1], [2], [2], [1], [11], [18], [1], [2], [3], [1], [1], [1], [2], [2], [3], [19], [1], [1], [2], [1], [31], [1], [1], [5], [4], [1], [2], [8], [2], [4], [2], [1], [1], [2], [6], [7], [2], [4], [6], [7], [3], [5], [3], [4], [12], [6], [3], [2], [3], [9], [2], [25], [15], [8], [3], [7], [7], [8], [2], [1], [1], [1], [24], [6], [1], [1], [2], [2], [1], [1], [1], [1], [3], [1], [2], [1], [8], [3], [1], [7], [1], [3], [2], [1], [4], [3], [4], [1], [2], [11], [1], [1], [6], [1], [8], [10], [4], [1], [1], [1], [1], [1], [4], [6], [1], [5], [39], [1], [1], [3], [32], [1], [6], [3], [1], [1], [1], [7], [5], [1], [4], [5], [2], [47], [8], [10], [1], [6], [2], [4], [7], [1], [3]], \"hovertemplate\": \"Course: %{y}<br>Mean Overall Rating: %{x}<br>Num of Reviews: %{customdata}\", \"legendgroup\": \"\", \"marker\": {\"color\": [4.5, 3.7777777777777777, 4.285714285714286, 5.0, 5.0, 4.0, 4.0, 4.666666666666667, 4.714285714285714, 5.0, 4.5, 5.0, 5.0, 4.666666666666667, 4.0, 4.0, 5.0, 4.0, 4.363636363636363, 4.166666666666667, 3.0, 4.0, 4.0, 5.0, 4.0, 5.0, 4.5, 4.5, 3.6666666666666665, 4.368421052631579, 5.0, 5.0, 5.0, 4.0, 4.193548387096774, 4.0, 5.0, 4.2, 4.75, 3.0, 4.0, 4.25, 5.0, 4.0, 5.0, 4.0, 4.0, 3.5, 4.166666666666667, 3.4285714285714284, 4.5, 3.5, 4.0, 4.571428571428571, 4.333333333333333, 3.8, 3.6666666666666665, 3.75, 4.5, 3.6666666666666665, 4.666666666666667, 4.0, 4.0, 4.111111111111111, 4.5, 4.16, 4.333333333333333, 4.75, 4.666666666666667, 3.857142857142857, 4.0, 4.75, 4.0, 4.0, 5.0, 4.0, 4.333333333333333, 4.333333333333333, 5.0, 4.0, 3.0, 4.0, 4.0, 4.0, 2.0, 5.0, 4.333333333333333, 5.0, 4.5, 5.0, 4.625, 4.333333333333333, 4.0, 5.0, 4.0, 4.0, 4.5, 5.0, 5.0, 4.666666666666667, 4.25, 3.0, 5.0, 4.454545454545454, 3.0, 5.0, 4.833333333333333, 4.0, 4.5, 3.9, 4.5, 5.0, 4.0, 4.0, 4.0, 4.0, 3.75, 4.5, 5.0, 4.4, 3.948717948717949, 5.0, 4.0, 4.333333333333333, 3.6875, 2.0, 3.3333333333333335, 5.0, 5.0, 5.0, 5.0, 4.285714285714286, 3.8, 1.0, 4.25, 4.0, 4.0, 4.0638297872340425, 3.875, 3.9, 4.0, 4.0, 3.5, 4.0, 4.571428571428571, 5.0, 3.3333333333333335], \"coloraxis\": \"coloraxis\", \"symbol\": \"circle\"}, \"mode\": \"markers\", \"name\": \"\", \"orientation\": \"h\", \"showlegend\": false, \"type\": \"scatter\", \"x\": [4.5, 3.7777777777777777, 4.285714285714286, 5.0, 5.0, 4.0, 4.0, 4.666666666666667, 4.714285714285714, 5.0, 4.5, 5.0, 5.0, 4.666666666666667, 4.0, 4.0, 5.0, 4.0, 4.363636363636363, 4.166666666666667, 3.0, 4.0, 4.0, 5.0, 4.0, 5.0, 4.5, 4.5, 3.6666666666666665, 4.368421052631579, 5.0, 5.0, 5.0, 4.0, 4.193548387096774, 4.0, 5.0, 4.2, 4.75, 3.0, 4.0, 4.25, 5.0, 4.0, 5.0, 4.0, 4.0, 3.5, 4.166666666666667, 3.4285714285714284, 4.5, 3.5, 4.0, 4.571428571428571, 4.333333333333333, 3.8, 3.6666666666666665, 3.75, 4.5, 3.6666666666666665, 4.666666666666667, 4.0, 4.0, 4.111111111111111, 4.5, 4.16, 4.333333333333333, 4.75, 4.666666666666667, 3.857142857142857, 4.0, 4.75, 4.0, 4.0, 5.0, 4.0, 4.333333333333333, 4.333333333333333, 5.0, 4.0, 3.0, 4.0, 4.0, 4.0, 2.0, 5.0, 4.333333333333333, 5.0, 4.5, 5.0, 4.625, 4.333333333333333, 4.0, 5.0, 4.0, 4.0, 4.5, 5.0, 5.0, 4.666666666666667, 4.25, 3.0, 5.0, 4.454545454545454, 3.0, 5.0, 4.833333333333333, 4.0, 4.5, 3.9, 4.5, 5.0, 4.0, 4.0, 4.0, 4.0, 3.75, 4.5, 5.0, 4.4, 3.948717948717949, 5.0, 4.0, 4.333333333333333, 3.6875, 2.0, 3.3333333333333335, 5.0, 5.0, 5.0, 5.0, 4.285714285714286, 3.8, 1.0, 4.25, 4.0, 4.0, 4.0638297872340425, 3.875, 3.9, 4.0, 4.0, 3.5, 4.0, 4.571428571428571, 5.0, 3.3333333333333335], \"xaxis\": \"x\", \"y\": [\"Accountancy and Finance BA (Hons)\", \"Advertising and Marketing BA (Hons)\", \"Animal Behaviour and Welfare BSc (Hons)\", \"Animation and Visual Effects BA (Hons)\", \"Applied Social Science BA (Hons)\", \"Architecture BArch\", \"Art History and History BA (Hons)\", \"Biochemistry BSc (Hons)\", \"Biology BSc (Hons)\", \"Biology with Science Foundation Year BSc (Hons)\", \"Biomedical Science BSc (Hons)\", \"Biomedical Science MBioSci\", \"Biomedical Science with Science Foundation Year BSc (Hons)\", \"Bioveterinary Science BSc (Hons)\", \"Bioveterinary Science MBioSci\", \"Business BA (Hons)\", \"Business Economics BA (Hons)\", \"Business Psychology BSc (Hons)\", \"Business and Finance BA (Hons)\", \"Business and Management BA (Hons)\", \"Business and Marketing BA (Hons)\", \"Chemistry BSc (Hons)\", \"Chemistry MChem\", \"Chemistry Mchem\", \"Chemistry for Drug Discovery and Development MChem (Hons)\", \"Chemistry for Drug Discovery and Development Mchem\", \"Chemistry with Science Foundation Year BSc (Hons)\", \"Classical Studies BA (Hons)\", \"Communications and Public Relations BA (Hons)\", \"Computer Science BSc (Hons)\", \"Computer Science MComp (Hons)\", \"Conservation of Cultural Heritage BA (Hons)\", \"Creative Advertising BA (Hons)\", \"Creative Writing BA (Hons)\", \"Criminology BA (Hons)\", \"Criminology and Criminal Justice MA\", \"Criminology and Social Policy BA (Hons)\", \"Criminology and Sociology BA (Hons)\", \"Dance BA (Hons)\", \"Design for Event, Exhibition and Performance with Arts Foundation Year BA (Hons)\", \"Drama and English BA (Hons)\", \"Drama and Theatre BA (Hons)\", \"Ecology and Conservation BSc (Hons)\", \"Economics BSc (Hons)\", \"Economics and Finance BSc (Hons)\", \"Education BA (Hons)\", \"Education and Psychology BSc (Hons)\", \"Electrical and Electronic Engineering BEng\", \"English BA (Hons)\", \"English and Creative Writing BA (Hons)\", \"English and History BA (Hons)\", \"English and Journalism BA (Hons)\", \"Events Management BSc (Hons)\", \"Film & Television Studies BA (Hons)\", \"Film Production BA (Hons)\", \"Fine Art BA (Hons)\", \"Forensic Chemistry BSc (Hons)\", \"Forensic Chemistry MChem\", \"Forensic Science BSc (Hons)\", \"Games Computing BSc (Hons)\", \"Geography BA (Hons)\", \"Geography BSc (Hons)\", \"Graduate Diploma Conservation Studies\", \"Graphic Design BA (Hons)\", \"Health and Social Care BSc (Hons)\", \"History BA (Hons)\", \"Illustration BA (Hons)\", \"International Business Management BA (Hons)\", \"International Relations BA (Hons)\", \"International Relations and Politics BA (Hons)\", \"International Tourism Management BA (Hons)\", \"Journalism BA (Hons)\", \"Journalism Studies BA (Hons)\", \"Journalism and Creative Writing BA (Hons)\", \"LLM Conflict and Disaster Law\", \"LLM International Law\", \"Law LLB (Hons)\", \"Law and Criminology LLB (Hons)\", \"Logistics and Global Operations MSc\", \"MA Creative Writing\", \"MA Criminology and Criminal Justice\", \"MA Design\", \"MA Education\", \"MA History\", \"MA Interior Architecture and Design\", \"MA International Relations\", \"MA Journalism (Arts)\", \"MA Journalism (Science and Environment)\", \"MBA Master of Business Administration (Full-time)\", \"MPhil Educational Research and Development\", \"MSc Accounting and Finance\", \"MSc Agri-food Technology\", \"MSc Analytical Sciences\", \"MSc Clinical Animal Behaviour\", \"MSc Construction Science and Management\", \"MSc Developmental Psychology\", \"MSc Events Management\", \"MSc Fashion Management\", \"MSc Finance\", \"MSc Forensic Psychology\", \"MSc Forensic Science\", \"MSc Games Development and Design\", \"MSc Human Resource Management Full Time\", \"MSc International Business\", \"MSc International Business Economics\", \"MSc International Investment Banking\", \"MSc International Tourism Management\", \"MSc Logistics and Global Operations\", \"MSc Management\", \"MSc Marketing\", \"MSc Project Management\", \"MSc Robotics and Autonomous Systems\", \"MSc Social Work\", \"MSc Sport Science\", \"MSc Sports Therapy\", \"Marketing MSc\", \"Marketing Management BA (Hons)\", \"Mathematics BSc (Hons)\", \"Mathematics and Physics BSc (Hons)\", \"Mechanical Engineering BEng (Hons)\", \"Media Production BA (Hons)\", \"Media Studies BA (Hons)\", \"Medicine BMBS\", \"Music BA (Hons)\", \"Nursing (Registered Nurse - Adult) BSc (Hons)\", \"Nursing (Registered Nurse - Child) BSc (Hons)\", \"Nursing (Registered Nurse - Mental Health) BSc (Hons)\", \"Paramedic Science BSc (Hons)\", \"PhD History\", \"PhD Pharmacy and Pharmaceutical Sciences\", \"PhD in Computer Science\", \"Pharmaceutical Science BSc (Hons)\", \"Pharmacy MPharm (Hons)\", \"Photography BA (Hons)\", \"Physical Education and Sport BSc (Hons)\", \"Politics BA (Hons)\", \"Politics and Social Policy BA (Hons)\", \"Psychology BSc (Hons)\", \"Psychology with Forensic Psychology BSc (Hons)\", \"Psychology with Mental Health BSc (Hons)\", \"Social Policy BA (Hons)\", \"Sociology BA (Hons)\", \"Sound and Music Production BA (Hons)\", \"Sport Development and Coaching BSc (Hons)\", \"Sport and Exercise Science BSc (Hons)\", \"Strength and Conditioning in Sport BSc (Hons)\", \"Zoology BSc (Hons)\"], \"yaxis\": \"y\"}],                        {\"coloraxis\": {\"colorbar\": {\"title\": {\"text\": \"Overall<br>Rating<br>\"}}, \"colorscale\": [[0.0, \"#0508b8\"], [0.08333333333333333, \"#1910d8\"], [0.16666666666666666, \"#3c19f0\"], [0.25, \"#6b1cfb\"], [0.3333333333333333, \"#981cfd\"], [0.4166666666666667, \"#bf1cfd\"], [0.5, \"#dd2bfd\"], [0.5833333333333334, \"#f246fe\"], [0.6666666666666666, \"#fc67fd\"], [0.75, \"#fe88fc\"], [0.8333333333333334, \"#fea5fd\"], [0.9166666666666666, \"#febefe\"], [1.0, \"#fec3fe\"]]}, \"legend\": {\"tracegroupgap\": 0}, \"margin\": {\"t\": 60}, \"template\": {\"data\": {\"bar\": [{\"error_x\": {\"color\": \"#2a3f5f\"}, \"error_y\": {\"color\": \"#2a3f5f\"}, \"marker\": {\"line\": {\"color\": \"#E5ECF6\", \"width\": 0.5}}, \"type\": \"bar\"}], \"barpolar\": [{\"marker\": {\"line\": {\"color\": \"#E5ECF6\", \"width\": 0.5}}, \"type\": \"barpolar\"}], \"carpet\": [{\"aaxis\": {\"endlinecolor\": \"#2a3f5f\", \"gridcolor\": \"white\", \"linecolor\": \"white\", \"minorgridcolor\": \"white\", \"startlinecolor\": \"#2a3f5f\"}, \"baxis\": {\"endlinecolor\": \"#2a3f5f\", \"gridcolor\": \"white\", \"linecolor\": \"white\", \"minorgridcolor\": \"white\", \"startlinecolor\": \"#2a3f5f\"}, \"type\": \"carpet\"}], \"choropleth\": [{\"colorbar\": {\"outlinewidth\": 0, \"ticks\": \"\"}, \"type\": \"choropleth\"}], \"contour\": [{\"colorbar\": {\"outlinewidth\": 0, \"ticks\": \"\"}, \"colorscale\": [[0.0, \"#0d0887\"], [0.1111111111111111, \"#46039f\"], [0.2222222222222222, \"#7201a8\"], [0.3333333333333333, \"#9c179e\"], [0.4444444444444444, \"#bd3786\"], [0.5555555555555556, \"#d8576b\"], [0.6666666666666666, \"#ed7953\"], [0.7777777777777778, \"#fb9f3a\"], [0.8888888888888888, \"#fdca26\"], [1.0, \"#f0f921\"]], \"type\": \"contour\"}], \"contourcarpet\": [{\"colorbar\": {\"outlinewidth\": 0, \"ticks\": \"\"}, \"type\": \"contourcarpet\"}], \"heatmap\": [{\"colorbar\": {\"outlinewidth\": 0, \"ticks\": \"\"}, \"colorscale\": [[0.0, \"#0d0887\"], [0.1111111111111111, \"#46039f\"], [0.2222222222222222, \"#7201a8\"], [0.3333333333333333, \"#9c179e\"], [0.4444444444444444, \"#bd3786\"], [0.5555555555555556, \"#d8576b\"], [0.6666666666666666, \"#ed7953\"], [0.7777777777777778, \"#fb9f3a\"], [0.8888888888888888, \"#fdca26\"], [1.0, \"#f0f921\"]], \"type\": \"heatmap\"}], \"heatmapgl\": [{\"colorbar\": {\"outlinewidth\": 0, \"ticks\": \"\"}, \"colorscale\": [[0.0, \"#0d0887\"], [0.1111111111111111, \"#46039f\"], [0.2222222222222222, \"#7201a8\"], [0.3333333333333333, \"#9c179e\"], [0.4444444444444444, \"#bd3786\"], [0.5555555555555556, \"#d8576b\"], [0.6666666666666666, \"#ed7953\"], [0.7777777777777778, \"#fb9f3a\"], [0.8888888888888888, \"#fdca26\"], [1.0, \"#f0f921\"]], \"type\": \"heatmapgl\"}], \"histogram\": [{\"marker\": {\"colorbar\": {\"outlinewidth\": 0, \"ticks\": \"\"}}, \"type\": \"histogram\"}], \"histogram2d\": [{\"colorbar\": {\"outlinewidth\": 0, \"ticks\": \"\"}, \"colorscale\": [[0.0, \"#0d0887\"], [0.1111111111111111, \"#46039f\"], [0.2222222222222222, \"#7201a8\"], [0.3333333333333333, \"#9c179e\"], [0.4444444444444444, \"#bd3786\"], [0.5555555555555556, \"#d8576b\"], [0.6666666666666666, \"#ed7953\"], [0.7777777777777778, \"#fb9f3a\"], [0.8888888888888888, \"#fdca26\"], [1.0, \"#f0f921\"]], \"type\": \"histogram2d\"}], \"histogram2dcontour\": [{\"colorbar\": {\"outlinewidth\": 0, \"ticks\": \"\"}, \"colorscale\": [[0.0, \"#0d0887\"], [0.1111111111111111, \"#46039f\"], [0.2222222222222222, \"#7201a8\"], [0.3333333333333333, \"#9c179e\"], [0.4444444444444444, \"#bd3786\"], [0.5555555555555556, \"#d8576b\"], [0.6666666666666666, \"#ed7953\"], [0.7777777777777778, \"#fb9f3a\"], [0.8888888888888888, \"#fdca26\"], [1.0, \"#f0f921\"]], \"type\": \"histogram2dcontour\"}], \"mesh3d\": [{\"colorbar\": {\"outlinewidth\": 0, \"ticks\": \"\"}, \"type\": \"mesh3d\"}], \"parcoords\": [{\"line\": {\"colorbar\": {\"outlinewidth\": 0, \"ticks\": \"\"}}, \"type\": \"parcoords\"}], \"pie\": [{\"automargin\": true, \"type\": \"pie\"}], \"scatter\": [{\"marker\": {\"colorbar\": {\"outlinewidth\": 0, \"ticks\": \"\"}}, \"type\": \"scatter\"}], \"scatter3d\": [{\"line\": {\"colorbar\": {\"outlinewidth\": 0, \"ticks\": \"\"}}, \"marker\": {\"colorbar\": {\"outlinewidth\": 0, \"ticks\": \"\"}}, \"type\": \"scatter3d\"}], \"scattercarpet\": [{\"marker\": {\"colorbar\": {\"outlinewidth\": 0, \"ticks\": \"\"}}, \"type\": \"scattercarpet\"}], \"scattergeo\": [{\"marker\": {\"colorbar\": {\"outlinewidth\": 0, \"ticks\": \"\"}}, \"type\": \"scattergeo\"}], \"scattergl\": [{\"marker\": {\"colorbar\": {\"outlinewidth\": 0, \"ticks\": \"\"}}, \"type\": \"scattergl\"}], \"scattermapbox\": [{\"marker\": {\"colorbar\": {\"outlinewidth\": 0, \"ticks\": \"\"}}, \"type\": \"scattermapbox\"}], \"scatterpolar\": [{\"marker\": {\"colorbar\": {\"outlinewidth\": 0, \"ticks\": \"\"}}, \"type\": \"scatterpolar\"}], \"scatterpolargl\": [{\"marker\": {\"colorbar\": {\"outlinewidth\": 0, \"ticks\": \"\"}}, \"type\": \"scatterpolargl\"}], \"scatterternary\": [{\"marker\": {\"colorbar\": {\"outlinewidth\": 0, \"ticks\": \"\"}}, \"type\": \"scatterternary\"}], \"surface\": [{\"colorbar\": {\"outlinewidth\": 0, \"ticks\": \"\"}, \"colorscale\": [[0.0, \"#0d0887\"], [0.1111111111111111, \"#46039f\"], [0.2222222222222222, \"#7201a8\"], [0.3333333333333333, \"#9c179e\"], [0.4444444444444444, \"#bd3786\"], [0.5555555555555556, \"#d8576b\"], [0.6666666666666666, \"#ed7953\"], [0.7777777777777778, \"#fb9f3a\"], [0.8888888888888888, \"#fdca26\"], [1.0, \"#f0f921\"]], \"type\": \"surface\"}], \"table\": [{\"cells\": {\"fill\": {\"color\": \"#EBF0F8\"}, \"line\": {\"color\": \"white\"}}, \"header\": {\"fill\": {\"color\": \"#C8D4E3\"}, \"line\": {\"color\": \"white\"}}, \"type\": \"table\"}]}, \"layout\": {\"annotationdefaults\": {\"arrowcolor\": \"#2a3f5f\", \"arrowhead\": 0, \"arrowwidth\": 1}, \"autotypenumbers\": \"strict\", \"coloraxis\": {\"colorbar\": {\"outlinewidth\": 0, \"ticks\": \"\"}}, \"colorscale\": {\"diverging\": [[0, \"#8e0152\"], [0.1, \"#c51b7d\"], [0.2, \"#de77ae\"], [0.3, \"#f1b6da\"], [0.4, \"#fde0ef\"], [0.5, \"#f7f7f7\"], [0.6, \"#e6f5d0\"], [0.7, \"#b8e186\"], [0.8, \"#7fbc41\"], [0.9, \"#4d9221\"], [1, \"#276419\"]], \"sequential\": [[0.0, \"#0d0887\"], [0.1111111111111111, \"#46039f\"], [0.2222222222222222, \"#7201a8\"], [0.3333333333333333, \"#9c179e\"], [0.4444444444444444, \"#bd3786\"], [0.5555555555555556, \"#d8576b\"], [0.6666666666666666, \"#ed7953\"], [0.7777777777777778, \"#fb9f3a\"], [0.8888888888888888, \"#fdca26\"], [1.0, \"#f0f921\"]], \"sequentialminus\": [[0.0, \"#0d0887\"], [0.1111111111111111, \"#46039f\"], [0.2222222222222222, \"#7201a8\"], [0.3333333333333333, \"#9c179e\"], [0.4444444444444444, \"#bd3786\"], [0.5555555555555556, \"#d8576b\"], [0.6666666666666666, \"#ed7953\"], [0.7777777777777778, \"#fb9f3a\"], [0.8888888888888888, \"#fdca26\"], [1.0, \"#f0f921\"]]}, \"colorway\": [\"#636efa\", \"#EF553B\", \"#00cc96\", \"#ab63fa\", \"#FFA15A\", \"#19d3f3\", \"#FF6692\", \"#B6E880\", \"#FF97FF\", \"#FECB52\"], \"font\": {\"color\": \"#2a3f5f\"}, \"geo\": {\"bgcolor\": \"white\", \"lakecolor\": \"white\", \"landcolor\": \"#E5ECF6\", \"showlakes\": true, \"showland\": true, \"subunitcolor\": \"white\"}, \"hoverlabel\": {\"align\": \"left\"}, \"hovermode\": \"closest\", \"mapbox\": {\"style\": \"light\"}, \"paper_bgcolor\": \"white\", \"plot_bgcolor\": \"#E5ECF6\", \"polar\": {\"angularaxis\": {\"gridcolor\": \"white\", \"linecolor\": \"white\", \"ticks\": \"\"}, \"bgcolor\": \"#E5ECF6\", \"radialaxis\": {\"gridcolor\": \"white\", \"linecolor\": \"white\", \"ticks\": \"\"}}, \"scene\": {\"xaxis\": {\"backgroundcolor\": \"#E5ECF6\", \"gridcolor\": \"white\", \"gridwidth\": 2, \"linecolor\": \"white\", \"showbackground\": true, \"ticks\": \"\", \"zerolinecolor\": \"white\"}, \"yaxis\": {\"backgroundcolor\": \"#E5ECF6\", \"gridcolor\": \"white\", \"gridwidth\": 2, \"linecolor\": \"white\", \"showbackground\": true, \"ticks\": \"\", \"zerolinecolor\": \"white\"}, \"zaxis\": {\"backgroundcolor\": \"#E5ECF6\", \"gridcolor\": \"white\", \"gridwidth\": 2, \"linecolor\": \"white\", \"showbackground\": true, \"ticks\": \"\", \"zerolinecolor\": \"white\"}}, \"shapedefaults\": {\"line\": {\"color\": \"#2a3f5f\"}}, \"ternary\": {\"aaxis\": {\"gridcolor\": \"white\", \"linecolor\": \"white\", \"ticks\": \"\"}, \"baxis\": {\"gridcolor\": \"white\", \"linecolor\": \"white\", \"ticks\": \"\"}, \"bgcolor\": \"#E5ECF6\", \"caxis\": {\"gridcolor\": \"white\", \"linecolor\": \"white\", \"ticks\": \"\"}}, \"title\": {\"x\": 0.05}, \"xaxis\": {\"automargin\": true, \"gridcolor\": \"white\", \"linecolor\": \"white\", \"ticks\": \"\", \"title\": {\"standoff\": 15}, \"zerolinecolor\": \"white\", \"zerolinewidth\": 2}, \"yaxis\": {\"automargin\": true, \"gridcolor\": \"white\", \"linecolor\": \"white\", \"ticks\": \"\", \"title\": {\"standoff\": 15}, \"zerolinecolor\": \"white\", \"zerolinewidth\": 2}}}, \"title\": {\"text\": \"Mean Overall Rating For Courses From The University of Lincoln\", \"x\": 0.5}, \"xaxis\": {\"anchor\": \"y\", \"domain\": [0.0, 1.0], \"title\": {\"text\": \"Mean Overall Rating (1-5)\"}}, \"yaxis\": {\"anchor\": \"x\", \"domain\": [0.0, 1.0], \"showticklabels\": false, \"title\": {\"text\": \"Course\"}, \"visible\": false}},                        {\"responsive\": true}                    ).then(function(){\n",
       "                            \n",
       "var gd = document.getElementById('868058e0-a6d3-49e8-8313-150b8f25a3cf');\n",
       "var x = new MutationObserver(function (mutations, observer) {{\n",
       "        var display = window.getComputedStyle(gd).display;\n",
       "        if (!display || display === 'none') {{\n",
       "            console.log([gd, 'removed!']);\n",
       "            Plotly.purge(gd);\n",
       "            observer.disconnect();\n",
       "        }}\n",
       "}});\n",
       "\n",
       "// Listen for the removal of the full notebook cells\n",
       "var notebookContainer = gd.closest('#notebook-container');\n",
       "if (notebookContainer) {{\n",
       "    x.observe(notebookContainer, {childList: true});\n",
       "}}\n",
       "\n",
       "// Listen for the clearing of the current output cell\n",
       "var outputEl = gd.closest('.output');\n",
       "if (outputEl) {{\n",
       "    x.observe(outputEl, {childList: true});\n",
       "}}\n",
       "\n",
       "                        })                };                });            </script>        </div>"
      ]
     },
     "metadata": {},
     "output_type": "display_data"
    }
   ],
   "source": [
    "# Plot to find meaning overall rating per course\n",
    "\"\"\"Notes\n",
    "This inst a very effective plot as many courses have only 1 or few reviews compared to other courses\n",
    "that have many. This can impact the plot as you may have 1 course with 1 review of 5 stars, resulting in a mean\n",
    "of 5, however on actual fact the course might not be great and being skewed by the view of 1 person.\n",
    "This is something to consider and thats why we add the option to see the number of reviews per course also\n",
    "\"\"\"\n",
    "\n",
    "mean_rating_per_course = df.groupby('course', as_index=False)['overall_rating'].mean()    # Group by course and calculate mean rating\n",
    "course_total_reviews = df['course'].value_counts()    # Counts the number of reviews per course\n",
    "\n",
    "# Convert series to dataframe\n",
    "course_total_reviews = pd.DataFrame(course_total_reviews)\n",
    "course_total_reviews = course_total_reviews.reset_index()\n",
    "course_total_reviews.columns = ['course', 'review_count']\n",
    "\n",
    "# Merge the two data frames to get a single data frame with mean overall rating and review count per course\n",
    "final_df = pd.merge(mean_rating_per_course, course_total_reviews, on='course', how='left')\n",
    "\n",
    "fig3 = px.scatter(final_df, x='overall_rating', y=\"course\",\n",
    "                 color = \"overall_rating\",\n",
    "                 labels={\n",
    "                     \"overall_rating\": \"Mean Overall Rating (1-5)\",\n",
    "                     \"course\": \"Course\"},\n",
    "                 custom_data=['review_count'],\n",
    "                 color_continuous_scale=px.colors.sequential.Plotly3)\n",
    "\n",
    "fig3.layout.coloraxis.colorbar.title = 'Overall<br>Rating<br>'\n",
    "fig3.update_layout(title_text='Mean Overall Rating For Courses From The University of Lincoln', title_x=0.5)\n",
    "fig3.update_traces(\n",
    "                hovertemplate='<br>'.join([\n",
    "                    'Course: %{y}',\n",
    "                    'Mean Overall Rating: %{x}',\n",
    "                    'Num of Reviews: %{customdata}',\n",
    "                ]))\n",
    "fig3.update_yaxes(visible=False, showticklabels=False)\n",
    "\n",
    "fig3.show()\n",
    "\n"
   ]
  },
  {
   "cell_type": "code",
   "execution_count": 43,
   "metadata": {},
   "outputs": [
    {
     "data": {
      "text/plain": [
       "'https://plotly.com/~mathewsjoyy/8/'"
      ]
     },
     "execution_count": 43,
     "metadata": {},
     "output_type": "execute_result"
    }
   ],
   "source": [
    "# Upload the plots to plotly chart studio (Check plotly.chartstudio website > My Files)\n",
    "\"\"\"\n",
    "py.plot(fig1, filename='Overall Rating For The University of Lincoln Over Time', auto_open=False)\n",
    "py.plot(fig2, filename='Mean Rating For Different Student Categories At The University of Lincoln', auto_open=False)\n",
    "py.plot(fig3, filename='Mean Overall Rating For Courses From The University of Lincoln', auto_open=False)\n",
    "\"\"\""
   ]
  },
  {
   "cell_type": "code",
   "execution_count": null,
   "metadata": {},
   "outputs": [],
   "source": [
    "# Define a function to plot word cloud for later use\n",
    "def plot_word_cloud(wordcloud):\n",
    "    # Set figure size\n",
    "    plt.figure(figsize=(20,10))\n",
    "    # Display image\n",
    "    plt.imshow(wordcloud, interpolation=\"bilinear\") \n",
    "    # No axis details\n",
    "    plt.axis(\"off\")\n",
    "    # Save the image to current local directory\n",
    "    plt.savefig(\"./fig.png\", dpi=300, format=\"png\")\n",
    "    \n",
    "# Add stop words to the list of words to be removed\n",
    "STOPWORDS.add(\"want\")\n",
    "STOPWORDS.add(\"N\")\n",
    "STOPWORDS.add(\"great\")"
   ]
  },
  {
   "cell_type": "code",
   "execution_count": null,
   "metadata": {},
   "outputs": [
    {
     "data": {
      "image/png": "[encoded data removed]",
      "text/plain": [
       "<Figure size 1440x720 with 1 Axes>"
      ]
     },
     "metadata": {
      "needs_background": "light"
     },
     "output_type": "display_data"
    }
   ],
   "source": [
    "# Wordcloud to find the most common words in the reviews with a overall rating above (or equal to) 4 (Positive)\n",
    "df_pos = df[df['overall_rating'] >= 4]\n",
    "\n",
    "columns = [\"job_prospects_desc\", \"course_lecturer_desc\", \"facilities_desc\", \"student_support_desc\", \"local_life_desc\"]\n",
    "\n",
    "# Join together all the comments in the reviews that have a overall rating above (or equal to) 4 (Positive)\n",
    "all_pos_reviews = ' '.join(df_pos[columns].fillna('').sum(axis=1))\n",
    "\n",
    "# Import image to np.array\n",
    "mask = np.array(Image.open('./masking_images/upvote.png'))\n",
    "\n",
    "# Generate word cloud\n",
    "wordcloud1 = WordCloud(width = 1000, height = 1000, random_state=1, background_color='white',\n",
    "                      colormap='rainbow', collocations=False, stopwords = STOPWORDS,\n",
    "                      mask=mask).generate(all_pos_reviews)\n",
    "\n",
    "# Plot the word cloud\n",
    "plot_word_cloud(wordcloud1)"
   ]
  },
  {
   "cell_type": "code",
   "execution_count": null,
   "metadata": {},
   "outputs": [
    {
     "data": {
      "image/png": "[encoded data removed]",
      "text/plain": [
       "<Figure size 1440x720 with 1 Axes>"
      ]
     },
     "metadata": {
      "needs_background": "light"
     },
     "output_type": "display_data"
    }
   ],
   "source": [
    "# Wordcloud to find the most common words in the reviews with a overall rating below 2 (Negative)\n",
    "df_pos = df[df['overall_rating'] < 2]\n",
    "\n",
    "columns = [\"job_prospects_desc\", \"course_lecturer_desc\", \"facilities_desc\", \"student_support_desc\", \"local_life_desc\"]\n",
    "\n",
    "# Join together all the comments in the reviews\n",
    "all_neg_reviews = ' '.join(df_pos[columns].fillna('').sum(axis=1))\n",
    "\n",
    "# Import image to np.array\n",
    "mask = np.array(Image.open('./masking_images/downvote.png'))\n",
    "\n",
    "# Generate word cloud\n",
    "wordcloud2 = WordCloud(width = 1000, height = 1000, random_state=1, background_color='white',\n",
    "                      colormap='rainbow', collocations=False, stopwords = STOPWORDS,\n",
    "                      mask=mask).generate(all_neg_reviews)\n",
    "\n",
    "# Plot the word cloud\n",
    "plot_word_cloud(wordcloud2)"
   ]
  }
 ],
 "metadata": {
  "interpreter": {
   "hash": "aabdcabb1ce183cf2e0b393220d39e588eba15c9156edfaebeefbd82b848687e"
  },
  "kernelspec": {
   "display_name": "Python 3.9.0 64-bit",
   "language": "python",
   "name": "python3"
  },
  "language_info": {
   "codemirror_mode": {
    "name": "ipython",
    "version": 3
   },
   "file_extension": ".py",
   "mimetype": "text/x-python",
   "name": "python",
   "nbconvert_exporter": "python",
   "pygments_lexer": "ipython3",
   "version": "3.9.0"
  },
  "orig_nbformat": 4
 },
 "nbformat": 4,
 "nbformat_minor": 2
}
